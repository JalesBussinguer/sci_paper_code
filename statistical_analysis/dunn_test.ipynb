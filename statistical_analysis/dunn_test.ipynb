{
 "cells": [
  {
   "cell_type": "code",
   "execution_count": 1,
   "metadata": {},
   "outputs": [],
   "source": [
    "import pandas as pd\n",
    "from scikit_posthocs import posthoc_dunn"
   ]
  },
  {
   "cell_type": "code",
   "execution_count": 2,
   "metadata": {},
   "outputs": [],
   "source": [
    "dprvi_f = pd.read_csv('D:/thesis_data/VEG_INDICES/stats/florestalDpRVI_reindex.csv')\n",
    "dprvi_s = pd.read_csv('D:/thesis_data/VEG_INDICES/stats/savanicaDpRVI_reindex.csv')\n",
    "dprvi_c = pd.read_csv('D:/thesis_data/VEG_INDICES/stats/campestreDpRVI_reindex.csv')\n",
    "\n",
    "prvi_f = pd.read_csv('D:/thesis_data/VEG_INDICES/stats/florestalPRVI_reindex.csv')\n",
    "prvi_s = pd.read_csv('D:/thesis_data/VEG_INDICES/stats/savanicaPRVI_reindex.csv')\n",
    "prvi_c = pd.read_csv('D:/thesis_data/VEG_INDICES/stats/campestrePRVI_reindex.csv')\n",
    "\n",
    "dpsvi_f = pd.read_csv('D:/thesis_data/VEG_INDICES/stats/florestalDPSVI_reindex.csv')\n",
    "dpsvi_s = pd.read_csv('D:/thesis_data/VEG_INDICES/stats/savanicaDPSVI_reindex.csv')\n",
    "dpsvi_c = pd.read_csv('D:/thesis_data/VEG_INDICES/stats/campestreDPSVI_reindex.csv')\n",
    "\n",
    "dpsvim_f = pd.read_csv('D:/thesis_data/VEG_INDICES/stats/florestalDPSVIm_reindex.csv')\n",
    "dpsvim_s = pd.read_csv('D:/thesis_data/VEG_INDICES/stats/savanicaDPSVIm_reindex.csv')\n",
    "dpsvim_c = pd.read_csv('D:/thesis_data/VEG_INDICES/stats/campestreDPSVIm_reindex.csv')\n",
    "\n",
    "rvi_f = pd.read_csv('D:/thesis_data/VEG_INDICES/stats/florestalRVI_reindex.csv')\n",
    "rvi_s = pd.read_csv('D:/thesis_data/VEG_INDICES/stats/savanicaRVI_reindex.csv')\n",
    "rvi_c = pd.read_csv('D:/thesis_data/VEG_INDICES/stats/campestreRVI_reindex.csv')"
   ]
  },
  {
   "cell_type": "code",
   "execution_count": 34,
   "metadata": {},
   "outputs": [
    {
     "data": {
      "text/plain": [
       "0      0.551853\n",
       "1      0.562841\n",
       "2      0.552210\n",
       "3      0.539526\n",
       "4      0.568133\n",
       "         ...   \n",
       "144    0.527526\n",
       "145    0.551168\n",
       "146    0.535222\n",
       "147    0.527892\n",
       "148    0.535432\n",
       "Name: median, Length: 149, dtype: float64"
      ]
     },
     "execution_count": 34,
     "metadata": {},
     "output_type": "execute_result"
    }
   ],
   "source": [
    "dprvi_f['median'].values"
   ]
  },
  {
   "cell_type": "code",
   "execution_count": 3,
   "metadata": {},
   "outputs": [
    {
     "data": {
      "text/html": [
       "<div>\n",
       "<style scoped>\n",
       "    .dataframe tbody tr th:only-of-type {\n",
       "        vertical-align: middle;\n",
       "    }\n",
       "\n",
       "    .dataframe tbody tr th {\n",
       "        vertical-align: top;\n",
       "    }\n",
       "\n",
       "    .dataframe thead th {\n",
       "        text-align: right;\n",
       "    }\n",
       "</style>\n",
       "<table border=\"1\" class=\"dataframe\">\n",
       "  <thead>\n",
       "    <tr style=\"text-align: right;\">\n",
       "      <th></th>\n",
       "      <th>1</th>\n",
       "      <th>2</th>\n",
       "      <th>3</th>\n",
       "    </tr>\n",
       "  </thead>\n",
       "  <tbody>\n",
       "    <tr>\n",
       "      <th>1</th>\n",
       "      <td>1.000000e+00</td>\n",
       "      <td>3.669247e-13</td>\n",
       "      <td>0.000022</td>\n",
       "    </tr>\n",
       "    <tr>\n",
       "      <th>2</th>\n",
       "      <td>3.669247e-13</td>\n",
       "      <td>1.000000e+00</td>\n",
       "      <td>0.002508</td>\n",
       "    </tr>\n",
       "    <tr>\n",
       "      <th>3</th>\n",
       "      <td>2.247562e-05</td>\n",
       "      <td>2.507923e-03</td>\n",
       "      <td>1.000000</td>\n",
       "    </tr>\n",
       "  </tbody>\n",
       "</table>\n",
       "</div>"
      ],
      "text/plain": [
       "              1             2         3\n",
       "1  1.000000e+00  3.669247e-13  0.000022\n",
       "2  3.669247e-13  1.000000e+00  0.002508\n",
       "3  2.247562e-05  2.507923e-03  1.000000"
      ]
     },
     "execution_count": 3,
     "metadata": {},
     "output_type": "execute_result"
    }
   ],
   "source": [
    "data = [prvi_f['median'].values, prvi_s['median'].values, prvi_c['median'].values]\n",
    "\n",
    "test = posthoc_dunn(data, val_col='PRVI', p_adjust='hommel')\n",
    "\n",
    "test"
   ]
  },
  {
   "cell_type": "code",
   "execution_count": 4,
   "metadata": {},
   "outputs": [
    {
     "data": {
      "text/html": [
       "<div>\n",
       "<style scoped>\n",
       "    .dataframe tbody tr th:only-of-type {\n",
       "        vertical-align: middle;\n",
       "    }\n",
       "\n",
       "    .dataframe tbody tr th {\n",
       "        vertical-align: top;\n",
       "    }\n",
       "\n",
       "    .dataframe thead th {\n",
       "        text-align: right;\n",
       "    }\n",
       "</style>\n",
       "<table border=\"1\" class=\"dataframe\">\n",
       "  <thead>\n",
       "    <tr style=\"text-align: right;\">\n",
       "      <th></th>\n",
       "      <th>1</th>\n",
       "      <th>2</th>\n",
       "      <th>3</th>\n",
       "    </tr>\n",
       "  </thead>\n",
       "  <tbody>\n",
       "    <tr>\n",
       "      <th>1</th>\n",
       "      <td>True</td>\n",
       "      <td>False</td>\n",
       "      <td>False</td>\n",
       "    </tr>\n",
       "    <tr>\n",
       "      <th>2</th>\n",
       "      <td>False</td>\n",
       "      <td>True</td>\n",
       "      <td>False</td>\n",
       "    </tr>\n",
       "    <tr>\n",
       "      <th>3</th>\n",
       "      <td>False</td>\n",
       "      <td>False</td>\n",
       "      <td>True</td>\n",
       "    </tr>\n",
       "  </tbody>\n",
       "</table>\n",
       "</div>"
      ],
      "text/plain": [
       "       1      2      3\n",
       "1   True  False  False\n",
       "2  False   True  False\n",
       "3  False  False   True"
      ]
     },
     "execution_count": 4,
     "metadata": {},
     "output_type": "execute_result"
    }
   ],
   "source": [
    "test > 0.05"
   ]
  },
  {
   "cell_type": "code",
   "execution_count": null,
   "metadata": {},
   "outputs": [],
   "source": []
  }
 ],
 "metadata": {
  "interpreter": {
   "hash": "6dd1ee125c45ed3e8c3e6d2213edb1a3f04bf43d5b003d646ba47774d97fbc9d"
  },
  "kernelspec": {
   "display_name": "Python 3.8.10 ('GATEC_projects')",
   "language": "python",
   "name": "python3"
  },
  "language_info": {
   "codemirror_mode": {
    "name": "ipython",
    "version": 3
   },
   "file_extension": ".py",
   "mimetype": "text/x-python",
   "name": "python",
   "nbconvert_exporter": "python",
   "pygments_lexer": "ipython3",
   "version": "3.8.10"
  },
  "orig_nbformat": 4
 },
 "nbformat": 4,
 "nbformat_minor": 2
}
