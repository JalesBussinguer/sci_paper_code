{
 "cells": [
  {
   "cell_type": "code",
   "execution_count": 12,
   "metadata": {},
   "outputs": [],
   "source": [
    "from scipy.stats import lognorm\n",
    "import pandas as pd\n",
    "import numpy as np\n",
    "from statistics import NormalDist\n",
    "\n",
    "from math import fabs, erf, sqrt, log"
   ]
  },
  {
   "cell_type": "code",
   "execution_count": 2,
   "metadata": {},
   "outputs": [],
   "source": [
    "def OVL_two_random_arr(arr1, arr2, number_bins):\n",
    "    # Determine the range over which the integration will occur\n",
    "    min_value = np.min((min(arr1), min(arr2)))\n",
    "    max_value = np.min((max(arr1), max(arr2)))\n",
    "    # Determine the bin width\n",
    "    bin_width = (max_value-min_value)/number_bins\n",
    "    #For each bin, find min frequency\n",
    "    lower_bound = min_value #Lower bound of the first bin is the min_value of both arrays\n",
    "    min_arr = np.empty(number_bins) #Array that will collect the min frequency in each bin\n",
    "    for b in range(number_bins):\n",
    "        higher_bound = lower_bound + bin_width #Set the higher bound for the bin\n",
    "        #Determine the share of samples in the interval\n",
    "        freq_arr1 = np.ma.masked_where((arr1<lower_bound)|(arr1>=higher_bound), arr1).count()/len(arr1)\n",
    "        freq_arr2 = np.ma.masked_where((arr2<lower_bound)|(arr2>=higher_bound), arr2).count()/len(arr2)\n",
    "        #Conserve the lower frequency\n",
    "        min_arr[b] = np.min((freq_arr1, freq_arr2))\n",
    "        lower_bound = higher_bound #To move to the next range\n",
    "    return min_arr.sum()"
   ]
  },
  {
   "cell_type": "code",
   "execution_count": 3,
   "metadata": {},
   "outputs": [],
   "source": [
    "class1_path = 'D:/thesis_data/VEG_INDICES/samples/ff_dists/'\n",
    "class2_path = 'D:/thesis_data/VEG_INDICES/samples/fs_dists/'"
   ]
  },
  {
   "cell_type": "code",
   "execution_count": 4,
   "metadata": {},
   "outputs": [],
   "source": [
    "data = {}"
   ]
  },
  {
   "cell_type": "code",
   "execution_count": 5,
   "metadata": {},
   "outputs": [],
   "source": [
    "index_list = ['DpRVI', 'PRVI','DPSVI', 'DPSVIm', 'RVI']"
   ]
  },
  {
   "cell_type": "code",
   "execution_count": 6,
   "metadata": {},
   "outputs": [],
   "source": [
    "output_path = 'D:/thesis_data/VEG_INDICES/ovl/'"
   ]
  },
  {
   "cell_type": "code",
   "execution_count": null,
   "metadata": {},
   "outputs": [],
   "source": []
  }
 ],
 "metadata": {
  "kernelspec": {
   "display_name": "GATEC_projects",
   "language": "python",
   "name": "python3"
  },
  "language_info": {
   "codemirror_mode": {
    "name": "ipython",
    "version": 3
   },
   "file_extension": ".py",
   "mimetype": "text/x-python",
   "name": "python",
   "nbconvert_exporter": "python",
   "pygments_lexer": "ipython3",
   "version": "3.8.16"
  },
  "orig_nbformat": 4
 },
 "nbformat": 4,
 "nbformat_minor": 2
}
