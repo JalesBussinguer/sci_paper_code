{
 "cells": [
  {
   "cell_type": "markdown",
   "id": "offshore-laundry",
   "metadata": {},
   "source": [
    "### Importação das bibliotecas"
   ]
  },
  {
   "cell_type": "code",
   "execution_count": 2,
   "id": "typical-basic",
   "metadata": {},
   "outputs": [
    {
     "name": "stdout",
     "output_type": "stream",
     "text": [
      "Bibliotecas importadas com sucesso!\n"
     ]
    }
   ],
   "source": [
    "# Bibliotecas básicas\n",
    "\n",
    "import numpy as np\n",
    "import matplotlib.pyplot as plt\n",
    "\n",
    "# Módulos do snappy\n",
    "\n",
    "from snappy import ProductIO # Módulo para leitura e escrita de arquivos (produtos)\n",
    "from snappy import HashMap # Java Hashmap, objeto equivalente a um dicionário do Python\n",
    "from snappy import GPF # Graph Processing Framework, utilizado para \"chamar\" os operadores\n",
    "from snappy import jpy # biblioteca que faz a ponte entre o Python e a API em Java\n",
    "from snappy import WKTReader # biblioteca para fazera leitura e conversãod e shapefiles para WKT (Well Known Text)\n",
    "\n",
    "print('Bibliotecas importadas com sucesso!')"
   ]
  },
  {
   "cell_type": "markdown",
   "id": "crazy-karma",
   "metadata": {},
   "source": [
    "### Função para plotagem da imagem:"
   ]
  },
  {
   "cell_type": "code",
   "execution_count": 3,
   "id": "satisfied-frank",
   "metadata": {},
   "outputs": [],
   "source": [
    "def plotBand(data, banda, vmin, vmax):\n",
    "    \n",
    "    \"\"\"\n",
    "    Argumentos:\n",
    "    \n",
    "    data = produto (geralmente uma variável contendo o resultado de algum processamento);\n",
    "    banda = banda utilizada (Amplitude_VH, Intensity_VH, Amplitude_VV, Intensity_VV).\n",
    "    \n",
    "    \"\"\"\n",
    "    \n",
    "    width = data.getSceneRasterWidth() # largura da imagem em pixels\n",
    "    height = data.getSceneRasterHeight() # Altura da imagem em pixels\n",
    "    band = data.getBand(banda) # banda selecionada\n",
    "\n",
    "    band_data = np.zeros(width * height, np.float32) # matriz de zeros a ser populada com os valores dos pixels\n",
    "    band.readPixels(0, 0, width, height, band_data) # leitura dos pixels da imagem e registo na matriz de zeros\n",
    "\n",
    "    band_data.shape = height, width # formatação dos dados da imagem\n",
    "\n",
    "    plt.figure(figsize=(15, 15)) # Tamanho do gráfico\n",
    "    \n",
    "    imgplot = plt.imshow(band_data, cmap=plt.cm.binary, vmin=vmin, vmax=vmax) # Plotagem da imagem com o matplotlib\n",
    "\n",
    "    return imgplot"
   ]
  },
  {
   "cell_type": "code",
   "execution_count": 4,
   "id": "957c10ba",
   "metadata": {},
   "outputs": [],
   "source": [
    "def Op_help(op):\n",
    "    \n",
    "        op_spi = GPF.getDefaultInstance().getOperatorSpiRegistry().getOperatorSpi(op)\n",
    "        print('Operator name: {}'.format(op_spi.getOperatorDescriptor().getName()))\n",
    "        print('Operator alias: {}\\n'.format(op_spi.getOperatorDescriptor().getAlias()))\n",
    "        print('PARAMETERS:\\n')\n",
    "\n",
    "        param_Desc = op_spi.getOperatorDescriptor().getParameterDescriptors()\n",
    "        \n",
    "        for param in param_Desc:\n",
    "            print('{}: {}\\nDefault Value: {}'.format(param.getName(), param.getDescription(), param.getDefaultValue()))\n",
    "            \n",
    "            value_set = param.getValueSet()\n",
    "            print(f'Possible other values: {list(value_set)}\\n')"
   ]
  },
  {
   "cell_type": "code",
   "execution_count": 8,
   "id": "9c1ec80b",
   "metadata": {},
   "outputs": [],
   "source": [
    "def get_georegion_wkt(roi_path):\n",
    "\n",
    "    \"\"\"\n",
    "    Gets the wkt of the region of interest. This wkt is used to subset the imagery.\n",
    "\n",
    "    The roi file must be a GeoJSON file with a geographic coodinate system (ex. EPSG 4326)\n",
    "\n",
    "    Args:\n",
    "    roi_path (string) = path to the roi GeoJSON file\n",
    "    \n",
    "    Returns:\n",
    "        roi wkt (string)\n",
    "    \"\"\" \n",
    "\n",
    "    gdf = gpd.read_file(roi_path, dtype=object)\n",
    "\n",
    "    geom = gdf.geometry.buffer(0.0002).unary_union\n",
    "    bounds = geom.bounds\n",
    "    bbox = Polygon.from_bounds(*bounds)\n",
    "    wkt = bbox.wkt\n",
    "\n",
    "    return wkt"
   ]
  },
  {
   "cell_type": "code",
   "execution_count": 14,
   "id": "b0da3934",
   "metadata": {},
   "outputs": [],
   "source": [
    "import geopandas as gpd\n",
    "from shapely.geometry import Polygon"
   ]
  },
  {
   "cell_type": "code",
   "execution_count": 18,
   "id": "4ab26378",
   "metadata": {},
   "outputs": [
    {
     "name": "stderr",
     "output_type": "stream",
     "text": [
      "C:\\Users\\jales\\anaconda3\\envs\\snappy\\lib\\site-packages\\ipykernel_launcher.py:17: UserWarning: Geometry is in a geographic CRS. Results from 'buffer' are likely incorrect. Use 'GeoSeries.to_crs()' to re-project geometries to a projected CRS before this operation.\n",
      "\n"
     ]
    }
   ],
   "source": [
    "roi_wkt = get_georegion_wkt(\"E:/GATEC/Projeto_01/Dados/Area_projeto/bbox_faz_cach_4326.GEOJSON\")"
   ]
  },
  {
   "cell_type": "code",
   "execution_count": 19,
   "id": "b120d8f4",
   "metadata": {},
   "outputs": [
    {
     "data": {
      "text/plain": [
       "'POLYGON ((-51.33640790587485 -22.54647070814553, -51.33640790587485 -22.48308971286399, -51.27042858769882 -22.48308971286399, -51.27042858769882 -22.54647070814553, -51.33640790587485 -22.54647070814553))'"
      ]
     },
     "execution_count": 19,
     "metadata": {},
     "output_type": "execute_result"
    }
   ],
   "source": [
    "roi_wkt"
   ]
  },
  {
   "cell_type": "code",
   "execution_count": 13,
   "id": "118bd2ed",
   "metadata": {},
   "outputs": [
    {
     "name": "stdout",
     "output_type": "stream",
     "text": [
      "Operator name: org.esa.snap.core.gpf.common.SubsetOp\n",
      "Operator alias: Subset\n",
      "\n",
      "PARAMETERS:\n",
      "\n",
      "bandNames: The list of source bands.\n",
      "Default Value: None\n",
      "Possible other values: []\n",
      "\n",
      "region: The subset region in pixel coordinates.\n",
      "Use the following format: <x>,<y>,<width>,<height>\n",
      "If not given, the entire scene is used. The 'geoRegion' parameter has precedence over this parameter.\n",
      "Default Value: None\n",
      "Possible other values: []\n",
      "\n",
      "referenceBand: The band used to indicate the pixel coordinates.\n",
      "Default Value: None\n",
      "Possible other values: []\n",
      "\n",
      "geoRegion: The subset region in geographical coordinates using WKT-format,\n",
      "e.g. POLYGON((<lon1> <lat1>, <lon2> <lat2>, ..., <lon1> <lat1>))\n",
      "(make sure to quote the option due to spaces in <geometry>).\n",
      "If not given, the entire scene is used.\n",
      "Default Value: None\n",
      "Possible other values: []\n",
      "\n",
      "subSamplingX: The pixel sub-sampling step in X (horizontal image direction)\n",
      "Default Value: 1\n",
      "Possible other values: []\n",
      "\n",
      "subSamplingY: The pixel sub-sampling step in Y (vertical image direction)\n",
      "Default Value: 1\n",
      "Possible other values: []\n",
      "\n",
      "fullSwath: Forces the operator to extend the subset region to the full swath.\n",
      "Default Value: false\n",
      "Possible other values: []\n",
      "\n",
      "tiePointGridNames: The list of tie-point grids name.\n",
      "Default Value: None\n",
      "Possible other values: []\n",
      "\n",
      "copyMetadata: Whether to copy the metadata of the source product.\n",
      "Default Value: false\n",
      "Possible other values: []\n",
      "\n"
     ]
    }
   ],
   "source": [
    "Op_help('Subset')"
   ]
  },
  {
   "cell_type": "markdown",
   "id": "collectible-horror",
   "metadata": {},
   "source": [
    "### Leitura do arquivo (imagem)"
   ]
  },
  {
   "cell_type": "code",
   "execution_count": 9,
   "id": "mature-advancement",
   "metadata": {},
   "outputs": [
    {
     "name": "stdout",
     "output_type": "stream",
     "text": [
      "Product: S1A_IW_GRDH_1SDV_20210924T084533_20210924T084558_039821_04B5E0_DB94\n",
      "Shape: 25960 x 16831 pixels\n",
      "Bands: ['Amplitude_VH', 'Intensity_VH', 'Amplitude_VV', 'Intensity_VV']\n"
     ]
    }
   ],
   "source": [
    "s1_file = 'S1A_IW_GRDH_1SDV_20210924T084533_20210924T084558_039821_04B5E0_DB94'\n",
    "\n",
    "product = ProductIO.readProduct('D:/thesis_data/RAW/GRD/%s.zip' % (s1_file))\n",
    "\n",
    "width = product.getSceneRasterWidth()\n",
    "height = product.getSceneRasterHeight()\n",
    "name = product.getName()\n",
    "band_names = product.getBandNames()\n",
    "\n",
    "print(f'Product: {name}')\n",
    "print(f'Shape: {width} x {height} pixels')\n",
    "print(f'Bands: {list(band_names)}')"
   ]
  },
  {
   "cell_type": "code",
   "execution_count": 10,
   "id": "476e3c2b",
   "metadata": {},
   "outputs": [
    {
     "data": {
      "text/plain": [
       "org.esa.snap.core.datamodel.Product(objectRef=0x0000024803790658)"
      ]
     },
     "execution_count": 10,
     "metadata": {},
     "output_type": "execute_result"
    }
   ],
   "source": [
    "product"
   ]
  },
  {
   "cell_type": "markdown",
   "id": "upper-desktop",
   "metadata": {},
   "source": [
    "### Correção do arquivo de vetores orbitais da imagem"
   ]
  },
  {
   "cell_type": "code",
   "execution_count": null,
   "id": "decimal-booth",
   "metadata": {},
   "outputs": [],
   "source": [
    "# Correção do arquivo de vetores orbitais da imagem\n",
    "\n",
    "parameters = HashMap()\n",
    "\n",
    "GPF.getDefaultInstance().getOperatorSpiRegistry().loadOperatorSpis()\n",
    "\n",
    "parameters.put('orbitType', 'Sentinel Precise (Auto Download)') # Tipo de arquivo de órbita a ser buscado\n",
    "parameters.put('polyDegree', '3') # Grau do polinômio\n",
    "parameters.put('continueOnFail', 'false') # Condição de parada caso haja algo errado\n",
    "\n",
    "S1A_Orb = GPF.createProduct('Apply-Orbit-File', parameters, product) # Geração da imagem corrigida\n",
    "\n",
    "print('Correção do arquivo de órbita: 100%')"
   ]
  },
  {
   "cell_type": "markdown",
   "id": "dress-writer",
   "metadata": {},
   "source": [
    "### Recorte da imagem\n",
    "\n",
    "O recorte da imagem tem por objetivo diminuir o volume de dados a serem processados e, consequentemente, diminuir o tempo de processamento."
   ]
  },
  {
   "cell_type": "code",
   "execution_count": null,
   "id": "plain-barrel",
   "metadata": {},
   "outputs": [],
   "source": [
    "# Fazendo o recorte da imagem\n",
    "\n",
    "x = 0 # coordenada X do canto superior esquerdo\n",
    "y = 9900 # coordenada y do canto superior esquerdo\n",
    "w = product.getSceneRasterWidth() # coordenada x do canto inferior direito\n",
    "h = product.getSceneRasterHeight() # coordenada y do canto inferior direito\n",
    "\n",
    "HashMap = jpy.get_type('java.util.HashMap')\n",
    "GPF.getDefaultInstance().getOperatorSpiRegistry().loadOperatorSpis()\n",
    "\n",
    "# Instanciando os parâmetros\n",
    "params = HashMap()\n",
    "params.put('copyMetadata', True) # Fazer cópia dos metadados\n",
    "params.put('region', \"%s,%s,%s,%s\" % (x, y, w, h)) # região de recorte\n",
    "\n",
    "S1A_Orb_Sub = GPF.createProduct('Subset', params, S1A_Orb) # Geração da imagem recortada\n",
    "\n",
    "print('Recorte da imagem: 100%')"
   ]
  },
  {
   "cell_type": "markdown",
   "id": "automated-runner",
   "metadata": {},
   "source": [
    "Vamos utilizar a banda Intensity_VH para prosseguir com os processamentos. Essa banda contém a intensidade do sinal medido pelo sensor do Sentinel-1."
   ]
  },
  {
   "cell_type": "code",
   "execution_count": null,
   "id": "thermal-vietnam",
   "metadata": {},
   "outputs": [],
   "source": [
    "plotBand(S1A_Orb, 'Intensity_VH', 0, 30000)"
   ]
  },
  {
   "cell_type": "code",
   "execution_count": null,
   "id": "oriental-width",
   "metadata": {
    "scrolled": true
   },
   "outputs": [],
   "source": [
    "band = S1A_Orb_Sub.getBand('Intensity_VH')\n",
    "\n",
    "# Getting the width of the scene\n",
    "width = band.getRasterWidth()\n",
    "print('Largura: {} px'.format(width))\n",
    "\n",
    "# Getting the height of the scene\n",
    "height = band.getRasterHeight()\n",
    "print('Altura: {} px'.format(height))\n",
    "\n",
    "# Getting the dataset name\n",
    "name = band.getName()\n",
    "print('Nome do arquivo: {}'.format(name))"
   ]
  },
  {
   "cell_type": "markdown",
   "id": "material-bahrain",
   "metadata": {},
   "source": [
    "### Calibração radiométrica"
   ]
  },
  {
   "cell_type": "code",
   "execution_count": null,
   "id": "maritime-pavilion",
   "metadata": {},
   "outputs": [],
   "source": [
    "# Conversão dos números digitais da imagem em coeficientes de retroespalhamento (Sigma0_VH)\n",
    "\n",
    "parameters = HashMap()\n",
    "\n",
    "parameters.put('outputSigmaBand', True) # Definição do tipo de conversão\n",
    "parameters.put('sourceBands', 'Intensity_VH') # Definição da banda para Intensity_VH\n",
    "parameters.put('selectedPolarisations', 'VH') # Definição da polarização da banda\n",
    "parameters.put('outputImageScaleInDb', False) # Resultados em escala linear\n",
    "\n",
    "S1A_Orb_Sub_Cal = GPF.createProduct('Calibration', parameters, S1A_Orb_Sub) # Geração do produto radiometricamente calibrado\n",
    "\n",
    "print('Calibração radiométrica: 100%')"
   ]
  },
  {
   "cell_type": "markdown",
   "id": "mighty-saver",
   "metadata": {},
   "source": [
    "Após a calibração radiométrica, a única banda disponível passa a ser a 'Sigma0_VH'."
   ]
  },
  {
   "cell_type": "code",
   "execution_count": null,
   "id": "collective-abuse",
   "metadata": {},
   "outputs": [],
   "source": [
    "band = S1A_Orb_Sub_Cal.getBand('Sigma0_VH')\n",
    "# Getting the width of the scene\n",
    "width = band.getRasterWidth()\n",
    "print('Largura: {} px'.format(width))\n",
    "\n",
    "# Getting the height of the scene\n",
    "height = band.getRasterHeight()\n",
    "print('Altura: {} px'.format(height))\n",
    "\n",
    "# Getting the dataset name\n",
    "name = band.getName()\n",
    "print('Nome do arquivo: {}'.format(name))"
   ]
  },
  {
   "cell_type": "markdown",
   "id": "equal-rates",
   "metadata": {},
   "source": [
    "### Correção Geométrica"
   ]
  },
  {
   "cell_type": "code",
   "execution_count": null,
   "id": "positive-exhibition",
   "metadata": {},
   "outputs": [],
   "source": [
    "# Range Doppler Terrain Correction\n",
    "\n",
    "parameters = HashMap()\n",
    "\n",
    "parameters.put('sourceBands', 'Sigma0_VH')\n",
    "parameters.put('demName', 'SRTM 3Sec')\n",
    "parameters.put('demResamplingMethod', 'BILINEAR_INTERPOLATION')\n",
    "parameters.put('imgResamplingMethod', 'BILINEAR_INTERPOLATION')\n",
    "parameters.put('pixelSpacingInMeter', 10.0)\n",
    "parameters.put('mapProjection', 'EPSG:32721')\n",
    "parameters.put('alignToStandardGrid', 'true')\n",
    "parameters.put('standardGridOriginX', 0.0)\n",
    "parameters.put('standardGridOriginY', 0.0)\n",
    "\n",
    "S1A_Orb_Sub_Cal_Ter = GPF.createProduct('Terrain-Correction', parameters, S1A_Orb_Sub_Cal)\n",
    "\n",
    "print('Correção Geométrica: 100%')"
   ]
  },
  {
   "cell_type": "code",
   "execution_count": null,
   "id": "aggregate-authorization",
   "metadata": {
    "scrolled": true
   },
   "outputs": [],
   "source": [
    "listParams('Terrain-Correction')"
   ]
  },
  {
   "cell_type": "code",
   "execution_count": null,
   "id": "vanilla-plenty",
   "metadata": {},
   "outputs": [],
   "source": [
    "band = S1A_Orb_Sub_Cal_Ter.getBand('Sigma0_VH')\n",
    "\n",
    "# Getting the width of the scene\n",
    "width = band.getRasterWidth()\n",
    "print('Largura: {} px'.format(width))\n",
    "\n",
    "# Getting the height of the scene\n",
    "height = band.getRasterHeight()\n",
    "print('Altura: {} px'.format(height))\n",
    "\n",
    "# Getting the dataset name\n",
    "name = band.getName()\n",
    "print('Nome do arquivo: {}'.format(name))"
   ]
  },
  {
   "cell_type": "markdown",
   "id": "organic-produce",
   "metadata": {},
   "source": [
    "### Filtragem de ruído speckle\n",
    "\n",
    "O filtro utilizado será o filtro de Lee, em um kernel de 3x3 pixels."
   ]
  },
  {
   "cell_type": "code",
   "execution_count": null,
   "id": "bigger-cancellation",
   "metadata": {},
   "outputs": [],
   "source": [
    "# Aplicação do filtro de ruído speckle\n",
    "\n",
    "parameters = HashMap()\n",
    "\n",
    "parameters.put('sourceBands', 'Sigma0_VH')\n",
    "parameters.put('filter', 'Lee')\n",
    "parameters.put('filterSizeX', '3')\n",
    "parameters.put('filterSizeY', '3')\n",
    "parameters.put('dampingFactor', '2')\n",
    "parameters.put('estimateENL', 'true')\n",
    "parameters.put('enl', '1.0')\n",
    "parameters.put('numLooksStr', '1')\n",
    "parameters.put('targetWindowSizeStr', '3x3')\n",
    "parameters.put('sigmaStr', '0.9')\n",
    "parameters.put('anSize', '50')\n",
    "\n",
    "S1A_Orb_Sub_Cal_Ter_Spk = GPF.createProduct('Speckle-Filter', parameters, S1A_Orb_Sub_Cal_Ter)\n",
    "\n",
    "print('Filtagem do ruído speckle: 100%')"
   ]
  },
  {
   "cell_type": "code",
   "execution_count": null,
   "id": "inner-restaurant",
   "metadata": {},
   "outputs": [],
   "source": [
    "band = S1A_Orb_Sub_Cal_Ter_Spk.getBand('Sigma0_VH')\n",
    "\n",
    "# Getting the width of the scene\n",
    "width = band.getRasterWidth()\n",
    "print('Largura: {} px'.format(width))\n",
    "\n",
    "# Getting the height of the scene\n",
    "height = band.getRasterHeight()\n",
    "print('Altura: {} px'.format(height))\n",
    "\n",
    "# Getting the dataset name\n",
    "name = band.getName()\n",
    "print('Nome do arquivo: {}'.format(name))"
   ]
  },
  {
   "cell_type": "markdown",
   "id": "sapphire-ethernet",
   "metadata": {},
   "source": [
    "### Conversão para escala em decibeis"
   ]
  },
  {
   "cell_type": "code",
   "execution_count": null,
   "id": "absolute-investing",
   "metadata": {},
   "outputs": [],
   "source": [
    "# LinearToFromdB\n",
    "\n",
    "parameters = HashMap()\n",
    "\n",
    "parameters.put('sourceBands', 'Sigma0_VH')\n",
    "\n",
    "S1A_Orb_Sub_Cal_Ter_Spk_dB = GPF.createProduct('LinearToFromdB', parameters, S1A_Orb_Sub_Cal_Ter_Spk)\n",
    "\n",
    "print(\"Conversão para dB: 100%\")"
   ]
  },
  {
   "cell_type": "code",
   "execution_count": null,
   "id": "supported-robertson",
   "metadata": {},
   "outputs": [],
   "source": [
    "band = S1A_Orb_Sub_Cal_Ter_Spk_dB.getBand('Sigma0_VH_db')\n",
    "\n",
    "# Getting the width of the scene\n",
    "width = band.getRasterWidth()\n",
    "print('Largura: {} px'.format(width))\n",
    "\n",
    "# Getting the height of the scene\n",
    "height = band.getRasterHeight()\n",
    "print('Altura: {} px'.format(height))\n",
    "\n",
    "# Getting the dataset name\n",
    "name = band.getName()\n",
    "print('Nome do arquivo: {}'.format(name))"
   ]
  },
  {
   "cell_type": "markdown",
   "id": "assisted-feeding",
   "metadata": {},
   "source": [
    "### Salvando a imagem"
   ]
  },
  {
   "cell_type": "code",
   "execution_count": null,
   "id": "welcome-winning",
   "metadata": {},
   "outputs": [],
   "source": [
    "ProductIO.writeProduct(S1A_Orb_Sub_Cal_Ter_Spk_Sub_dB, 'C:/Users/jales/Desktop/S1/S1A_2', 'ENVI')\n",
    "\n",
    "print(\"Imagem salva com sucesso\")"
   ]
  },
  {
   "cell_type": "markdown",
   "id": "loving-intranet",
   "metadata": {},
   "source": [
    "### Importando novamente a imagem"
   ]
  },
  {
   "cell_type": "code",
   "execution_count": null,
   "id": "comprehensive-walnut",
   "metadata": {},
   "outputs": [],
   "source": [
    "# Leitura da imagem salva anteriormente\n",
    "\n",
    "imagem = ProductIO.readProduct('C:/Users/jales/Desktop/S1/S1A_processado/Sigma0_VH_db.hdr')"
   ]
  },
  {
   "cell_type": "code",
   "execution_count": null,
   "id": "placed-moscow",
   "metadata": {},
   "outputs": [],
   "source": [
    "# Getting the width of the scene\n",
    "width = imagem.getSceneRasterWidth()\n",
    "print('Largura: {} px'.format(width))\n",
    "\n",
    "# Getting the height of the scene\n",
    "height = imagem.getSceneRasterHeight()\n",
    "print('Altura: {} px'.format(height))\n",
    "\n",
    "# Getting the dataset name\n",
    "name = imagem.getName()\n",
    "print('Nome do arquivo: {}'.format(name))\n",
    "\n",
    "# Getting the band names in the imagery\n",
    "band_names = imagem.getBandNames()\n",
    "print('Bandas disponíveis para processamento: {}'.format(', '.join(band_names)))"
   ]
  },
  {
   "cell_type": "markdown",
   "id": "exciting-advocate",
   "metadata": {},
   "source": [
    "### Plotando o histograma do produto final"
   ]
  },
  {
   "cell_type": "code",
   "execution_count": null,
   "id": "alien-subscription",
   "metadata": {
    "scrolled": false
   },
   "outputs": [],
   "source": [
    "# Histograma da imagem processada\n",
    "\n",
    "band = imagem.getBand('Sigma0_VH_db')\n",
    "\n",
    "w = imagem.getSceneRasterWidth()\n",
    "h = imagem.getSceneRasterHeight()\n",
    "\n",
    "band_data = np.zeros(w * h, np.float32)\n",
    "band.readPixels(0, 0, w, h, band_data)\n",
    "band_data.shape = h, w\n",
    "\n",
    "histogram = plt.hist(band_data, bins=2600, range=[-31, -5])\n",
    "\n",
    "plt.show()"
   ]
  },
  {
   "cell_type": "code",
   "execution_count": null,
   "id": "modular-magnet",
   "metadata": {},
   "outputs": [],
   "source": [
    "def thresholding(counts, bins):\n",
    "    \n",
    "    x = dict(zip(counts, bins))\n",
    "    \n",
    "    max_global = max(x.keys())\n",
    "    \n",
    "    dict_max_local = {k:v for (k,v) in x.items() if -40 < v < -17}\n",
    "    max_local = max(dict_max_local.keys())\n",
    "    \n",
    "    dict1_cond = {k:v for (k,v) in x.items() if x[max_global] > v > x[max_local]}\n",
    "    \n",
    "    key_threshold = min(dict1_cond.keys())\n",
    "    \n",
    "    return x[key_threshold]"
   ]
  },
  {
   "cell_type": "code",
   "execution_count": null,
   "id": "medium-staff",
   "metadata": {
    "scrolled": true
   },
   "outputs": [],
   "source": [
    "counts = histogram[0]\n",
    "bins = histogram[1]\n",
    "\n",
    "thresholding(counts, bins)"
   ]
  },
  {
   "cell_type": "code",
   "execution_count": null,
   "id": "desperate-fishing",
   "metadata": {},
   "outputs": [],
   "source": [
    "counts"
   ]
  },
  {
   "cell_type": "code",
   "execution_count": null,
   "id": "accompanied-transmission",
   "metadata": {},
   "outputs": [],
   "source": [
    "bins"
   ]
  },
  {
   "cell_type": "code",
   "execution_count": null,
   "id": "comparable-temperature",
   "metadata": {},
   "outputs": [],
   "source": [
    "x = dict(zip(counts, bins))"
   ]
  },
  {
   "cell_type": "code",
   "execution_count": null,
   "id": "located-actress",
   "metadata": {},
   "outputs": [],
   "source": [
    "x"
   ]
  },
  {
   "cell_type": "code",
   "execution_count": null,
   "id": "hispanic-copyright",
   "metadata": {},
   "outputs": [],
   "source": [
    "max_global = max(x.keys())"
   ]
  },
  {
   "cell_type": "code",
   "execution_count": null,
   "id": "statewide-renewal",
   "metadata": {},
   "outputs": [],
   "source": [
    "max_global"
   ]
  },
  {
   "cell_type": "code",
   "execution_count": null,
   "id": "generic-charlotte",
   "metadata": {},
   "outputs": [],
   "source": [
    "dict_max_local = {k:v for (k,v) in x.items() if -40 < v < -17}"
   ]
  },
  {
   "cell_type": "code",
   "execution_count": null,
   "id": "recreational-course",
   "metadata": {},
   "outputs": [],
   "source": [
    "max_local = max(dict_max_local.keys())"
   ]
  },
  {
   "cell_type": "code",
   "execution_count": null,
   "id": "aggregate-therapist",
   "metadata": {},
   "outputs": [],
   "source": [
    "max_local"
   ]
  },
  {
   "cell_type": "code",
   "execution_count": null,
   "id": "executed-masters",
   "metadata": {},
   "outputs": [],
   "source": [
    "x[max_local]"
   ]
  },
  {
   "cell_type": "code",
   "execution_count": null,
   "id": "neural-residence",
   "metadata": {},
   "outputs": [],
   "source": [
    "dict1_cond = {k:v for (k,v) in x.items() if x[max_global] > v > -25}"
   ]
  },
  {
   "cell_type": "code",
   "execution_count": null,
   "id": "shaped-reading",
   "metadata": {},
   "outputs": [],
   "source": [
    "minimo = min(dict1_cond.keys())"
   ]
  },
  {
   "cell_type": "code",
   "execution_count": null,
   "id": "bibliographic-couple",
   "metadata": {},
   "outputs": [],
   "source": [
    "y[minimo]"
   ]
  },
  {
   "cell_type": "code",
   "execution_count": null,
   "id": "1fcad2e3",
   "metadata": {},
   "outputs": [],
   "source": [
    "import geopandas as gpd\n",
    "from shapely.geometry import Polygon"
   ]
  },
  {
   "cell_type": "code",
   "execution_count": null,
   "id": "exterior-intensity",
   "metadata": {},
   "outputs": [],
   "source": [
    "def get_georegion_wkt(roi_path):\n",
    "\n",
    "    \"\"\"\n",
    "    Gets the wkt of the region of interest. This wkt is used to subset the imagery.\n",
    "\n",
    "    The roi file must be a GeoJSON file with a geographic coodinate system (ex. EPSG 4326)\n",
    "\n",
    "    Args:\n",
    "    roi_path (string) = path to the roi GeoJSON file\n",
    "    \n",
    "    Returns:\n",
    "        roi wkt (array)\n",
    "    \"\"\" \n",
    "\n",
    "    gdf = gpd.read_file(roi_path, dtype=object)\n",
    "\n",
    "    geom = gdf.geometry.buffer(0.0002).unary_union\n",
    "    bounds = geom.bounds\n",
    "    bbox = Polygon.from_bounds(*bounds)\n",
    "    wkt = bbox.wkt\n",
    "\n",
    "    return wkt"
   ]
  },
  {
   "cell_type": "code",
   "execution_count": null,
   "id": "73f05c87",
   "metadata": {},
   "outputs": [],
   "source": [
    "wkt = get_georegion_wkt('E:/GATEC/Projeto_01/Dados/Area_projeto/bbox_faz_cach_4326.GEOJSON')"
   ]
  },
  {
   "cell_type": "code",
   "execution_count": null,
   "id": "fd0c9217",
   "metadata": {},
   "outputs": [],
   "source": [
    "wkt"
   ]
  },
  {
   "cell_type": "code",
   "execution_count": null,
   "id": "37c59ed3",
   "metadata": {},
   "outputs": [],
   "source": []
  }
 ],
 "metadata": {
  "kernelspec": {
   "display_name": "Python 3",
   "language": "python",
   "name": "python3"
  },
  "language_info": {
   "codemirror_mode": {
    "name": "ipython",
    "version": 3
   },
   "file_extension": ".py",
   "mimetype": "text/x-python",
   "name": "python",
   "nbconvert_exporter": "python",
   "pygments_lexer": "ipython3",
   "version": "3.6.13"
  }
 },
 "nbformat": 4,
 "nbformat_minor": 5
}
