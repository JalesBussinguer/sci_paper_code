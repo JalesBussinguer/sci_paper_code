{
 "cells": [
  {
   "cell_type": "code",
   "execution_count": 1,
   "id": "e6b85a6b",
   "metadata": {},
   "outputs": [],
   "source": [
    "import pandas as pd\n",
    "import numpy as np\n",
    "# Testes de normalidade\n",
    "from scipy.stats import normaltest\n",
    "# ANOVA\n",
    "from scipy.stats import f_oneway\n",
    "# Teste de Tukey\n",
    "from statsmodels.stats.multicomp import pairwise_tukeyhsd"
   ]
  },
  {
   "cell_type": "markdown",
   "id": "196336fa",
   "metadata": {},
   "source": [
    "## Importação dos dados"
   ]
  },
  {
   "cell_type": "code",
   "execution_count": 2,
   "id": "f41aba90",
   "metadata": {
    "scrolled": false
   },
   "outputs": [],
   "source": [
    "amostras_dry_VH = pd.read_csv('E:/SBSR_data/CSV/amostras_dry_VH.csv', sep=',')\n",
    "amostras_wet_VH = pd.read_csv('E:/SBSR_data/CSV/amostras_wet_VH.csv', sep=',')\n",
    "\n",
    "amostras_dry_VV = pd.read_csv('E:/SBSR_data/CSV/amostras_dry_VV.csv', sep=',')\n",
    "amostras_wet_VV = pd.read_csv('E:/SBSR_data/CSV/amostras_wet_VV.csv', sep=',')"
   ]
  },
  {
   "cell_type": "markdown",
   "id": "b2b49a29",
   "metadata": {},
   "source": [
    "## Testes de normalidade"
   ]
  },
  {
   "cell_type": "markdown",
   "id": "9be1d337",
   "metadata": {},
   "source": [
    "#### Formação Florestal"
   ]
  },
  {
   "cell_type": "code",
   "execution_count": 3,
   "id": "39974e8b",
   "metadata": {},
   "outputs": [
    {
     "name": "stdout",
     "output_type": "stream",
     "text": [
      "estatística = 1.655\n",
      "p-valor = 0.437\n",
      "\n",
      "Com 95% de confiança, os dados são similares a uma distribuição normal\n"
     ]
    },
    {
     "name": "stderr",
     "output_type": "stream",
     "text": [
      "C:\\Users\\jales\\anaconda3\\envs\\snappy\\lib\\site-packages\\scipy\\stats\\stats.py:1604: UserWarning: kurtosistest only valid for n>=20 ... continuing anyway, n=18\n",
      "  \"anyway, n=%i\" % int(n))\n"
     ]
    }
   ],
   "source": [
    "# Teste de normalidade (d'agostino e Pearson)\n",
    "\n",
    "estatistica, p_valor = normaltest(amostras_dry_VH['form_florestal'])\n",
    "\n",
    "print(\"estatística =\", round(estatistica, 3))\n",
    "print(\"p-valor =\", round(p_valor, 3))\n",
    "print()\n",
    "\n",
    "# Estrutura condicional que testará a hipótese nula\n",
    "if p_valor > 0.05:\n",
    "    print(\"Com 95% de confiança, os dados são similares a uma distribuição normal\")\n",
    "else:\n",
    "    print(\"Com 95% de confiança, os dados NÃO são similares a uma distribuição normal\")"
   ]
  },
  {
   "cell_type": "code",
   "execution_count": 4,
   "id": "a24703c4",
   "metadata": {},
   "outputs": [
    {
     "name": "stdout",
     "output_type": "stream",
     "text": [
      "estatística = 3.943\n",
      "p-valor = 0.139\n",
      "\n",
      "Com 95% de confiança, os dados são similares a uma distribuição normal\n"
     ]
    },
    {
     "name": "stderr",
     "output_type": "stream",
     "text": [
      "C:\\Users\\jales\\anaconda3\\envs\\snappy\\lib\\site-packages\\scipy\\stats\\stats.py:1604: UserWarning: kurtosistest only valid for n>=20 ... continuing anyway, n=15\n",
      "  \"anyway, n=%i\" % int(n))\n"
     ]
    }
   ],
   "source": [
    "# Teste de normalidade (d'agostino e Pearson)\n",
    "\n",
    "estatistica, p_valor = normaltest(amostras_wet_VH['form_florestal'])\n",
    "\n",
    "print(\"estatística =\", round(estatistica, 3))\n",
    "print(\"p-valor =\", round(p_valor, 3))\n",
    "print()\n",
    "\n",
    "# Estrutura condicional que testará a hipótese nula\n",
    "if p_valor > 0.05:\n",
    "    print(\"Com 95% de confiança, os dados são similares a uma distribuição normal\")\n",
    "else:\n",
    "    print(\"Com 95% de confiança, os dados NÃO são similares a uma distribuição normal\")"
   ]
  },
  {
   "cell_type": "code",
   "execution_count": 5,
   "id": "df31405e",
   "metadata": {},
   "outputs": [
    {
     "name": "stdout",
     "output_type": "stream",
     "text": [
      "estatística = 1.959\n",
      "p-valor = 0.376\n",
      "\n",
      "Com 95% de confiança, os dados são similares a uma distribuição normal\n"
     ]
    },
    {
     "name": "stderr",
     "output_type": "stream",
     "text": [
      "C:\\Users\\jales\\anaconda3\\envs\\snappy\\lib\\site-packages\\scipy\\stats\\stats.py:1604: UserWarning: kurtosistest only valid for n>=20 ... continuing anyway, n=18\n",
      "  \"anyway, n=%i\" % int(n))\n"
     ]
    }
   ],
   "source": [
    "# Teste de normalidade (d'agostino e Pearson)\n",
    "\n",
    "estatistica, p_valor = normaltest(amostras_dry_VV['form_florestal'])\n",
    "\n",
    "print(\"estatística =\", round(estatistica, 3))\n",
    "print(\"p-valor =\", round(p_valor, 3))\n",
    "print()\n",
    "\n",
    "# Estrutura condicional que testará a hipótese nula\n",
    "if p_valor > 0.05:\n",
    "    print(\"Com 95% de confiança, os dados são similares a uma distribuição normal\")\n",
    "else:\n",
    "    print(\"Com 95% de confiança, os dados NÃO são similares a uma distribuição normal\")"
   ]
  },
  {
   "cell_type": "code",
   "execution_count": 6,
   "id": "e383fe87",
   "metadata": {},
   "outputs": [
    {
     "name": "stdout",
     "output_type": "stream",
     "text": [
      "estatística = 1.75\n",
      "p-valor = 0.417\n",
      "\n",
      "Com 95% de confiança, os dados são similares a uma distribuição normal\n"
     ]
    },
    {
     "name": "stderr",
     "output_type": "stream",
     "text": [
      "C:\\Users\\jales\\anaconda3\\envs\\snappy\\lib\\site-packages\\scipy\\stats\\stats.py:1604: UserWarning: kurtosistest only valid for n>=20 ... continuing anyway, n=15\n",
      "  \"anyway, n=%i\" % int(n))\n"
     ]
    }
   ],
   "source": [
    "# Teste de normalidade (d'agostino e Pearson)\n",
    "\n",
    "estatistica, p_valor = normaltest(amostras_wet_VV['form_florestal'])\n",
    "\n",
    "print(\"estatística =\", round(estatistica, 3))\n",
    "print(\"p-valor =\", round(p_valor, 3))\n",
    "print()\n",
    "\n",
    "# Estrutura condicional que testará a hipótese nula\n",
    "if p_valor > 0.05:\n",
    "    print(\"Com 95% de confiança, os dados são similares a uma distribuição normal\")\n",
    "else:\n",
    "    print(\"Com 95% de confiança, os dados NÃO são similares a uma distribuição normal\")"
   ]
  },
  {
   "cell_type": "markdown",
   "id": "bd60841c",
   "metadata": {},
   "source": [
    "#### Formação Savânica"
   ]
  },
  {
   "cell_type": "code",
   "execution_count": 7,
   "id": "aa7bd2f2",
   "metadata": {},
   "outputs": [
    {
     "name": "stdout",
     "output_type": "stream",
     "text": [
      "estatística = 2.807\n",
      "p-valor = 0.246\n",
      "\n",
      "Com 95% de confiança, os dados são similares a uma distribuição normal\n"
     ]
    },
    {
     "name": "stderr",
     "output_type": "stream",
     "text": [
      "C:\\Users\\jales\\anaconda3\\envs\\snappy\\lib\\site-packages\\scipy\\stats\\stats.py:1604: UserWarning: kurtosistest only valid for n>=20 ... continuing anyway, n=18\n",
      "  \"anyway, n=%i\" % int(n))\n"
     ]
    }
   ],
   "source": [
    "# Teste de normalidade (d'agostino e Pearson)\n",
    "\n",
    "estatistica, p_valor = normaltest(amostras_dry_VH['form_savanica'])\n",
    "\n",
    "print(\"estatística =\", round(estatistica, 3))\n",
    "print(\"p-valor =\", round(p_valor, 3))\n",
    "print()\n",
    "\n",
    "# Estrutura condicional que testará a hipótese nula\n",
    "if p_valor > 0.05:\n",
    "    print(\"Com 95% de confiança, os dados são similares a uma distribuição normal\")\n",
    "else:\n",
    "    print(\"Com 95% de confiança, os dados NÃO são similares a uma distribuição normal\")"
   ]
  },
  {
   "cell_type": "code",
   "execution_count": 8,
   "id": "5f95b1a0",
   "metadata": {},
   "outputs": [
    {
     "name": "stdout",
     "output_type": "stream",
     "text": [
      "estatística = 3.802\n",
      "p-valor = 0.149\n",
      "\n",
      "Com 95% de confiança, os dados são similares a uma distribuição normal\n"
     ]
    },
    {
     "name": "stderr",
     "output_type": "stream",
     "text": [
      "C:\\Users\\jales\\anaconda3\\envs\\snappy\\lib\\site-packages\\scipy\\stats\\stats.py:1604: UserWarning: kurtosistest only valid for n>=20 ... continuing anyway, n=15\n",
      "  \"anyway, n=%i\" % int(n))\n"
     ]
    }
   ],
   "source": [
    "# Teste de normalidade (d'agostino e Pearson)\n",
    "\n",
    "estatistica, p_valor = normaltest(amostras_wet_VH['form_savanica'])\n",
    "\n",
    "print(\"estatística =\", round(estatistica, 3))\n",
    "print(\"p-valor =\", round(p_valor, 3))\n",
    "print()\n",
    "\n",
    "# Estrutura condicional que testará a hipótese nula\n",
    "if p_valor > 0.05:\n",
    "    print(\"Com 95% de confiança, os dados são similares a uma distribuição normal\")\n",
    "else:\n",
    "    print(\"Com 95% de confiança, os dados NÃO são similares a uma distribuição normal\")"
   ]
  },
  {
   "cell_type": "code",
   "execution_count": 9,
   "id": "acb85b64",
   "metadata": {},
   "outputs": [
    {
     "name": "stdout",
     "output_type": "stream",
     "text": [
      "estatística = 1.622\n",
      "p-valor = 0.444\n",
      "\n",
      "Com 95% de confiança, os dados são similares a uma distribuição normal\n"
     ]
    },
    {
     "name": "stderr",
     "output_type": "stream",
     "text": [
      "C:\\Users\\jales\\anaconda3\\envs\\snappy\\lib\\site-packages\\scipy\\stats\\stats.py:1604: UserWarning: kurtosistest only valid for n>=20 ... continuing anyway, n=18\n",
      "  \"anyway, n=%i\" % int(n))\n"
     ]
    }
   ],
   "source": [
    "# Teste de normalidade (d'agostino e Pearson)\n",
    "\n",
    "estatistica, p_valor = normaltest(amostras_dry_VV['form_savanica'])\n",
    "\n",
    "print(\"estatística =\", round(estatistica, 3))\n",
    "print(\"p-valor =\", round(p_valor, 3))\n",
    "print()\n",
    "\n",
    "# Estrutura condicional que testará a hipótese nula\n",
    "if p_valor > 0.05:\n",
    "    print(\"Com 95% de confiança, os dados são similares a uma distribuição normal\")\n",
    "else:\n",
    "    print(\"Com 95% de confiança, os dados NÃO são similares a uma distribuição normal\")"
   ]
  },
  {
   "cell_type": "code",
   "execution_count": 10,
   "id": "15406e41",
   "metadata": {},
   "outputs": [
    {
     "name": "stdout",
     "output_type": "stream",
     "text": [
      "estatística = 1.104\n",
      "p-valor = 0.576\n",
      "\n",
      "Com 95% de confiança, os dados são similares a uma distribuição normal\n"
     ]
    },
    {
     "name": "stderr",
     "output_type": "stream",
     "text": [
      "C:\\Users\\jales\\anaconda3\\envs\\snappy\\lib\\site-packages\\scipy\\stats\\stats.py:1604: UserWarning: kurtosistest only valid for n>=20 ... continuing anyway, n=15\n",
      "  \"anyway, n=%i\" % int(n))\n"
     ]
    }
   ],
   "source": [
    "# Teste de normalidade (d'agostino e Pearson)\n",
    "\n",
    "estatistica, p_valor = normaltest(amostras_wet_VV['form_savanica'])\n",
    "\n",
    "print(\"estatística =\", round(estatistica, 3))\n",
    "print(\"p-valor =\", round(p_valor, 3))\n",
    "print()\n",
    "\n",
    "# Estrutura condicional que testará a hipótese nula\n",
    "if p_valor > 0.05:\n",
    "    print(\"Com 95% de confiança, os dados são similares a uma distribuição normal\")\n",
    "else:\n",
    "    print(\"Com 95% de confiança, os dados NÃO são similares a uma distribuição normal\")"
   ]
  },
  {
   "cell_type": "markdown",
   "id": "391ba57a",
   "metadata": {},
   "source": [
    "#### Formação Campestre"
   ]
  },
  {
   "cell_type": "code",
   "execution_count": 11,
   "id": "e99aacce",
   "metadata": {},
   "outputs": [
    {
     "name": "stdout",
     "output_type": "stream",
     "text": [
      "estatística = 2.159\n",
      "p-valor = 0.34\n",
      "\n",
      "Com 95% de confiança, os dados são similares a uma distribuição normal\n"
     ]
    },
    {
     "name": "stderr",
     "output_type": "stream",
     "text": [
      "C:\\Users\\jales\\anaconda3\\envs\\snappy\\lib\\site-packages\\scipy\\stats\\stats.py:1604: UserWarning: kurtosistest only valid for n>=20 ... continuing anyway, n=18\n",
      "  \"anyway, n=%i\" % int(n))\n"
     ]
    }
   ],
   "source": [
    "# Teste de normalidade (d'agostino e Pearson)\n",
    "\n",
    "estatistica, p_valor = normaltest(amostras_dry_VH['form_campestre'])\n",
    "\n",
    "print(\"estatística =\", round(estatistica, 3))\n",
    "print(\"p-valor =\", round(p_valor, 3))\n",
    "print()\n",
    "\n",
    "# Estrutura condicional que testará a hipótese nula\n",
    "if p_valor > 0.05:\n",
    "    print(\"Com 95% de confiança, os dados são similares a uma distribuição normal\")\n",
    "else:\n",
    "    print(\"Com 95% de confiança, os dados NÃO são similares a uma distribuição normal\")"
   ]
  },
  {
   "cell_type": "code",
   "execution_count": 12,
   "id": "2dde3d2e",
   "metadata": {},
   "outputs": [
    {
     "name": "stdout",
     "output_type": "stream",
     "text": [
      "estatística = 2.362\n",
      "p-valor = 0.307\n",
      "\n",
      "Com 95% de confiança, os dados são similares a uma distribuição normal\n"
     ]
    },
    {
     "name": "stderr",
     "output_type": "stream",
     "text": [
      "C:\\Users\\jales\\anaconda3\\envs\\snappy\\lib\\site-packages\\scipy\\stats\\stats.py:1604: UserWarning: kurtosistest only valid for n>=20 ... continuing anyway, n=15\n",
      "  \"anyway, n=%i\" % int(n))\n"
     ]
    }
   ],
   "source": [
    "# Teste de normalidade (d'agostino e Pearson)\n",
    "\n",
    "estatistica, p_valor = normaltest(amostras_wet_VH['form_campestre'])\n",
    "\n",
    "print(\"estatística =\", round(estatistica, 3))\n",
    "print(\"p-valor =\", round(p_valor, 3))\n",
    "print()\n",
    "\n",
    "# Estrutura condicional que testará a hipótese nula\n",
    "if p_valor > 0.05:\n",
    "    print(\"Com 95% de confiança, os dados são similares a uma distribuição normal\")\n",
    "else:\n",
    "    print(\"Com 95% de confiança, os dados NÃO são similares a uma distribuição normal\")"
   ]
  },
  {
   "cell_type": "code",
   "execution_count": 13,
   "id": "5c3a520f",
   "metadata": {},
   "outputs": [
    {
     "name": "stdout",
     "output_type": "stream",
     "text": [
      "estatística = 2.232\n",
      "p-valor = 0.328\n",
      "\n",
      "Com 95% de confiança, os dados são similares a uma distribuição normal\n"
     ]
    },
    {
     "name": "stderr",
     "output_type": "stream",
     "text": [
      "C:\\Users\\jales\\anaconda3\\envs\\snappy\\lib\\site-packages\\scipy\\stats\\stats.py:1604: UserWarning: kurtosistest only valid for n>=20 ... continuing anyway, n=18\n",
      "  \"anyway, n=%i\" % int(n))\n"
     ]
    }
   ],
   "source": [
    "# Teste de normalidade (d'agostino e Pearson)\n",
    "\n",
    "estatistica, p_valor = normaltest(amostras_dry_VV['form_campestre'])\n",
    "\n",
    "print(\"estatística =\", round(estatistica, 3))\n",
    "print(\"p-valor =\", round(p_valor, 3))\n",
    "print()\n",
    "\n",
    "# Estrutura condicional que testará a hipótese nula\n",
    "if p_valor > 0.05:\n",
    "    print(\"Com 95% de confiança, os dados são similares a uma distribuição normal\")\n",
    "else:\n",
    "    print(\"Com 95% de confiança, os dados NÃO são similares a uma distribuição normal\")"
   ]
  },
  {
   "cell_type": "code",
   "execution_count": 14,
   "id": "a87edfd7",
   "metadata": {},
   "outputs": [
    {
     "name": "stdout",
     "output_type": "stream",
     "text": [
      "estatística = 1.922\n",
      "p-valor = 0.383\n",
      "\n",
      "Com 95% de confiança, os dados são similares a uma distribuição normal\n"
     ]
    },
    {
     "name": "stderr",
     "output_type": "stream",
     "text": [
      "C:\\Users\\jales\\anaconda3\\envs\\snappy\\lib\\site-packages\\scipy\\stats\\stats.py:1604: UserWarning: kurtosistest only valid for n>=20 ... continuing anyway, n=15\n",
      "  \"anyway, n=%i\" % int(n))\n"
     ]
    }
   ],
   "source": [
    "# Teste de normalidade (d'agostino e Pearson)\n",
    "\n",
    "estatistica, p_valor = normaltest(amostras_wet_VV['form_campestre'])\n",
    "\n",
    "print(\"estatística =\", round(estatistica, 3))\n",
    "print(\"p-valor =\", round(p_valor, 3))\n",
    "print()\n",
    "\n",
    "# Estrutura condicional que testará a hipótese nula\n",
    "if p_valor > 0.05:\n",
    "    print(\"Com 95% de confiança, os dados são similares a uma distribuição normal\")\n",
    "else:\n",
    "    print(\"Com 95% de confiança, os dados NÃO são similares a uma distribuição normal\")"
   ]
  },
  {
   "cell_type": "markdown",
   "id": "e2363b35",
   "metadata": {},
   "source": [
    "## ANOVA"
   ]
  },
  {
   "cell_type": "markdown",
   "id": "728e6d4b",
   "metadata": {},
   "source": [
    "- H0: As médias são iguais\n",
    "- H1: As médias são diferentes\n",
    "\n",
    "p-valor = probabilidade de as médias serem iguais"
   ]
  },
  {
   "cell_type": "markdown",
   "id": "7c6c3a79",
   "metadata": {},
   "source": [
    "### VH"
   ]
  },
  {
   "cell_type": "code",
   "execution_count": 15,
   "id": "9ebce329",
   "metadata": {},
   "outputs": [],
   "source": [
    "form_florestal_dry_VH = amostras_dry_VH['form_florestal']\n",
    "form_savanica_dry_VH = amostras_dry_VH['form_savanica']\n",
    "form_campestre_dry_VH = amostras_dry_VH['form_campestre']\n",
    "\n",
    "form_florestal_wet_VH = amostras_wet_VH['form_florestal']\n",
    "form_savanica_wet_VH = amostras_wet_VH['form_savanica']\n",
    "form_campestre_wet_VH = amostras_wet_VH['form_campestre']"
   ]
  },
  {
   "cell_type": "code",
   "execution_count": 28,
   "id": "831f9a09",
   "metadata": {},
   "outputs": [
    {
     "name": "stdout",
     "output_type": "stream",
     "text": [
      "O valor da estatística é: 25.445\n",
      "O p-valor é: 2.1662110972003187e-08\n",
      "\n",
      "Os valores médios em cada grupo não são iguais\n"
     ]
    }
   ],
   "source": [
    "ANOVA_dry_VH_est, ANOVA_dry_VH_pvalue  = f_oneway(form_florestal_dry_VH, form_savanica_dry_VH, form_campestre_dry_VH)\n",
    "\n",
    "print(\"O valor da estatística é:\", round(ANOVA_dry_VH_est, 3))\n",
    "print(\"O p-valor é:\", ANOVA_dry_VH_pvalue)\n",
    "print()\n",
    "\n",
    "# Estrutura condicional que testará a hipótese nula\n",
    "if ANOVA_dry_VH_pvalue < 0.05:\n",
    "    print(\"Os valores médios em cada grupo não são iguais\")\n",
    "else:\n",
    "    print(\"Os valores médios em cada grupo são iguais\")"
   ]
  },
  {
   "cell_type": "code",
   "execution_count": 29,
   "id": "22ac9489",
   "metadata": {},
   "outputs": [
    {
     "name": "stdout",
     "output_type": "stream",
     "text": [
      "O valor da estatística é: 5.461\n",
      "O p-valor é: 0.007798217271782187\n",
      "\n",
      "Os valores médios em cada grupo não são iguais\n"
     ]
    }
   ],
   "source": [
    "ANOVA_wet_VH_est, ANOVA_wet_VH_pvalue = f_oneway(form_florestal_wet_VH, form_savanica_wet_VH, form_campestre_wet_VH)\n",
    "\n",
    "print(\"O valor da estatística é:\", round(ANOVA_wet_VH_est, 3))\n",
    "print(\"O p-valor é:\", ANOVA_wet_VH_pvalue)\n",
    "print()\n",
    "\n",
    "# Estrutura condicional que testará a hipótese nula\n",
    "if ANOVA_wet_VH_pvalue < 0.05:\n",
    "    print(\"Os valores médios em cada grupo não são iguais\")\n",
    "else:\n",
    "    print(\"Os valores médios em cada grupo são iguais\")"
   ]
  },
  {
   "cell_type": "markdown",
   "id": "71b4b4a9",
   "metadata": {},
   "source": [
    "### VV"
   ]
  },
  {
   "cell_type": "code",
   "execution_count": 18,
   "id": "6ffd36e9",
   "metadata": {},
   "outputs": [],
   "source": [
    "form_florestal_dry_VV = amostras_dry_VV['form_florestal']\n",
    "form_savanica_dry_VV = amostras_dry_VV['form_savanica']\n",
    "form_campestre_dry_VV = amostras_dry_VV['form_campestre']\n",
    "\n",
    "form_florestal_wet_VV = amostras_wet_VV['form_florestal']\n",
    "form_savanica_wet_VV = amostras_wet_VV['form_savanica']\n",
    "form_campestre_wet_VV = amostras_wet_VV['form_campestre']"
   ]
  },
  {
   "cell_type": "code",
   "execution_count": 31,
   "id": "308f9e94",
   "metadata": {},
   "outputs": [
    {
     "name": "stdout",
     "output_type": "stream",
     "text": [
      "O valor da estatística é: 42.93\n",
      "O p-valor é: 1.1693635924757516e-11\n",
      "\n",
      "Os valores médios em cada grupo não são iguais\n"
     ]
    }
   ],
   "source": [
    "ANOVA_dry_VV_est, ANOVA_dry_VV_pvalue = f_oneway(form_florestal_dry_VV, form_savanica_dry_VV, form_campestre_dry_VV)\n",
    "\n",
    "print(\"O valor da estatística é:\", round(ANOVA_dry_VV_est, 2))\n",
    "print(\"O p-valor é:\", ANOVA_dry_VV_pvalue)\n",
    "print()\n",
    "\n",
    "# Estrutura condicional que testará a hipótese nula\n",
    "if ANOVA_dry_VV_pvalue < 0.05:\n",
    "    print(\"Os valores médios em cada grupo não são iguais\")\n",
    "else:\n",
    "    print(\"Os valores médios em cada grupo são iguais\")"
   ]
  },
  {
   "cell_type": "code",
   "execution_count": 33,
   "id": "67ef2f02",
   "metadata": {},
   "outputs": [
    {
     "name": "stdout",
     "output_type": "stream",
     "text": [
      "O valor da estatística é: 16.07\n",
      "O p-valor é: 6.571743212027344e-06\n",
      "\n",
      "Os valores médios em cada grupo não são iguais\n"
     ]
    }
   ],
   "source": [
    "ANOVA_wet_VV_est, ANOVA_wet_VV_pvalue = f_oneway(form_florestal_wet_VV, form_savanica_wet_VV, form_campestre_wet_VV)\n",
    "\n",
    "print(\"O valor da estatística é:\", round(ANOVA_wet_VV_est, 2))\n",
    "print(\"O p-valor é:\", ANOVA_wet_VV_pvalue)\n",
    "print()\n",
    "\n",
    "# Estrutura condicional que testará a hipótese nula\n",
    "if ANOVA_wet_VV_pvalue < 0.05:\n",
    "    print(\"Os valores médios em cada grupo não são iguais\")\n",
    "else:\n",
    "    print(\"Os valores médios em cada grupo são iguais\")"
   ]
  },
  {
   "cell_type": "markdown",
   "id": "f99c68c6",
   "metadata": {},
   "source": [
    "## Teste de Tukey"
   ]
  },
  {
   "cell_type": "markdown",
   "id": "069cb81d",
   "metadata": {},
   "source": [
    "- H0: Não há diferença estatística significante entre as médias dos dados\n",
    "- H1: Há diferença estatística significante entre as médias dos dados"
   ]
  },
  {
   "cell_type": "code",
   "execution_count": 21,
   "id": "b4d03038",
   "metadata": {},
   "outputs": [],
   "source": [
    "amostras_dry_VH_tukey = pd.read_csv('E:/SBSR_data/CSV/amostras_dry_VH_tukey.csv', sep=',')\n",
    "amostras_wet_VH_tukey = pd.read_csv('E:/SBSR_data/CSV/amostras_wet_VH_tukey.csv', sep=',')\n",
    "\n",
    "amostras_dry_VV_tukey = pd.read_csv('E:/SBSR_data/CSV/amostras_dry_VV_tukey.csv', sep=',')\n",
    "amostras_wet_VV_tukey = pd.read_csv('E:/SBSR_data/CSV/amostras_wet_VV_tukey.csv', sep=',')"
   ]
  },
  {
   "cell_type": "code",
   "execution_count": 22,
   "id": "95356675",
   "metadata": {},
   "outputs": [
    {
     "name": "stdout",
     "output_type": "stream",
     "text": [
      "        Multiple Comparison of Means - Tukey HSD, FWER=0.05         \n",
      "====================================================================\n",
      "    group1         group2     meandiff p-adj   lower   upper  reject\n",
      "--------------------------------------------------------------------\n",
      "form_campestre form_florestal   2.0124  0.001  1.3314  2.6934   True\n",
      "form_campestre  form_savanica   0.9938 0.0026  0.3128  1.6748   True\n",
      "form_florestal  form_savanica  -1.0186  0.002 -1.6996 -0.3376   True\n",
      "--------------------------------------------------------------------\n"
     ]
    }
   ],
   "source": [
    "dry_VH_tukey = pairwise_tukeyhsd(endog=amostras_dry_VH_tukey['mediana'],\n",
    "                          groups=amostras_dry_VH_tukey['classe'],\n",
    "                          alpha=0.05)\n",
    "print(dry_VH_tukey)"
   ]
  },
  {
   "cell_type": "code",
   "execution_count": 23,
   "id": "da2e53b0",
   "metadata": {},
   "outputs": [
    {
     "name": "stdout",
     "output_type": "stream",
     "text": [
      "        Multiple Comparison of Means - Tukey HSD, FWER=0.05        \n",
      "===================================================================\n",
      "    group1         group2     meandiff p-adj   lower  upper  reject\n",
      "-------------------------------------------------------------------\n",
      "form_campestre form_florestal   1.1996 0.0054  0.3177 2.0814   True\n",
      "form_campestre  form_savanica   0.6103 0.2244 -0.2716 1.4922  False\n",
      "form_florestal  form_savanica  -0.5892 0.2474 -1.4711 0.2926  False\n",
      "-------------------------------------------------------------------\n"
     ]
    }
   ],
   "source": [
    "wet_VH_tukey = pairwise_tukeyhsd(endog=amostras_wet_VH_tukey['mediana'],\n",
    "                          groups=amostras_wet_VH_tukey['classe'],\n",
    "                          alpha=0.05)\n",
    "print(wet_VH_tukey)"
   ]
  },
  {
   "cell_type": "code",
   "execution_count": 24,
   "id": "9c6c07e2",
   "metadata": {},
   "outputs": [
    {
     "name": "stdout",
     "output_type": "stream",
     "text": [
      "        Multiple Comparison of Means - Tukey HSD, FWER=0.05        \n",
      "===================================================================\n",
      "    group1         group2     meandiff p-adj  lower   upper  reject\n",
      "-------------------------------------------------------------------\n",
      "form_campestre form_florestal   2.3352 0.001  1.7264   2.944   True\n",
      "form_campestre  form_savanica   1.2456 0.001  0.6368  1.8544   True\n",
      "form_florestal  form_savanica  -1.0896 0.001 -1.6984 -0.4808   True\n",
      "-------------------------------------------------------------------\n"
     ]
    }
   ],
   "source": [
    "dry_VV_tukey = pairwise_tukeyhsd(endog=amostras_dry_VV_tukey['mediana'],\n",
    "                          groups=amostras_dry_VV_tukey['classe'],\n",
    "                          alpha=0.05)\n",
    "print(dry_VV_tukey)"
   ]
  },
  {
   "cell_type": "code",
   "execution_count": 25,
   "id": "7bf8fd21",
   "metadata": {},
   "outputs": [
    {
     "name": "stdout",
     "output_type": "stream",
     "text": [
      "        Multiple Comparison of Means - Tukey HSD, FWER=0.05         \n",
      "====================================================================\n",
      "    group1         group2     meandiff p-adj   lower   upper  reject\n",
      "--------------------------------------------------------------------\n",
      "form_campestre form_florestal   1.6672  0.001  0.9522  2.3823   True\n",
      "form_campestre  form_savanica   0.8889 0.0117  0.1739  1.6039   True\n",
      "form_florestal  form_savanica  -0.7783 0.0302 -1.4933 -0.0633   True\n",
      "--------------------------------------------------------------------\n"
     ]
    }
   ],
   "source": [
    "wet_VV_tukey = pairwise_tukeyhsd(endog=amostras_wet_VV_tukey['mediana'],\n",
    "                          groups=amostras_wet_VV_tukey['classe'],\n",
    "                          alpha=0.05)\n",
    "print(wet_VV_tukey)"
   ]
  }
 ],
 "metadata": {
  "kernelspec": {
   "display_name": "Python 3",
   "language": "python",
   "name": "python3"
  },
  "language_info": {
   "codemirror_mode": {
    "name": "ipython",
    "version": 3
   },
   "file_extension": ".py",
   "mimetype": "text/x-python",
   "name": "python",
   "nbconvert_exporter": "python",
   "pygments_lexer": "ipython3",
   "version": "3.6.13"
  }
 },
 "nbformat": 4,
 "nbformat_minor": 5
}
