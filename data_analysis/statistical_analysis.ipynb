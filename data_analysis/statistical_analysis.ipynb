{
 "cells": [
  {
   "cell_type": "code",
   "execution_count": 1,
   "metadata": {},
   "outputs": [],
   "source": [
    "import matplotlib.pyplot as plt\n",
    "import pandas as pd\n",
    "import numpy as np\n",
    "\n",
    "from scipy.stats import chi2\n",
    "from scipy.special import psi\n",
    "from math import log\n",
    "\n",
    "from scipy.stats import gamma\n",
    "from scipy.stats import lognorm\n",
    "from fitter import Fitter"
   ]
  },
  {
   "cell_type": "code",
   "execution_count": 20,
   "metadata": {},
   "outputs": [],
   "source": [
    "data_ff = pd.read_csv('D:/thesis_data/VEG_INDICES/samples/stratified/florestal/20m/FF_20170112_20m_patches.csv')\n",
    "data_fs = pd.read_csv('D:/thesis_data/VEG_INDICES/samples/stratified/savanica/20m/FS_20170112_20m_patches.csv')"
   ]
  },
  {
   "cell_type": "code",
   "execution_count": 22,
   "metadata": {},
   "outputs": [
    {
     "data": {
      "text/plain": [
       "400"
      ]
     },
     "execution_count": 22,
     "metadata": {},
     "output_type": "execute_result"
    }
   ],
   "source": [
    "len(data_ff.index)"
   ]
  },
  {
   "cell_type": "code",
   "execution_count": 23,
   "metadata": {},
   "outputs": [],
   "source": [
    "dprvi_patches = data_ff.filter(regex='^dprvi_patch', axis=1)\n",
    "prvi_patches = data_ff.filter(regex='^prvi_patch', axis=1)\n",
    "dpsvi_patches = data_ff.filter(regex='^dpsvi_patch', axis=1)\n",
    "dpsvim_patches = data_ff.filter(regex='^dpsvim_patch', axis=1)\n",
    "rvi_patches = data_ff.filter(regex='^rvi_patch', axis=1)"
   ]
  },
  {
   "cell_type": "code",
   "execution_count": 17,
   "metadata": {},
   "outputs": [
    {
     "name": "stdout",
     "output_type": "stream",
     "text": [
      "16965.93826297461 0.0008636142191046519\n",
      "563.682308680796 0.00454204539485575\n",
      "445.4884006843422 0.005905609112153123\n",
      "44.627056550816434 0.022710747249336895\n",
      "19.618511110969155 0.023818852439832176\n",
      "901.7839742833357 0.004891224395929809\n",
      "7.056791473558934 0.060449240727272716\n",
      "8.337282855467759 0.044016683326323094\n",
      "803.8313692670145 0.004479705101992321\n",
      "793.3506987325054 0.004446598358451645\n",
      "778.7609835190767 0.006562604216656005\n",
      "7615.935157879487 0.0014086709690222209\n",
      "5191.78804945013 0.0015653065537209977\n",
      "335.7401244704822 0.005634952140960093\n",
      "9603.39544861072 0.0012245276925418663\n",
      "15.330081517872884 0.02901224046662808\n",
      "330.80962793907565 0.00648574349996605\n",
      "8.168077528892493 0.04369316553483167\n",
      "79.72795004569981 0.01132966550189242\n",
      "661.3761172228428 0.004222033218872608\n",
      "14.378592963023163 0.02379823782004413\n",
      "184.7883467873761 0.00788421342204294\n",
      "19.240526142585207 0.02781682657213065\n",
      "5210047.69690747 7.105524770485629e-05\n",
      "365.77460307116553 0.006869065644325921\n",
      "10.756876928727383 0.046976671973531337\n",
      "13.232974506753587 0.030554175846870688\n",
      "228.12610731441276 0.009405836306217653\n",
      "551.5485055356007 0.006915350936455244\n",
      "51.228829151164746 0.015843198361981673\n",
      "532.2110036131821 0.004806685024209372\n",
      "740.4189487897802 0.006231190337906988\n",
      "861.2428442888622 0.0034793340224854377\n",
      "180.25850622919586 0.010579645292451374\n",
      "6.10846733759124 0.05168170143510659\n",
      "382.33592861712634 0.006467921771869892\n",
      "7299.480799016894 0.0014963521588808692\n",
      "312.5577138248706 0.007143366197595423\n",
      "305.34050925729184 0.007401240068006586\n",
      "288.6933254097944 0.006075828688787244\n",
      "424.509811330259 0.005584021780504924\n",
      "264.1232889340008 0.007052875256999429\n",
      "68.71539302713215 0.015841767295710546\n",
      "6.696211735163633 0.05407969425098061\n",
      "27.200594004189284 0.026886355108658284\n",
      "29.862342682048528 0.022492544456091834\n",
      "1989.067655018349 0.0023778380524864286\n",
      "1065.9520157275429 0.004022589639992271\n",
      "137.33398457668585 0.012948855869339335\n",
      "77.39486405941346 0.018599593569583385\n"
     ]
    }
   ],
   "source": [
    "for column in dprvi_patches.columns:\n",
    "    data = dprvi_patches[column]\n",
    "    [shape,_, scale] = gamma.fit(data)\n",
    "    print(shape, scale)"
   ]
  },
  {
   "cell_type": "code",
   "execution_count": 491,
   "metadata": {},
   "outputs": [],
   "source": [
    "data_p = data_ff['dpsvim_patch_0']\n",
    "data_q = data_fs['dpsvim_patch_0']"
   ]
  },
  {
   "cell_type": "code",
   "execution_count": 492,
   "metadata": {},
   "outputs": [],
   "source": [
    "[a_p, loc_p, scale_p] = gamma.fit(data_p)\n",
    "[a_q, loc_q, scale_q] = gamma.fit(data_q)"
   ]
  },
  {
   "cell_type": "code",
   "execution_count": 493,
   "metadata": {},
   "outputs": [
    {
     "data": {
      "text/plain": [
       "[<matplotlib.lines.Line2D at 0x223b40602b0>]"
      ]
     },
     "execution_count": 493,
     "metadata": {},
     "output_type": "execute_result"
    },
    {
     "data": {
      "image/png": "[encoded data removed]",
      "text/plain": [
       "<Figure size 432x288 with 1 Axes>"
      ]
     },
     "metadata": {
      "needs_background": "light"
     },
     "output_type": "display_data"
    }
   ],
   "source": [
    "x = np.linspace(np.min(data_p), np.max(data_p))\n",
    "\n",
    "plt.hist(data_p, bins=20, density=True, alpha=0.5)\n",
    "plt.hist(data_q, bins=20, density=True, alpha=0.5)\n",
    "\n",
    "plt.plot(x, gamma.pdf(x, a_p, loc_p, scale_p))\n",
    "plt.plot(x, gamma.pdf(x, a_q, loc_q, scale_q))"
   ]
  },
  {
   "cell_type": "code",
   "execution_count": 494,
   "metadata": {},
   "outputs": [
    {
     "name": "stdout",
     "output_type": "stream",
     "text": [
      "Reject H0\n"
     ]
    }
   ],
   "source": [
    "kp = a_p\n",
    "kq = a_q\n",
    "thetap = scale_p\n",
    "thetaq = scale_q\n",
    "\n",
    "dskl_ln = ((mup - muq)^2)/(2 * (sigma_p^2) * (sigma_q^2))\n",
    "\n",
    "dskl_g = ((kp - kq) * (psi(kp) + log(thetap) - psi(kq) - log(thetaq)) + ((kp*thetap - kq*thetaq) * ((thetap - thetaq) / (thetap * thetaq)))) / 2\n",
    "\n",
    "m = data_p.count()\n",
    "n = data_q.count()\n",
    "v = 1\n",
    "\n",
    "s = ((2*m*n*v) / (m + n)) * dskl_kn\n",
    " \n",
    "p_value = chi2.sf(s, df=2)\n",
    "\n",
    "if p_value <= 0.05:\n",
    "    print('Reject H0')"
   ]
  },
  {
   "cell_type": "code",
   "execution_count": 495,
   "metadata": {},
   "outputs": [
    {
     "data": {
      "text/plain": [
       "400.0"
      ]
     },
     "execution_count": 495,
     "metadata": {},
     "output_type": "execute_result"
    }
   ],
   "source": [
    "(2*m*n*v) / (m + n)"
   ]
  },
  {
   "cell_type": "code",
   "execution_count": 496,
   "metadata": {},
   "outputs": [
    {
     "data": {
      "text/plain": [
       "2.196557929176438"
      ]
     },
     "execution_count": 496,
     "metadata": {},
     "output_type": "execute_result"
    }
   ],
   "source": [
    "dskl"
   ]
  },
  {
   "cell_type": "code",
   "execution_count": 497,
   "metadata": {},
   "outputs": [
    {
     "data": {
      "text/plain": [
       "1.619580113700372e-191"
      ]
     },
     "execution_count": 497,
     "metadata": {},
     "output_type": "execute_result"
    }
   ],
   "source": [
    "p_value"
   ]
  },
  {
   "cell_type": "code",
   "execution_count": 498,
   "metadata": {},
   "outputs": [
    {
     "data": {
      "text/plain": [
       "878.6231716705752"
      ]
     },
     "execution_count": 498,
     "metadata": {},
     "output_type": "execute_result"
    }
   ],
   "source": [
    "s"
   ]
  },
  {
   "cell_type": "code",
   "execution_count": null,
   "metadata": {},
   "outputs": [],
   "source": []
  }
 ],
 "metadata": {
  "interpreter": {
   "hash": "8c9e68b39023ce23f906b1305c0d93055264345dee319f420ab5b4a6cff7736b"
  },
  "kernelspec": {
   "display_name": "Python 3.8.10 ('GATEC_projects')",
   "language": "python",
   "name": "python3"
  },
  "language_info": {
   "codemirror_mode": {
    "name": "ipython",
    "version": 3
   },
   "file_extension": ".py",
   "mimetype": "text/x-python",
   "name": "python",
   "nbconvert_exporter": "python",
   "pygments_lexer": "ipython3",
   "version": "3.8.10"
  },
  "orig_nbformat": 4
 },
 "nbformat": 4,
 "nbformat_minor": 2
}
