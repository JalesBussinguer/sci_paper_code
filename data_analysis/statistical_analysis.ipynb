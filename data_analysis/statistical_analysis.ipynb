{
 "cells": [
  {
   "cell_type": "code",
   "execution_count": 80,
   "metadata": {},
   "outputs": [],
   "source": [
    "import matplotlib.pyplot as plt\n",
    "import pandas as pd\n",
    "\n",
    "# Normality tests\n",
    "from scipy.stats import normaltest as dagostino_test # D'Agostino test\n",
    "from scipy.stats import anderson as and_dar_test # Anderson-Darling Test\n",
    "from scipy.stats import kstest as kol_smi_test # Kolmogorov-Smirnov Test\n",
    "from scipy.stats import shapiro as shap_wil_test # Shapiro-Wilk Test\n",
    "from scipy.stats import jarque_bera as jarque_bera_test # Jarque-Bera Test\n",
    "\n",
    "# ANOVA\n",
    "from scipy.stats import f_oneway # Parametric\n",
    "from scipy.stats import kruskal # Non-Parametric\n",
    "\n",
    "# Statistical Test\n",
    "from statsmodels.stats.multicomp import pairwise_tukeyhsd\n",
    "from scikit_posthocs import posthoc_dunn\n"
   ]
  },
  {
   "cell_type": "code",
   "execution_count": 81,
   "metadata": {},
   "outputs": [],
   "source": [
    "date = pd.read_csv('D:/thesis_data/VEG_INDICES/samples/campestre_20170112_distribution.csv')"
   ]
  },
  {
   "cell_type": "code",
   "execution_count": 82,
   "metadata": {},
   "outputs": [
    {
     "data": {
      "text/html": [
       "<div>\n",
       "<style scoped>\n",
       "    .dataframe tbody tr th:only-of-type {\n",
       "        vertical-align: middle;\n",
       "    }\n",
       "\n",
       "    .dataframe tbody tr th {\n",
       "        vertical-align: top;\n",
       "    }\n",
       "\n",
       "    .dataframe thead th {\n",
       "        text-align: right;\n",
       "    }\n",
       "</style>\n",
       "<table border=\"1\" class=\"dataframe\">\n",
       "  <thead>\n",
       "    <tr style=\"text-align: right;\">\n",
       "      <th></th>\n",
       "      <th>Unnamed: 0</th>\n",
       "      <th>DpRVI</th>\n",
       "      <th>PRVI</th>\n",
       "      <th>DPSVI</th>\n",
       "      <th>DPSVIm</th>\n",
       "      <th>RVI</th>\n",
       "    </tr>\n",
       "  </thead>\n",
       "  <tbody>\n",
       "    <tr>\n",
       "      <th>0</th>\n",
       "      <td>3312</td>\n",
       "      <td>0.673583</td>\n",
       "      <td>0.008824</td>\n",
       "      <td>0.030198</td>\n",
       "      <td>0.009195</td>\n",
       "      <td>0.696071</td>\n",
       "    </tr>\n",
       "    <tr>\n",
       "      <th>1</th>\n",
       "      <td>3313</td>\n",
       "      <td>0.572998</td>\n",
       "      <td>0.008162</td>\n",
       "      <td>0.029895</td>\n",
       "      <td>0.008925</td>\n",
       "      <td>0.698186</td>\n",
       "    </tr>\n",
       "    <tr>\n",
       "      <th>2</th>\n",
       "      <td>3314</td>\n",
       "      <td>0.528433</td>\n",
       "      <td>0.006260</td>\n",
       "      <td>0.028326</td>\n",
       "      <td>0.007686</td>\n",
       "      <td>0.707225</td>\n",
       "    </tr>\n",
       "    <tr>\n",
       "      <th>3</th>\n",
       "      <td>3315</td>\n",
       "      <td>0.458040</td>\n",
       "      <td>0.004134</td>\n",
       "      <td>0.026111</td>\n",
       "      <td>0.006883</td>\n",
       "      <td>0.692201</td>\n",
       "    </tr>\n",
       "    <tr>\n",
       "      <th>4</th>\n",
       "      <td>3316</td>\n",
       "      <td>0.384959</td>\n",
       "      <td>0.002841</td>\n",
       "      <td>0.026787</td>\n",
       "      <td>0.008512</td>\n",
       "      <td>0.653687</td>\n",
       "    </tr>\n",
       "    <tr>\n",
       "      <th>...</th>\n",
       "      <td>...</td>\n",
       "      <td>...</td>\n",
       "      <td>...</td>\n",
       "      <td>...</td>\n",
       "      <td>...</td>\n",
       "      <td>...</td>\n",
       "    </tr>\n",
       "    <tr>\n",
       "      <th>779554</th>\n",
       "      <td>5440584</td>\n",
       "      <td>0.403111</td>\n",
       "      <td>0.002716</td>\n",
       "      <td>0.021809</td>\n",
       "      <td>0.002600</td>\n",
       "      <td>0.855248</td>\n",
       "    </tr>\n",
       "    <tr>\n",
       "      <th>779555</th>\n",
       "      <td>5443019</td>\n",
       "      <td>0.521546</td>\n",
       "      <td>0.004391</td>\n",
       "      <td>0.028347</td>\n",
       "      <td>0.004724</td>\n",
       "      <td>0.838521</td>\n",
       "    </tr>\n",
       "    <tr>\n",
       "      <th>779556</th>\n",
       "      <td>5443020</td>\n",
       "      <td>0.538302</td>\n",
       "      <td>0.004688</td>\n",
       "      <td>0.021946</td>\n",
       "      <td>0.003128</td>\n",
       "      <td>0.805824</td>\n",
       "    </tr>\n",
       "    <tr>\n",
       "      <th>779557</th>\n",
       "      <td>5443021</td>\n",
       "      <td>0.461475</td>\n",
       "      <td>0.003599</td>\n",
       "      <td>0.021496</td>\n",
       "      <td>0.002203</td>\n",
       "      <td>0.895944</td>\n",
       "    </tr>\n",
       "    <tr>\n",
       "      <th>779558</th>\n",
       "      <td>5445458</td>\n",
       "      <td>0.527058</td>\n",
       "      <td>0.004316</td>\n",
       "      <td>0.016231</td>\n",
       "      <td>0.002796</td>\n",
       "      <td>0.671153</td>\n",
       "    </tr>\n",
       "  </tbody>\n",
       "</table>\n",
       "<p>779559 rows × 6 columns</p>\n",
       "</div>"
      ],
      "text/plain": [
       "        Unnamed: 0     DpRVI      PRVI     DPSVI    DPSVIm       RVI\n",
       "0             3312  0.673583  0.008824  0.030198  0.009195  0.696071\n",
       "1             3313  0.572998  0.008162  0.029895  0.008925  0.698186\n",
       "2             3314  0.528433  0.006260  0.028326  0.007686  0.707225\n",
       "3             3315  0.458040  0.004134  0.026111  0.006883  0.692201\n",
       "4             3316  0.384959  0.002841  0.026787  0.008512  0.653687\n",
       "...            ...       ...       ...       ...       ...       ...\n",
       "779554     5440584  0.403111  0.002716  0.021809  0.002600  0.855248\n",
       "779555     5443019  0.521546  0.004391  0.028347  0.004724  0.838521\n",
       "779556     5443020  0.538302  0.004688  0.021946  0.003128  0.805824\n",
       "779557     5443021  0.461475  0.003599  0.021496  0.002203  0.895944\n",
       "779558     5445458  0.527058  0.004316  0.016231  0.002796  0.671153\n",
       "\n",
       "[779559 rows x 6 columns]"
      ]
     },
     "execution_count": 82,
     "metadata": {},
     "output_type": "execute_result"
    }
   ],
   "source": [
    "date"
   ]
  },
  {
   "cell_type": "code",
   "execution_count": 51,
   "metadata": {},
   "outputs": [],
   "source": [
    "p_value = 0.05"
   ]
  },
  {
   "cell_type": "code",
   "execution_count": 72,
   "metadata": {},
   "outputs": [
    {
     "name": "stdout",
     "output_type": "stream",
     "text": [
      "H0: The data come from a normal distribution\n",
      "\n",
      "estatística = 6230.453\n",
      "p-valor = 0.0\n",
      "\n",
      "Reject H0\n"
     ]
    }
   ],
   "source": [
    "# Teste de normalidade (d'agostino e Pearson)\n",
    "\n",
    "print('H0: The data come from a normal distribution\\n')\n",
    "\n",
    "estatistica, p_valor = dagostino_test(date['DpRVI'])\n",
    "\n",
    "print(\"estatística =\", round(estatistica, 3))\n",
    "print(\"p-valor =\", round(p_valor, 3))\n",
    "print()\n",
    "\n",
    "# Estrutura condicional que testará a hipótese nula\n",
    "if p_valor < 0.05:\n",
    "    print(\"Reject H0\")\n",
    "else:\n",
    "    print(\"Accept H0\")"
   ]
  },
  {
   "cell_type": "code",
   "execution_count": 73,
   "metadata": {},
   "outputs": [
    {
     "name": "stdout",
     "output_type": "stream",
     "text": [
      "H0: The data come from a normal distribution\n",
      "\n",
      "statistic = 2881.376\n",
      "critical value = 0.787\n",
      "significance level (%) =  5.0\n",
      "\n",
      "Reject H0\n"
     ]
    }
   ],
   "source": [
    "# Normality_test (Anderson-Darling)\n",
    "print('H0: The data come from a normal distribution\\n')\n",
    "\n",
    "statistic, critical_values, significance_level = and_dar_test(date['RVI'])\n",
    "\n",
    "print(\"statistic =\", round(statistic, 3))\n",
    "print(\"critical value =\", critical_values[2])\n",
    "print(\"significance level (%) = \", significance_level[2])\n",
    "print()\n",
    "\n",
    "if statistic > critical_values[2]:\n",
    "    print(\"Reject H0\")\n",
    "else:\n",
    "    print(\"Accept H0\")"
   ]
  },
  {
   "cell_type": "code",
   "execution_count": 79,
   "metadata": {},
   "outputs": [
    {
     "name": "stdout",
     "output_type": "stream",
     "text": [
      "H0: The two distribution are identical\n",
      "H1: The two distribution are not identical\n",
      "\n",
      "statistic = 4557.607\n",
      "p-value = 0.0\n",
      "\n",
      "Reject H0\n"
     ]
    }
   ],
   "source": [
    "# Teste de normalidade (Kolmogorov-Smirnov)\n",
    "\n",
    "print('H0: The two distribution are identical')\n",
    "print('H1: The two distribution are not identical\\n')\n",
    "\n",
    "statistic, p_valor = kol_smi_test(date['DpRVI'], 'norm')\n",
    "\n",
    "print(\"statistic =\", round(estatistica, 3))\n",
    "print(\"p-value =\", round(p_valor, 3))\n",
    "print()\n",
    "\n",
    "# Estrutura condicional que testará a hipótese nula\n",
    "if p_valor < p_value:\n",
    "    print(\"Reject H0\")\n",
    "else:\n",
    "    print(\"Accept H0\")"
   ]
  },
  {
   "cell_type": "code",
   "execution_count": 76,
   "metadata": {},
   "outputs": [
    {
     "name": "stdout",
     "output_type": "stream",
     "text": [
      "H0: The data come from a normal distribution\n",
      "\n",
      "estatística = 0.998\n",
      "p-valor = 0.0\n",
      "\n",
      "Reject H0\n"
     ]
    }
   ],
   "source": [
    "# Teste de normalidade (Shapiro-Wilk)\n",
    "\n",
    "print('H0: The data come from a normal distribution\\n')\n",
    "\n",
    "estatistica, p_valor = shap_wil_test(date['DpRVI'])\n",
    "\n",
    "print(\"estatística =\", round(estatistica, 3))\n",
    "print(\"p-valor =\", round(p_valor, 3))\n",
    "print()\n",
    "\n",
    "# Estrutura condicional que testará a hipótese nula\n",
    "if p_valor < 0.05:\n",
    "    print(\"Reject H0\")\n",
    "else:\n",
    "    print(\"Accept H0\")"
   ]
  },
  {
   "cell_type": "code",
   "execution_count": 77,
   "metadata": {},
   "outputs": [
    {
     "name": "stdout",
     "output_type": "stream",
     "text": [
      "H0: The data come from a normal distribution\n",
      "\n",
      "estatística = 4557.607\n",
      "p-valor = 0.0\n",
      "\n",
      "Reject H0\n"
     ]
    }
   ],
   "source": [
    "# Teste de normalidade (Shapiro-Wilk)\n",
    "\n",
    "print('H0: The data come from a normal distribution\\n')\n",
    "\n",
    "estatistica, p_valor = jarque_bera_test(date['DpRVI'])\n",
    "\n",
    "print(\"estatística =\", round(estatistica, 3))\n",
    "print(\"p-valor =\", round(p_valor, 3))\n",
    "print()\n",
    "\n",
    "# Estrutura condicional que testará a hipótese nula\n",
    "if p_valor < 0.05:\n",
    "    print(\"Reject H0\")\n",
    "else:\n",
    "    print(\"Accept H0\")"
   ]
  },
  {
   "cell_type": "code",
   "execution_count": null,
   "metadata": {},
   "outputs": [],
   "source": []
  }
 ],
 "metadata": {
  "interpreter": {
   "hash": "6dd1ee125c45ed3e8c3e6d2213edb1a3f04bf43d5b003d646ba47774d97fbc9d"
  },
  "kernelspec": {
   "display_name": "Python 3.8.10 ('GATEC_projects')",
   "language": "python",
   "name": "python3"
  },
  "language_info": {
   "codemirror_mode": {
    "name": "ipython",
    "version": 3
   },
   "file_extension": ".py",
   "mimetype": "text/x-python",
   "name": "python",
   "nbconvert_exporter": "python",
   "pygments_lexer": "ipython3",
   "version": "3.8.10"
  },
  "orig_nbformat": 4
 },
 "nbformat": 4,
 "nbformat_minor": 2
}
