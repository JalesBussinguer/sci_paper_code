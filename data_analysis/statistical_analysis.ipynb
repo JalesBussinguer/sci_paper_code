{
 "cells": [
  {
   "cell_type": "code",
   "execution_count": 1,
   "metadata": {},
   "outputs": [],
   "source": [
    "import matplotlib.pyplot as plt\n",
    "import pandas as pd\n",
    "\n",
    "# Normality tests\n",
    "from scipy.stats import normaltest as dagostino_test # D'Agostino test\n",
    "from scipy.stats import anderson as and_dar_test # Anderson-Darling Test\n",
    "from scipy.stats import kstest as kol_smi_test # Kolmogorov-Smirnov Test\n",
    "from scipy.stats import shapiro as shap_wil_test # Shapiro-Wilk Test\n",
    "from scipy.stats import jarque_bera as jarque_bera_test # Jarque-Bera Test\n",
    "\n",
    "# ANOVA\n",
    "from scipy.stats import f_oneway # Parametric\n",
    "from scipy.stats import kruskal # Non-Parametric\n",
    "\n",
    "# Statistical Test\n",
    "from statsmodels.stats.multicomp import pairwise_tukeyhsd\n",
    "from scikit_posthocs import posthoc_dunn\n",
    "\n",
    "from scipy.stats import gamma as gamma_test\n",
    "from fitter import Fitter"
   ]
  },
  {
   "cell_type": "code",
   "execution_count": 2,
   "metadata": {},
   "outputs": [],
   "source": [
    "date = pd.read_csv('D:/thesis_data/VEG_INDICES/samples/florestal/florestal_20170112_distribution.csv')\n",
    "date_fs = pd.read_csv('D:/thesis_data/VEG_INDICES/samples/savanica/savanica_20170112_distribution.csv')\n",
    "date_fc = pd.read_csv('D:/thesis_data/VEG_INDICES/samples/campestre/campestre_20170112_distribution.csv')"
   ]
  },
  {
   "cell_type": "code",
   "execution_count": 59,
   "metadata": {},
   "outputs": [
    {
     "data": {
      "text/plain": [
       "['alpha',\n",
       " 'anglit',\n",
       " 'arcsine',\n",
       " 'argus',\n",
       " 'beta',\n",
       " 'betaprime',\n",
       " 'bradford',\n",
       " 'burr',\n",
       " 'burr12',\n",
       " 'cauchy',\n",
       " 'chi',\n",
       " 'chi2',\n",
       " 'cosine',\n",
       " 'crystalball',\n",
       " 'dgamma',\n",
       " 'dweibull',\n",
       " 'erlang',\n",
       " 'expon',\n",
       " 'exponnorm',\n",
       " 'exponpow',\n",
       " 'exponweib',\n",
       " 'f',\n",
       " 'fatiguelife',\n",
       " 'fisk',\n",
       " 'foldcauchy',\n",
       " 'foldnorm',\n",
       " 'gamma',\n",
       " 'gausshyper',\n",
       " 'genexpon',\n",
       " 'genextreme',\n",
       " 'gengamma',\n",
       " 'genhalflogistic',\n",
       " 'genhyperbolic',\n",
       " 'geninvgauss',\n",
       " 'genlogistic',\n",
       " 'gennorm',\n",
       " 'genpareto',\n",
       " 'gilbrat',\n",
       " 'gompertz',\n",
       " 'gumbel_l',\n",
       " 'gumbel_r',\n",
       " 'halfcauchy',\n",
       " 'halfgennorm',\n",
       " 'halflogistic',\n",
       " 'halfnorm',\n",
       " 'hypsecant',\n",
       " 'invgamma',\n",
       " 'invgauss',\n",
       " 'invweibull',\n",
       " 'johnsonsb',\n",
       " 'johnsonsu',\n",
       " 'kappa3',\n",
       " 'kappa4',\n",
       " 'ksone',\n",
       " 'kstwo',\n",
       " 'kstwobign',\n",
       " 'laplace',\n",
       " 'laplace_asymmetric',\n",
       " 'levy',\n",
       " 'levy_l',\n",
       " 'levy_stable',\n",
       " 'loggamma',\n",
       " 'logistic',\n",
       " 'loglaplace',\n",
       " 'lognorm',\n",
       " 'loguniform',\n",
       " 'lomax',\n",
       " 'maxwell',\n",
       " 'mielke',\n",
       " 'moyal',\n",
       " 'nakagami',\n",
       " 'ncf',\n",
       " 'nct',\n",
       " 'ncx2',\n",
       " 'norm',\n",
       " 'norminvgauss',\n",
       " 'pareto',\n",
       " 'pearson3',\n",
       " 'powerlaw',\n",
       " 'powerlognorm',\n",
       " 'powernorm',\n",
       " 'rayleigh',\n",
       " 'rdist',\n",
       " 'recipinvgauss',\n",
       " 'reciprocal',\n",
       " 'rice',\n",
       " 'rv_continuous',\n",
       " 'rv_histogram',\n",
       " 'semicircular',\n",
       " 'skewcauchy',\n",
       " 'skewnorm',\n",
       " 'studentized_range',\n",
       " 't',\n",
       " 'trapezoid',\n",
       " 'trapz',\n",
       " 'triang',\n",
       " 'truncexpon',\n",
       " 'truncnorm',\n",
       " 'tukeylambda',\n",
       " 'uniform',\n",
       " 'vonmises',\n",
       " 'vonmises_line',\n",
       " 'wald',\n",
       " 'weibull_max',\n",
       " 'weibull_min',\n",
       " 'wrapcauchy']"
      ]
     },
     "execution_count": 59,
     "metadata": {},
     "output_type": "execute_result"
    }
   ],
   "source": [
    "from fitter import get_distributions\n",
    "get_distributions()"
   ]
  },
  {
   "cell_type": "code",
   "execution_count": 7,
   "metadata": {},
   "outputs": [
    {
     "data": {
      "text/html": [
       "<div>\n",
       "<style scoped>\n",
       "    .dataframe tbody tr th:only-of-type {\n",
       "        vertical-align: middle;\n",
       "    }\n",
       "\n",
       "    .dataframe tbody tr th {\n",
       "        vertical-align: top;\n",
       "    }\n",
       "\n",
       "    .dataframe thead th {\n",
       "        text-align: right;\n",
       "    }\n",
       "</style>\n",
       "<table border=\"1\" class=\"dataframe\">\n",
       "  <thead>\n",
       "    <tr style=\"text-align: right;\">\n",
       "      <th></th>\n",
       "      <th>sumsquare_error</th>\n",
       "      <th>aic</th>\n",
       "      <th>bic</th>\n",
       "      <th>kl_div</th>\n",
       "    </tr>\n",
       "  </thead>\n",
       "  <tbody>\n",
       "    <tr>\n",
       "      <th>gamma</th>\n",
       "      <td>0.555709</td>\n",
       "      <td>181.169736</td>\n",
       "      <td>-6.203636e+06</td>\n",
       "      <td>0.003721</td>\n",
       "    </tr>\n",
       "  </tbody>\n",
       "</table>\n",
       "</div>"
      ],
      "text/plain": [
       "       sumsquare_error         aic           bic    kl_div\n",
       "gamma         0.555709  181.169736 -6.203636e+06  0.003721"
      ]
     },
     "execution_count": 7,
     "metadata": {},
     "output_type": "execute_result"
    },
    {
     "data": {
      "image/png": "[encoded data removed]",
      "text/plain": [
       "<Figure size 432x288 with 1 Axes>"
      ]
     },
     "metadata": {
      "needs_background": "light"
     },
     "output_type": "display_data"
    }
   ],
   "source": [
    "f = Fitter(date_fs['DpRVI'], distributions=['gamma'])\n",
    "fit = f.fit()\n",
    "# may take some time since by default, all distributions are tried\n",
    "# but you call manually provide a smaller set of distributions\n",
    "f.summary()"
   ]
  },
  {
   "cell_type": "code",
   "execution_count": 8,
   "metadata": {},
   "outputs": [
    {
     "data": {
      "text/plain": [
       "{'gamma': {'a': 22542.204132937884,\n",
       "  'loc': -19.85252378819414,\n",
       "  'scale': 0.0009070251504487725}}"
      ]
     },
     "execution_count": 8,
     "metadata": {},
     "output_type": "execute_result"
    }
   ],
   "source": [
    "f.get_best()"
   ]
  },
  {
   "cell_type": "code",
   "execution_count": 81,
   "metadata": {},
   "outputs": [
    {
     "data": {
      "text/plain": [
       "65.23272829971194"
      ]
     },
     "execution_count": 81,
     "metadata": {},
     "output_type": "execute_result"
    }
   ],
   "source": [
    "test['sumsquare_error'][0]"
   ]
  },
  {
   "cell_type": "code",
   "execution_count": 85,
   "metadata": {},
   "outputs": [
    {
     "data": {
      "text/html": [
       "<div>\n",
       "<style scoped>\n",
       "    .dataframe tbody tr th:only-of-type {\n",
       "        vertical-align: middle;\n",
       "    }\n",
       "\n",
       "    .dataframe tbody tr th {\n",
       "        vertical-align: top;\n",
       "    }\n",
       "\n",
       "    .dataframe thead th {\n",
       "        text-align: right;\n",
       "    }\n",
       "</style>\n",
       "<table border=\"1\" class=\"dataframe\">\n",
       "  <thead>\n",
       "    <tr style=\"text-align: right;\">\n",
       "      <th></th>\n",
       "      <th>s</th>\n",
       "      <th>loc</th>\n",
       "      <th>scale</th>\n",
       "      <th>dist</th>\n",
       "      <th>sumsquare_error</th>\n",
       "    </tr>\n",
       "  </thead>\n",
       "  <tbody>\n",
       "    <tr>\n",
       "      <th>0</th>\n",
       "      <td>0.673778</td>\n",
       "      <td>0.000005</td>\n",
       "      <td>0.004595</td>\n",
       "      <td>lognorm</td>\n",
       "      <td>65.232728</td>\n",
       "    </tr>\n",
       "  </tbody>\n",
       "</table>\n",
       "</div>"
      ],
      "text/plain": [
       "          s       loc     scale     dist  sumsquare_error\n",
       "0  0.673778  0.000005  0.004595  lognorm        65.232728"
      ]
     },
     "execution_count": 85,
     "metadata": {},
     "output_type": "execute_result"
    }
   ],
   "source": [
    "teste = pd.DataFrame(f.get_best().values())\n",
    "teste['dist'] = f.get_best().keys()\n",
    "teste['sumsquare_error'] = test['sumsquare_error'][0]\n",
    "teste"
   ]
  },
  {
   "cell_type": "code",
   "execution_count": 62,
   "metadata": {},
   "outputs": [
    {
     "data": {
      "text/plain": [
       "['s', 'loc', 'scale', 'dist', 'sumsquare_error']"
      ]
     },
     "execution_count": 62,
     "metadata": {},
     "output_type": "execute_result"
    }
   ],
   "source": [
    "cols = teste.columns.tolist()\n",
    "cols"
   ]
  },
  {
   "cell_type": "code",
   "execution_count": 63,
   "metadata": {},
   "outputs": [
    {
     "data": {
      "text/plain": [
       "['dist', 'sumsquare_error', 's', 'loc', 'scale']"
      ]
     },
     "execution_count": 63,
     "metadata": {},
     "output_type": "execute_result"
    }
   ],
   "source": [
    "cols = cols[-2:] + cols[:-2]\n",
    "cols"
   ]
  },
  {
   "cell_type": "code",
   "execution_count": 64,
   "metadata": {},
   "outputs": [
    {
     "data": {
      "text/html": [
       "<div>\n",
       "<style scoped>\n",
       "    .dataframe tbody tr th:only-of-type {\n",
       "        vertical-align: middle;\n",
       "    }\n",
       "\n",
       "    .dataframe tbody tr th {\n",
       "        vertical-align: top;\n",
       "    }\n",
       "\n",
       "    .dataframe thead th {\n",
       "        text-align: right;\n",
       "    }\n",
       "</style>\n",
       "<table border=\"1\" class=\"dataframe\">\n",
       "  <thead>\n",
       "    <tr style=\"text-align: right;\">\n",
       "      <th></th>\n",
       "      <th>dist</th>\n",
       "      <th>sumsquare_error</th>\n",
       "      <th>s</th>\n",
       "      <th>loc</th>\n",
       "      <th>scale</th>\n",
       "    </tr>\n",
       "  </thead>\n",
       "  <tbody>\n",
       "    <tr>\n",
       "      <th>0</th>\n",
       "      <td>lognorm</td>\n",
       "      <td>65.232728</td>\n",
       "      <td>0.673778</td>\n",
       "      <td>0.000005</td>\n",
       "      <td>0.004595</td>\n",
       "    </tr>\n",
       "  </tbody>\n",
       "</table>\n",
       "</div>"
      ],
      "text/plain": [
       "      dist  sumsquare_error         s       loc     scale\n",
       "0  lognorm        65.232728  0.673778  0.000005  0.004595"
      ]
     },
     "execution_count": 64,
     "metadata": {},
     "output_type": "execute_result"
    }
   ],
   "source": [
    "df = teste[cols]\n",
    "df"
   ]
  },
  {
   "cell_type": "code",
   "execution_count": 14,
   "metadata": {},
   "outputs": [
    {
     "data": {
      "text/plain": [
       "(array([1.61042769e-01, 4.07639508e-01, 9.61224026e-01, 1.58023217e+00,\n",
       "        2.77295517e+00, 4.38338286e+00, 6.93993681e+00, 9.81857631e+00,\n",
       "        1.37792219e+01, 1.77348349e+01, 2.25057269e+01, 2.68589143e+01,\n",
       "        3.17908491e+01, 3.64107635e+01, 4.15691647e+01, 4.44679345e+01,\n",
       "        4.78347349e+01, 5.18507389e+01, 5.43167063e+01, 5.56302114e+01,\n",
       "        5.62341218e+01, 5.78093214e+01, 5.96713784e+01, 5.93593580e+01,\n",
       "        5.89466859e+01, 5.92234782e+01, 5.84484599e+01, 5.73664538e+01,\n",
       "        5.68531299e+01, 5.63549039e+01, 5.44475536e+01, 5.19815862e+01,\n",
       "        5.13072196e+01, 4.99232583e+01, 4.73868347e+01, 4.62494701e+01,\n",
       "        4.41961748e+01, 4.27065292e+01, 4.12420466e+01, 4.04821260e+01,\n",
       "        3.76538124e+01, 3.68485985e+01, 3.60484173e+01, 3.34717330e+01,\n",
       "        3.25910303e+01, 3.06585171e+01, 2.96721301e+01, 2.87763297e+01,\n",
       "        2.68790446e+01, 2.61744825e+01, 2.46546414e+01, 2.40758939e+01,\n",
       "        2.23748797e+01, 2.17508389e+01, 2.06034092e+01, 2.01001506e+01,\n",
       "        1.91338940e+01, 1.85803094e+01, 1.80770508e+01, 1.68390345e+01,\n",
       "        1.62099612e+01, 1.53393237e+01, 1.47756740e+01, 1.44636537e+01,\n",
       "        1.38144500e+01, 1.32004744e+01, 1.29287148e+01, 1.22040223e+01,\n",
       "        1.16957311e+01, 1.12478309e+01, 1.06590183e+01, 1.06489531e+01,\n",
       "        1.00853034e+01, 9.60720767e+00, 9.34551317e+00, 8.72650503e+00,\n",
       "        8.58559261e+00, 8.41448467e+00, 7.97664964e+00, 7.78541135e+00,\n",
       "        7.09594700e+00, 6.98523009e+00, 6.53732989e+00, 6.52223213e+00,\n",
       "        6.23034211e+00, 5.97368020e+00, 6.14478814e+00, 5.46538896e+00,\n",
       "        5.13827084e+00, 5.15840119e+00, 5.12820567e+00, 4.82625047e+00,\n",
       "        4.64507736e+00, 4.42364355e+00, 4.54945822e+00, 4.19717716e+00,\n",
       "        4.07136250e+00, 3.84489610e+00, 3.79960282e+00, 3.77443989e+00,\n",
       "        3.44732177e+00, 3.59829936e+00, 3.58320160e+00, 2.96419346e+00,\n",
       "        3.20072503e+00, 2.99942157e+00, 2.62701016e+00, 2.60687982e+00,\n",
       "        2.78302035e+00, 2.57165171e+00, 2.54145619e+00, 2.50119550e+00,\n",
       "        2.43073929e+00, 2.40054377e+00, 2.11368634e+00, 2.10865375e+00,\n",
       "        1.77147046e+00, 2.14891445e+00, 2.02813237e+00, 2.02309978e+00,\n",
       "        1.72617718e+00, 1.74630752e+00, 1.44938492e+00, 1.46448268e+00,\n",
       "        1.52990630e+00, 1.52487372e+00, 1.39402647e+00, 1.43428716e+00,\n",
       "        1.46448268e+00, 1.41415681e+00, 1.32357026e+00, 1.20782077e+00,\n",
       "        1.22291852e+00, 1.22291852e+00, 1.22795111e+00, 1.07194093e+00,\n",
       "        1.10213645e+00, 1.03168024e+00, 1.05181058e+00, 9.66256612e-01,\n",
       "        9.96452131e-01, 8.50507122e-01, 9.10898161e-01, 8.65604882e-01,\n",
       "        8.45474536e-01, 8.30376776e-01, 7.19659873e-01, 8.30376776e-01,\n",
       "        7.14627286e-01, 7.44822805e-01, 7.69985738e-01, 7.49855392e-01,\n",
       "        6.99529527e-01, 6.69334007e-01, 6.44171075e-01, 6.34105902e-01,\n",
       "        5.58617104e-01, 6.79399181e-01, 5.53584517e-01, 5.43519344e-01,\n",
       "        4.83128306e-01, 6.03910383e-01, 4.88160893e-01, 5.03258652e-01,\n",
       "        5.08291239e-01, 6.69334007e-01, 5.13323825e-01, 4.83128306e-01,\n",
       "        4.02606922e-01, 5.08291239e-01, 3.57313643e-01, 4.22737268e-01,\n",
       "        4.27769854e-01, 4.12672095e-01, 3.32150710e-01, 3.87509162e-01,\n",
       "        4.07639508e-01, 2.96922605e-01, 2.96922605e-01, 3.12020364e-01,\n",
       "        3.32150710e-01, 3.52281057e-01, 3.62346230e-01, 3.06987778e-01,\n",
       "        2.76792259e-01, 1.86205701e-01, 2.66727086e-01, 3.12020364e-01,\n",
       "        2.66727086e-01, 1.91238288e-01, 2.66727086e-01, 1.96270874e-01,\n",
       "        2.96922605e-01, 2.41564153e-01, 2.66727086e-01, 2.31498980e-01,\n",
       "        2.41564153e-01, 2.81824845e-01, 2.46596740e-01, 1.76140528e-01,\n",
       "        2.06336047e-01, 2.01303461e-01, 1.71107942e-01, 1.96270874e-01,\n",
       "        1.91238288e-01, 1.25814663e-01, 1.35879836e-01, 1.86205701e-01,\n",
       "        1.76140528e-01, 1.50977596e-01, 1.35879836e-01, 2.11368634e-01,\n",
       "        1.40912423e-01, 1.25814663e-01, 1.15749490e-01, 1.35879836e-01,\n",
       "        1.35879836e-01, 1.71107942e-01, 1.30847250e-01, 1.05684317e-01,\n",
       "        1.05684317e-01, 1.15749490e-01, 1.15749490e-01, 1.20782077e-01,\n",
       "        1.10716903e-01, 1.05684317e-01, 1.20782077e-01, 1.20782077e-01,\n",
       "        1.25814663e-01, 1.05684317e-01, 1.05684317e-01, 7.54887978e-02,\n",
       "        1.56010182e-01, 1.20782077e-01, 1.20782077e-01, 1.50977596e-01,\n",
       "        6.03910383e-02, 9.05865574e-02, 9.05865574e-02, 1.00651730e-01,\n",
       "        5.53584517e-02, 8.55539709e-02, 7.54887978e-02, 8.05213844e-02,\n",
       "        4.52932787e-02, 8.05213844e-02, 8.55539709e-02, 5.03258652e-02,\n",
       "        5.53584517e-02, 7.54887978e-02, 6.54236248e-02, 6.03910383e-02,\n",
       "        6.54236248e-02, 6.03910383e-02, 7.54887978e-02, 8.55539709e-02,\n",
       "        7.54887978e-02, 7.04562113e-02, 6.54236248e-02, 7.54887978e-02,\n",
       "        7.04562113e-02, 8.05213844e-02, 8.55539709e-02, 8.55539709e-02,\n",
       "        2.51629326e-02, 6.03910383e-02, 4.02606922e-02, 4.02606922e-02,\n",
       "        7.54887978e-02, 6.03910383e-02, 4.02606922e-02, 5.03258652e-02,\n",
       "        2.51629326e-02, 3.52281057e-02, 4.02606922e-02, 4.02606922e-02,\n",
       "        4.52932787e-02, 5.03258652e-02, 3.52281057e-02, 4.02606922e-02,\n",
       "        2.51629326e-02, 4.02606922e-02, 5.53584517e-02, 1.50977596e-02,\n",
       "        5.53584517e-02, 6.03910383e-02, 3.52281057e-02, 4.52932787e-02,\n",
       "        2.51629326e-02, 3.01955191e-02, 4.02606922e-02, 5.53584517e-02,\n",
       "        3.01955191e-02, 2.01303461e-02, 3.52281057e-02, 4.52932787e-02,\n",
       "        3.01955191e-02, 3.01955191e-02, 4.52932787e-02, 3.01955191e-02,\n",
       "        4.52932787e-02, 3.01955191e-02, 0.00000000e+00, 2.01303461e-02,\n",
       "        1.50977596e-02, 2.01303461e-02, 1.50977596e-02, 2.01303461e-02,\n",
       "        2.51629326e-02, 2.51629326e-02, 1.00651730e-02, 1.50977596e-02,\n",
       "        2.51629326e-02, 2.51629326e-02, 2.01303461e-02, 1.50977596e-02,\n",
       "        2.01303461e-02, 3.52281057e-02, 1.50977596e-02, 1.00651730e-02,\n",
       "        3.52281057e-02, 1.50977596e-02, 2.51629326e-02, 5.03258652e-03,\n",
       "        1.50977596e-02, 1.50977596e-02, 2.51629326e-02, 1.50977596e-02,\n",
       "        1.50977596e-02, 1.50977596e-02, 5.03258652e-03, 1.50977596e-02,\n",
       "        2.01303461e-02, 5.03258652e-03, 2.01303461e-02, 0.00000000e+00,\n",
       "        2.51629326e-02, 1.50977596e-02, 1.00651730e-02, 0.00000000e+00,\n",
       "        1.00651730e-02, 0.00000000e+00, 1.00651730e-02, 2.01303461e-02,\n",
       "        1.00651730e-02, 5.03258652e-03, 1.50977596e-02, 0.00000000e+00,\n",
       "        0.00000000e+00, 2.01303461e-02, 1.00651730e-02, 1.00651730e-02,\n",
       "        5.03258652e-03, 1.00651730e-02, 1.00651730e-02, 0.00000000e+00,\n",
       "        1.00651730e-02, 5.03258652e-03, 1.50977596e-02, 1.00651730e-02,\n",
       "        5.03258652e-03, 1.00651730e-02, 5.03258652e-03, 1.50977596e-02,\n",
       "        1.50977596e-02, 2.01303461e-02, 1.00651730e-02, 5.03258652e-03,\n",
       "        1.00651730e-02, 5.03258652e-03, 0.00000000e+00, 1.00651730e-02,\n",
       "        1.00651730e-02, 1.00651730e-02, 0.00000000e+00, 2.01303461e-02,\n",
       "        5.03258652e-03, 0.00000000e+00, 1.50977596e-02, 5.03258652e-03,\n",
       "        5.03258652e-03, 2.01303461e-02, 1.00651730e-02, 1.00651730e-02,\n",
       "        0.00000000e+00, 1.50977596e-02, 0.00000000e+00, 0.00000000e+00,\n",
       "        0.00000000e+00, 0.00000000e+00, 1.50977596e-02, 5.03258652e-03,\n",
       "        0.00000000e+00, 0.00000000e+00, 5.03258652e-03, 0.00000000e+00,\n",
       "        0.00000000e+00, 5.03258652e-03, 5.03258652e-03, 1.00651730e-02,\n",
       "        5.03258652e-03, 5.03258652e-03, 0.00000000e+00, 1.50977596e-02,\n",
       "        1.00651730e-02, 0.00000000e+00, 1.00651730e-02, 1.00651730e-02,\n",
       "        1.00651730e-02, 0.00000000e+00, 5.03258652e-03, 5.03258652e-03,\n",
       "        1.00651730e-02, 0.00000000e+00, 5.03258652e-03, 0.00000000e+00,\n",
       "        0.00000000e+00, 5.03258652e-03, 1.00651730e-02, 0.00000000e+00,\n",
       "        0.00000000e+00, 1.00651730e-02, 0.00000000e+00, 0.00000000e+00,\n",
       "        0.00000000e+00, 5.03258652e-03, 0.00000000e+00, 1.00651730e-02,\n",
       "        1.50977596e-02, 5.03258652e-03, 1.50977596e-02, 1.00651730e-02,\n",
       "        5.03258652e-03, 5.03258652e-03, 0.00000000e+00, 0.00000000e+00,\n",
       "        1.50977596e-02, 5.03258652e-03, 0.00000000e+00, 0.00000000e+00,\n",
       "        1.00651730e-02, 0.00000000e+00, 0.00000000e+00, 0.00000000e+00,\n",
       "        1.50977596e-02, 0.00000000e+00, 5.03258652e-03, 1.00651730e-02,\n",
       "        0.00000000e+00, 5.03258652e-03, 0.00000000e+00, 0.00000000e+00,\n",
       "        0.00000000e+00, 0.00000000e+00, 5.03258652e-03, 5.03258652e-03,\n",
       "        0.00000000e+00, 5.03258652e-03, 5.03258652e-03, 0.00000000e+00,\n",
       "        0.00000000e+00, 0.00000000e+00, 5.03258652e-03, 5.03258652e-03,\n",
       "        5.03258652e-03, 0.00000000e+00, 0.00000000e+00, 0.00000000e+00,\n",
       "        0.00000000e+00, 0.00000000e+00, 0.00000000e+00, 0.00000000e+00,\n",
       "        5.03258652e-03, 0.00000000e+00, 5.03258652e-03, 0.00000000e+00,\n",
       "        0.00000000e+00, 5.03258652e-03, 1.00651730e-02, 5.03258652e-03,\n",
       "        0.00000000e+00, 0.00000000e+00, 0.00000000e+00, 1.50977596e-02,\n",
       "        0.00000000e+00, 0.00000000e+00, 5.03258652e-03, 0.00000000e+00,\n",
       "        0.00000000e+00, 0.00000000e+00, 5.03258652e-03, 5.03258652e-03,\n",
       "        0.00000000e+00, 5.03258652e-03, 0.00000000e+00, 0.00000000e+00,\n",
       "        0.00000000e+00, 5.03258652e-03, 5.03258652e-03, 0.00000000e+00,\n",
       "        5.03258652e-03, 0.00000000e+00, 0.00000000e+00, 0.00000000e+00,\n",
       "        0.00000000e+00, 0.00000000e+00, 5.03258652e-03, 0.00000000e+00,\n",
       "        5.03258652e-03, 0.00000000e+00, 0.00000000e+00, 0.00000000e+00,\n",
       "        0.00000000e+00, 0.00000000e+00, 0.00000000e+00, 0.00000000e+00,\n",
       "        0.00000000e+00, 5.03258652e-03, 0.00000000e+00, 0.00000000e+00,\n",
       "        0.00000000e+00, 0.00000000e+00, 0.00000000e+00, 0.00000000e+00,\n",
       "        5.03258652e-03, 5.03258652e-03, 0.00000000e+00, 0.00000000e+00,\n",
       "        0.00000000e+00, 5.03258652e-03, 0.00000000e+00, 5.03258652e-03,\n",
       "        0.00000000e+00, 0.00000000e+00, 5.03258652e-03, 0.00000000e+00,\n",
       "        0.00000000e+00, 0.00000000e+00, 0.00000000e+00, 0.00000000e+00,\n",
       "        0.00000000e+00, 5.03258652e-03, 0.00000000e+00, 0.00000000e+00,\n",
       "        0.00000000e+00, 5.03258652e-03, 0.00000000e+00, 0.00000000e+00,\n",
       "        0.00000000e+00, 5.03258652e-03, 0.00000000e+00, 5.03258652e-03,\n",
       "        5.03258652e-03, 0.00000000e+00, 5.03258652e-03, 0.00000000e+00,\n",
       "        5.03258652e-03, 0.00000000e+00, 0.00000000e+00, 0.00000000e+00,\n",
       "        0.00000000e+00, 0.00000000e+00, 0.00000000e+00, 0.00000000e+00,\n",
       "        0.00000000e+00, 0.00000000e+00, 5.03258652e-03, 0.00000000e+00,\n",
       "        0.00000000e+00, 0.00000000e+00, 0.00000000e+00, 0.00000000e+00,\n",
       "        0.00000000e+00, 0.00000000e+00, 0.00000000e+00, 5.03258652e-03,\n",
       "        0.00000000e+00, 0.00000000e+00, 0.00000000e+00, 0.00000000e+00,\n",
       "        0.00000000e+00, 0.00000000e+00, 0.00000000e+00, 0.00000000e+00,\n",
       "        0.00000000e+00, 0.00000000e+00, 0.00000000e+00, 0.00000000e+00,\n",
       "        0.00000000e+00, 5.03258652e-03, 0.00000000e+00, 0.00000000e+00,\n",
       "        0.00000000e+00, 0.00000000e+00, 0.00000000e+00, 0.00000000e+00,\n",
       "        5.03258652e-03, 0.00000000e+00, 0.00000000e+00, 0.00000000e+00,\n",
       "        0.00000000e+00, 0.00000000e+00, 5.03258652e-03, 0.00000000e+00,\n",
       "        0.00000000e+00, 0.00000000e+00, 0.00000000e+00, 0.00000000e+00,\n",
       "        0.00000000e+00, 0.00000000e+00, 0.00000000e+00, 0.00000000e+00,\n",
       "        0.00000000e+00, 5.03258652e-03, 0.00000000e+00, 0.00000000e+00,\n",
       "        0.00000000e+00, 0.00000000e+00, 0.00000000e+00, 0.00000000e+00,\n",
       "        0.00000000e+00, 0.00000000e+00, 0.00000000e+00, 0.00000000e+00,\n",
       "        0.00000000e+00, 0.00000000e+00, 0.00000000e+00, 0.00000000e+00,\n",
       "        0.00000000e+00, 0.00000000e+00, 0.00000000e+00, 0.00000000e+00,\n",
       "        0.00000000e+00, 0.00000000e+00, 0.00000000e+00, 0.00000000e+00,\n",
       "        0.00000000e+00, 0.00000000e+00, 0.00000000e+00, 0.00000000e+00,\n",
       "        0.00000000e+00, 0.00000000e+00, 0.00000000e+00, 0.00000000e+00,\n",
       "        0.00000000e+00, 0.00000000e+00, 0.00000000e+00, 0.00000000e+00,\n",
       "        0.00000000e+00, 0.00000000e+00, 0.00000000e+00, 0.00000000e+00,\n",
       "        0.00000000e+00, 0.00000000e+00, 0.00000000e+00, 0.00000000e+00,\n",
       "        0.00000000e+00, 0.00000000e+00, 0.00000000e+00, 0.00000000e+00,\n",
       "        0.00000000e+00, 0.00000000e+00, 0.00000000e+00, 0.00000000e+00,\n",
       "        0.00000000e+00, 0.00000000e+00, 0.00000000e+00, 0.00000000e+00,\n",
       "        0.00000000e+00, 0.00000000e+00, 5.03258652e-03, 0.00000000e+00,\n",
       "        0.00000000e+00, 0.00000000e+00, 0.00000000e+00, 0.00000000e+00,\n",
       "        0.00000000e+00, 0.00000000e+00, 0.00000000e+00, 0.00000000e+00,\n",
       "        0.00000000e+00, 0.00000000e+00, 0.00000000e+00, 0.00000000e+00,\n",
       "        0.00000000e+00, 0.00000000e+00, 0.00000000e+00, 0.00000000e+00,\n",
       "        0.00000000e+00, 5.03258652e-03, 0.00000000e+00, 0.00000000e+00,\n",
       "        0.00000000e+00, 0.00000000e+00, 0.00000000e+00, 0.00000000e+00,\n",
       "        0.00000000e+00, 0.00000000e+00, 0.00000000e+00, 0.00000000e+00,\n",
       "        0.00000000e+00, 0.00000000e+00, 0.00000000e+00, 0.00000000e+00,\n",
       "        0.00000000e+00, 0.00000000e+00, 0.00000000e+00, 0.00000000e+00,\n",
       "        0.00000000e+00, 0.00000000e+00, 0.00000000e+00, 0.00000000e+00,\n",
       "        0.00000000e+00, 0.00000000e+00, 0.00000000e+00, 0.00000000e+00,\n",
       "        5.03258652e-03, 0.00000000e+00, 1.00651730e-02, 0.00000000e+00,\n",
       "        0.00000000e+00, 0.00000000e+00, 0.00000000e+00, 0.00000000e+00,\n",
       "        0.00000000e+00, 0.00000000e+00, 0.00000000e+00, 0.00000000e+00,\n",
       "        0.00000000e+00, 0.00000000e+00, 0.00000000e+00, 0.00000000e+00,\n",
       "        0.00000000e+00, 0.00000000e+00, 0.00000000e+00, 0.00000000e+00,\n",
       "        0.00000000e+00, 0.00000000e+00, 0.00000000e+00, 0.00000000e+00,\n",
       "        0.00000000e+00, 0.00000000e+00, 0.00000000e+00, 0.00000000e+00,\n",
       "        0.00000000e+00, 0.00000000e+00, 0.00000000e+00, 0.00000000e+00,\n",
       "        0.00000000e+00, 0.00000000e+00, 0.00000000e+00, 0.00000000e+00,\n",
       "        0.00000000e+00, 0.00000000e+00, 0.00000000e+00, 0.00000000e+00,\n",
       "        0.00000000e+00, 0.00000000e+00, 0.00000000e+00, 0.00000000e+00,\n",
       "        0.00000000e+00, 0.00000000e+00, 0.00000000e+00, 0.00000000e+00,\n",
       "        0.00000000e+00, 0.00000000e+00, 0.00000000e+00, 0.00000000e+00,\n",
       "        0.00000000e+00, 0.00000000e+00, 0.00000000e+00, 0.00000000e+00,\n",
       "        0.00000000e+00, 0.00000000e+00, 0.00000000e+00, 0.00000000e+00,\n",
       "        0.00000000e+00, 0.00000000e+00, 0.00000000e+00, 0.00000000e+00,\n",
       "        0.00000000e+00, 0.00000000e+00, 0.00000000e+00, 5.03258652e-03,\n",
       "        0.00000000e+00, 0.00000000e+00, 0.00000000e+00, 0.00000000e+00,\n",
       "        0.00000000e+00, 0.00000000e+00, 0.00000000e+00, 0.00000000e+00,\n",
       "        0.00000000e+00, 0.00000000e+00, 0.00000000e+00, 0.00000000e+00,\n",
       "        0.00000000e+00, 0.00000000e+00, 0.00000000e+00, 0.00000000e+00,\n",
       "        0.00000000e+00, 0.00000000e+00, 0.00000000e+00, 0.00000000e+00,\n",
       "        0.00000000e+00, 0.00000000e+00, 0.00000000e+00, 0.00000000e+00,\n",
       "        0.00000000e+00, 0.00000000e+00, 0.00000000e+00, 0.00000000e+00,\n",
       "        0.00000000e+00, 0.00000000e+00, 0.00000000e+00, 0.00000000e+00,\n",
       "        0.00000000e+00, 0.00000000e+00, 0.00000000e+00, 0.00000000e+00,\n",
       "        0.00000000e+00, 0.00000000e+00, 0.00000000e+00, 0.00000000e+00,\n",
       "        0.00000000e+00, 0.00000000e+00, 5.03258652e-03, 0.00000000e+00,\n",
       "        0.00000000e+00, 0.00000000e+00, 0.00000000e+00, 0.00000000e+00,\n",
       "        0.00000000e+00, 0.00000000e+00, 0.00000000e+00, 0.00000000e+00,\n",
       "        0.00000000e+00, 0.00000000e+00, 0.00000000e+00, 0.00000000e+00,\n",
       "        0.00000000e+00, 0.00000000e+00, 0.00000000e+00, 0.00000000e+00,\n",
       "        0.00000000e+00, 0.00000000e+00, 0.00000000e+00, 0.00000000e+00,\n",
       "        0.00000000e+00, 0.00000000e+00, 0.00000000e+00, 0.00000000e+00,\n",
       "        0.00000000e+00, 0.00000000e+00, 0.00000000e+00, 0.00000000e+00,\n",
       "        0.00000000e+00, 0.00000000e+00, 0.00000000e+00, 0.00000000e+00,\n",
       "        0.00000000e+00, 0.00000000e+00, 0.00000000e+00, 0.00000000e+00,\n",
       "        0.00000000e+00, 0.00000000e+00, 0.00000000e+00, 0.00000000e+00,\n",
       "        0.00000000e+00, 0.00000000e+00, 0.00000000e+00, 0.00000000e+00,\n",
       "        0.00000000e+00, 0.00000000e+00, 0.00000000e+00, 0.00000000e+00,\n",
       "        0.00000000e+00, 0.00000000e+00, 0.00000000e+00, 0.00000000e+00,\n",
       "        0.00000000e+00, 0.00000000e+00, 0.00000000e+00, 0.00000000e+00,\n",
       "        0.00000000e+00, 0.00000000e+00, 0.00000000e+00, 0.00000000e+00,\n",
       "        0.00000000e+00, 0.00000000e+00, 0.00000000e+00, 0.00000000e+00,\n",
       "        0.00000000e+00, 0.00000000e+00, 0.00000000e+00, 0.00000000e+00,\n",
       "        0.00000000e+00, 0.00000000e+00, 0.00000000e+00, 0.00000000e+00,\n",
       "        0.00000000e+00, 0.00000000e+00, 0.00000000e+00, 0.00000000e+00,\n",
       "        0.00000000e+00, 0.00000000e+00, 0.00000000e+00, 0.00000000e+00,\n",
       "        0.00000000e+00, 0.00000000e+00, 0.00000000e+00, 0.00000000e+00,\n",
       "        0.00000000e+00, 0.00000000e+00, 0.00000000e+00, 0.00000000e+00,\n",
       "        0.00000000e+00, 0.00000000e+00, 0.00000000e+00, 0.00000000e+00,\n",
       "        0.00000000e+00, 0.00000000e+00, 0.00000000e+00, 0.00000000e+00,\n",
       "        0.00000000e+00, 0.00000000e+00, 0.00000000e+00, 0.00000000e+00,\n",
       "        0.00000000e+00, 0.00000000e+00, 0.00000000e+00, 0.00000000e+00,\n",
       "        0.00000000e+00, 0.00000000e+00, 0.00000000e+00, 0.00000000e+00,\n",
       "        0.00000000e+00, 0.00000000e+00, 0.00000000e+00, 0.00000000e+00,\n",
       "        0.00000000e+00, 0.00000000e+00, 0.00000000e+00, 0.00000000e+00,\n",
       "        0.00000000e+00, 0.00000000e+00, 0.00000000e+00, 0.00000000e+00,\n",
       "        0.00000000e+00, 0.00000000e+00, 0.00000000e+00, 0.00000000e+00,\n",
       "        0.00000000e+00, 0.00000000e+00, 0.00000000e+00, 0.00000000e+00,\n",
       "        0.00000000e+00, 0.00000000e+00, 0.00000000e+00, 0.00000000e+00,\n",
       "        0.00000000e+00, 0.00000000e+00, 0.00000000e+00, 0.00000000e+00,\n",
       "        0.00000000e+00, 0.00000000e+00, 0.00000000e+00, 0.00000000e+00,\n",
       "        0.00000000e+00, 0.00000000e+00, 0.00000000e+00, 0.00000000e+00,\n",
       "        0.00000000e+00, 0.00000000e+00, 0.00000000e+00, 0.00000000e+00,\n",
       "        0.00000000e+00, 0.00000000e+00, 0.00000000e+00, 0.00000000e+00,\n",
       "        0.00000000e+00, 0.00000000e+00, 0.00000000e+00, 0.00000000e+00,\n",
       "        0.00000000e+00, 0.00000000e+00, 0.00000000e+00, 0.00000000e+00,\n",
       "        0.00000000e+00, 0.00000000e+00, 0.00000000e+00, 0.00000000e+00,\n",
       "        0.00000000e+00, 0.00000000e+00, 0.00000000e+00, 0.00000000e+00,\n",
       "        0.00000000e+00, 0.00000000e+00, 0.00000000e+00, 5.03258652e-03]),\n",
       " array([0.00088739, 0.00128781, 0.00168824, ..., 0.40051572, 0.40091615,\n",
       "        0.40131658]),\n",
       " <BarContainer object of 1000 artists>)"
      ]
     },
     "execution_count": 14,
     "metadata": {},
     "output_type": "execute_result"
    },
    {
     "data": {
      "image/png": "[encoded data removed]",
      "text/plain": [
       "<Figure size 864x576 with 1 Axes>"
      ]
     },
     "metadata": {
      "needs_background": "light"
     },
     "output_type": "display_data"
    }
   ],
   "source": [
    "fig, ax = plt.subplots(figsize=(12, 8))\n",
    "\n",
    "ax.hist(date_fc['DPSVIm'], bins=1000, alpha=1, color='red', density=True)\n",
    "ax.hist(date_fs['DPSVIm'], bins=1000, alpha=1, color='green', density=True)\n",
    "ax.hist(date_ff['DPSVIm'], bins=1000, alpha=0.5, color='blue', density=True)"
   ]
  },
  {
   "cell_type": "code",
   "execution_count": 24,
   "metadata": {},
   "outputs": [],
   "source": [
    "p_value = 0.05"
   ]
  },
  {
   "cell_type": "code",
   "execution_count": 25,
   "metadata": {},
   "outputs": [
    {
     "name": "stdout",
     "output_type": "stream",
     "text": [
      "H0: The data come from a normal distribution\n",
      "\n",
      "estatística = 4110.663\n",
      "p-valor = 0.0\n",
      "\n",
      "Reject H0\n"
     ]
    }
   ],
   "source": [
    "# Teste de normalidade (d'agostino e Pearson)\n",
    "\n",
    "print('H0: The data come from a normal distribution\\n')\n",
    "\n",
    "estatistica, p_valor = dagostino_test(date['DpRVI'])\n",
    "\n",
    "print(\"estatística =\", round(estatistica, 3))\n",
    "print(\"p-valor =\", round(p_valor, 3))\n",
    "print()\n",
    "\n",
    "# Estrutura condicional que testará a hipótese nula\n",
    "if p_valor < 0.05:\n",
    "    print(\"Reject H0\")\n",
    "else:\n",
    "    print(\"Accept H0\")"
   ]
  },
  {
   "cell_type": "code",
   "execution_count": 19,
   "metadata": {},
   "outputs": [
    {
     "name": "stdout",
     "output_type": "stream",
     "text": [
      "H0: The data come from a normal distribution\n",
      "\n",
      "statistic = 2050.857\n",
      "critical value = 0.787\n",
      "significance level (%) =  5.0\n",
      "\n",
      "Reject H0\n"
     ]
    }
   ],
   "source": [
    "# Normality_test (Anderson-Darling)\n",
    "print('H0: The data come from a normal distribution\\n')\n",
    "\n",
    "statistic, critical_values, significance_level = and_dar_test(date['RVI'], dist='norm')\n",
    "\n",
    "print(\"statistic =\", round(statistic, 3))\n",
    "print(\"critical value =\", critical_values[2])\n",
    "print(\"significance level (%) = \", significance_level[2])\n",
    "print()\n",
    "\n",
    "if statistic > critical_values[2]:\n",
    "    print(\"Reject H0\")\n",
    "else:\n",
    "    print(\"Accept H0\")"
   ]
  },
  {
   "cell_type": "code",
   "execution_count": 29,
   "metadata": {},
   "outputs": [
    {
     "name": "stdout",
     "output_type": "stream",
     "text": [
      "H0: The two distribution are identical\n",
      "H1: The two distribution are not identical\n",
      "\n",
      "statistic = 1.0\n",
      "p-value = 0.0\n",
      "\n",
      "Reject H0\n"
     ]
    }
   ],
   "source": [
    "# Teste de normalidade (Kolmogorov-Smirnov)\n",
    "\n",
    "print('H0: The two distribution are identical')\n",
    "print('H1: The two distribution are not identical\\n')\n",
    "\n",
    "statistic, p_valor = kol_smi_test(date['PRVI'], 'gamma', args=(15.5, 0, 1./7))\n",
    "\n",
    "print(\"statistic =\", round(statistic, 3))\n",
    "print(\"p-value =\", round(p_valor, 3))\n",
    "print()\n",
    "\n",
    "# Estrutura condicional que testará a hipótese nula\n",
    "if p_valor < p_value:\n",
    "    print(\"Reject H0\")\n",
    "else:\n",
    "    print(\"Accept H0\")"
   ]
  },
  {
   "cell_type": "code",
   "execution_count": 28,
   "metadata": {},
   "outputs": [
    {
     "name": "stdout",
     "output_type": "stream",
     "text": [
      "H0: The data come from a normal distribution\n",
      "\n",
      "estatística = 0.998\n",
      "p-valor = 0.0\n",
      "\n",
      "Reject H0\n"
     ]
    },
    {
     "name": "stderr",
     "output_type": "stream",
     "text": [
      "C:\\Users\\jales\\anaconda3\\envs\\GATEC_projects\\lib\\site-packages\\scipy\\stats\\_morestats.py:1761: UserWarning: p-value may not be accurate for N > 5000.\n",
      "  warnings.warn(\"p-value may not be accurate for N > 5000.\")\n"
     ]
    }
   ],
   "source": [
    "# Teste de normalidade (Shapiro-Wilk)\n",
    "\n",
    "print('H0: The data come from a normal distribution\\n')\n",
    "\n",
    "estatistica, p_valor = shap_wil_test(date['DpRVI'])\n",
    "\n",
    "print(\"estatística =\", round(estatistica, 3))\n",
    "print(\"p-valor =\", round(p_valor, 3))\n",
    "print()\n",
    "\n",
    "# Estrutura condicional que testará a hipótese nula\n",
    "if p_valor < 0.05:\n",
    "    print(\"Reject H0\")\n",
    "else:\n",
    "    print(\"Accept H0\")"
   ]
  },
  {
   "cell_type": "code",
   "execution_count": 29,
   "metadata": {},
   "outputs": [
    {
     "name": "stdout",
     "output_type": "stream",
     "text": [
      "H0: The data come from a normal distribution\n",
      "\n",
      "estatística = 3265.707\n",
      "p-valor = 0.0\n",
      "\n",
      "Reject H0\n"
     ]
    }
   ],
   "source": [
    "# Teste de normalidade (Shapiro-Wilk)\n",
    "\n",
    "print('H0: The data come from a normal distribution\\n')\n",
    "\n",
    "estatistica, p_valor = jarque_bera_test(date['DpRVI'])\n",
    "\n",
    "print(\"estatística =\", round(estatistica, 3))\n",
    "print(\"p-valor =\", round(p_valor, 3))\n",
    "print()\n",
    "\n",
    "# Estrutura condicional que testará a hipótese nula\n",
    "if p_valor < 0.05:\n",
    "    print(\"Reject H0\")\n",
    "else:\n",
    "    print(\"Accept H0\")"
   ]
  },
  {
   "cell_type": "code",
   "execution_count": null,
   "metadata": {},
   "outputs": [],
   "source": []
  }
 ],
 "metadata": {
  "interpreter": {
   "hash": "6dd1ee125c45ed3e8c3e6d2213edb1a3f04bf43d5b003d646ba47774d97fbc9d"
  },
  "kernelspec": {
   "display_name": "Python 3.8.10 ('GATEC_projects')",
   "language": "python",
   "name": "python3"
  },
  "language_info": {
   "codemirror_mode": {
    "name": "ipython",
    "version": 3
   },
   "file_extension": ".py",
   "mimetype": "text/x-python",
   "name": "python",
   "nbconvert_exporter": "python",
   "pygments_lexer": "ipython3",
   "version": "3.8.10"
  },
  "orig_nbformat": 4
 },
 "nbformat": 4,
 "nbformat_minor": 2
}
