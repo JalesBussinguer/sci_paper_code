{
 "cells": [
  {
   "cell_type": "code",
   "execution_count": 20,
   "metadata": {},
   "outputs": [],
   "source": [
    "import matplotlib.pyplot as plt\n",
    "import pandas as pd\n",
    "\n",
    "# ANOVA\n",
    "from scipy.stats import kruskal # Non-Parametric\n",
    "\n",
    "# Statistical Test\n",
    "from scikit_posthocs import posthoc_dunn\n",
    "\n",
    "import os\n"
   ]
  },
  {
   "cell_type": "code",
   "execution_count": 22,
   "metadata": {},
   "outputs": [],
   "source": [
    "dprvi_f = pd.read_csv('D:/thesis_data/VEG_INDICES/stats/florestalDpRVI_reindex.csv')\n",
    "dprvi_s = pd.read_csv('D:/thesis_data/VEG_INDICES/stats/savanicaDpRVI_reindex.csv')\n",
    "dprvi_c = pd.read_csv('D:/thesis_data/VEG_INDICES/stats/campestreDpRVI_reindex.csv')\n",
    "\n",
    "prvi_f = pd.read_csv('D:/thesis_data/VEG_INDICES/stats/florestalPRVI_reindex.csv')\n",
    "prvi_s = pd.read_csv('D:/thesis_data/VEG_INDICES/stats/savanicaPRVI_reindex.csv')\n",
    "prvi_c = pd.read_csv('D:/thesis_data/VEG_INDICES/stats/campestrePRVI_reindex.csv')\n",
    "\n",
    "dpsvi_f = pd.read_csv('D:/thesis_data/VEG_INDICES/stats/florestalDPSVI_reindex.csv')\n",
    "dpsvi_s = pd.read_csv('D:/thesis_data/VEG_INDICES/stats/savanicaDPSVI_reindex.csv')\n",
    "dpsvi_c = pd.read_csv('D:/thesis_data/VEG_INDICES/stats/campestreDPSVI_reindex.csv')\n",
    "\n",
    "dpsvim_f = pd.read_csv('D:/thesis_data/VEG_INDICES/stats/florestalDPSVIm_reindex.csv')\n",
    "dpsvim_s = pd.read_csv('D:/thesis_data/VEG_INDICES/stats/savanicaDPSVIm_reindex.csv')\n",
    "dpsvim_c = pd.read_csv('D:/thesis_data/VEG_INDICES/stats/campestreDPSVIm_reindex.csv')\n",
    "\n",
    "rvi_f = pd.read_csv('D:/thesis_data/VEG_INDICES/stats/florestalRVI_reindex.csv')\n",
    "rvi_s = pd.read_csv('D:/thesis_data/VEG_INDICES/stats/savanicaRVI_reindex.csv')\n",
    "rvi_c = pd.read_csv('D:/thesis_data/VEG_INDICES/stats/campestreRVI_reindex.csv')"
   ]
  },
  {
   "cell_type": "code",
   "execution_count": 24,
   "metadata": {},
   "outputs": [],
   "source": [
    "date_ff = pd.read_csv('D:/thesis_data/VEG_INDICES/samples/florestal/florestal_20170112_distribution.csv')\n",
    "date_fs = pd.read_csv('D:/thesis_data/VEG_INDICES/samples/savanica/savanica_20170112_distribution.csv')\n",
    "date_fc = pd.read_csv('D:/thesis_data/VEG_INDICES/samples/campestre/campestre_20170112_distribution.csv')"
   ]
  },
  {
   "cell_type": "code",
   "execution_count": 25,
   "metadata": {},
   "outputs": [
    {
     "name": "stdout",
     "output_type": "stream",
     "text": [
      "H0: The population median of all groups are equal\n",
      "\n",
      "statistic = 215590.103\n",
      "p-value = 0.0\n",
      "\n",
      "Reject H0\n"
     ]
    }
   ],
   "source": [
    "# Kruskal-Wallis Test\n",
    "\n",
    "print('H0: The population median of all groups are equal\\n')\n",
    "\n",
    "statistic, p_value = kruskal(date_ff['DPSVI'], date_fs['DPSVI'], date_fc['DPSVI'])\n",
    "\n",
    "print(\"statistic =\", round(statistic, 3))\n",
    "print(\"p-value =\", round(p_value, 3))\n",
    "print()\n",
    "\n",
    "# Estrutura condicional que testará a hipótese nula\n",
    "if p_value < 0.05:\n",
    "    print(\"Reject H0\")\n",
    "else:\n",
    "    print(\"Accept H0\")"
   ]
  },
  {
   "cell_type": "code",
   "execution_count": 26,
   "metadata": {},
   "outputs": [],
   "source": [
    "data_concat = pd.DataFrame(columns=['statistic','p_value','H0_status'])"
   ]
  },
  {
   "cell_type": "code",
   "execution_count": 27,
   "metadata": {},
   "outputs": [
    {
     "data": {
      "text/html": [
       "<div>\n",
       "<style scoped>\n",
       "    .dataframe tbody tr th:only-of-type {\n",
       "        vertical-align: middle;\n",
       "    }\n",
       "\n",
       "    .dataframe tbody tr th {\n",
       "        vertical-align: top;\n",
       "    }\n",
       "\n",
       "    .dataframe thead th {\n",
       "        text-align: right;\n",
       "    }\n",
       "</style>\n",
       "<table border=\"1\" class=\"dataframe\">\n",
       "  <thead>\n",
       "    <tr style=\"text-align: right;\">\n",
       "      <th></th>\n",
       "      <th>statistic</th>\n",
       "      <th>p_value</th>\n",
       "      <th>H0_status</th>\n",
       "    </tr>\n",
       "  </thead>\n",
       "  <tbody>\n",
       "  </tbody>\n",
       "</table>\n",
       "</div>"
      ],
      "text/plain": [
       "Empty DataFrame\n",
       "Columns: [statistic, p_value, H0_status]\n",
       "Index: []"
      ]
     },
     "execution_count": 27,
     "metadata": {},
     "output_type": "execute_result"
    }
   ],
   "source": [
    "data_concat"
   ]
  },
  {
   "cell_type": "code",
   "execution_count": 28,
   "metadata": {},
   "outputs": [],
   "source": [
    "data_concat['statistic'] = statistic"
   ]
  },
  {
   "cell_type": "code",
   "execution_count": 29,
   "metadata": {},
   "outputs": [
    {
     "data": {
      "text/html": [
       "<div>\n",
       "<style scoped>\n",
       "    .dataframe tbody tr th:only-of-type {\n",
       "        vertical-align: middle;\n",
       "    }\n",
       "\n",
       "    .dataframe tbody tr th {\n",
       "        vertical-align: top;\n",
       "    }\n",
       "\n",
       "    .dataframe thead th {\n",
       "        text-align: right;\n",
       "    }\n",
       "</style>\n",
       "<table border=\"1\" class=\"dataframe\">\n",
       "  <thead>\n",
       "    <tr style=\"text-align: right;\">\n",
       "      <th></th>\n",
       "      <th>statistic</th>\n",
       "      <th>p_value</th>\n",
       "      <th>H0_status</th>\n",
       "    </tr>\n",
       "  </thead>\n",
       "  <tbody>\n",
       "  </tbody>\n",
       "</table>\n",
       "</div>"
      ],
      "text/plain": [
       "Empty DataFrame\n",
       "Columns: [statistic, p_value, H0_status]\n",
       "Index: []"
      ]
     },
     "execution_count": 29,
     "metadata": {},
     "output_type": "execute_result"
    }
   ],
   "source": [
    "data_concat"
   ]
  },
  {
   "cell_type": "code",
   "execution_count": null,
   "metadata": {},
   "outputs": [],
   "source": []
  }
 ],
 "metadata": {
  "interpreter": {
   "hash": "6dd1ee125c45ed3e8c3e6d2213edb1a3f04bf43d5b003d646ba47774d97fbc9d"
  },
  "kernelspec": {
   "display_name": "Python 3.8.10 ('GATEC_projects')",
   "language": "python",
   "name": "python3"
  },
  "language_info": {
   "codemirror_mode": {
    "name": "ipython",
    "version": 3
   },
   "file_extension": ".py",
   "mimetype": "text/x-python",
   "name": "python",
   "nbconvert_exporter": "python",
   "pygments_lexer": "ipython3",
   "version": "3.8.10"
  },
  "orig_nbformat": 4
 },
 "nbformat": 4,
 "nbformat_minor": 2
}
