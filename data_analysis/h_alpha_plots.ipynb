{
 "cells": [
  {
   "cell_type": "code",
   "execution_count": 1,
   "metadata": {},
   "outputs": [],
   "source": [
    "import matplotlib.pyplot as plt\n",
    "import pandas as pd\n",
    "import numpy as np\n",
    "\n",
    "import warnings\n",
    "warnings.filterwarnings(\"ignore\")"
   ]
  },
  {
   "cell_type": "code",
   "execution_count": 5,
   "metadata": {},
   "outputs": [],
   "source": [
    "entropy_f = pd.read_csv('D:/thesis_data/POL_DECOMP/stats/florestal_entropy_reindex.csv')\n",
    "entropy_s = pd.read_csv('D:/thesis_data/POL_DECOMP/stats/savanica_entropy_reindex.csv')\n",
    "entropy_c = pd.read_csv('D:/thesis_data/POL_DECOMP/stats/campestre_entropy_reindex.csv')\n",
    "\n",
    "alpha_f = pd.read_csv('D:/thesis_data/POL_DECOMP/stats/florestal_alpha_angle_reindex.csv')\n",
    "alpha_s = pd.read_csv('D:/thesis_data/POL_DECOMP/stats/savanica_alpha_angle_reindex.csv')\n",
    "alpha_c = pd.read_csv('D:/thesis_data/POL_DECOMP/stats/campestre_alpha_angle_reindex.csv')"
   ]
  },
  {
   "cell_type": "code",
   "execution_count": 6,
   "metadata": {},
   "outputs": [],
   "source": [
    "red_circle = dict(markerfacecolor='red', marker='o', markeredgecolor='white')\n",
    "\n",
    "pink_patch = dict(facecolor='pink', color='k')\n",
    "blue_patch = dict(facecolor='lightblue', color='k')\n",
    "green_patch = dict(facecolor='lightgreen', color='k')\n",
    "orange_patch = dict(facecolor='orange', color='k')\n",
    "yellow_patch = dict(facecolor='yellow', color='k')\n",
    "\n",
    "median_patch = dict(color='red')"
   ]
  },
  {
   "cell_type": "code",
   "execution_count": 7,
   "metadata": {},
   "outputs": [
    {
     "data": {
      "text/html": [
       "<div>\n",
       "<style scoped>\n",
       "    .dataframe tbody tr th:only-of-type {\n",
       "        vertical-align: middle;\n",
       "    }\n",
       "\n",
       "    .dataframe tbody tr th {\n",
       "        vertical-align: top;\n",
       "    }\n",
       "\n",
       "    .dataframe thead th {\n",
       "        text-align: right;\n",
       "    }\n",
       "</style>\n",
       "<table border=\"1\" class=\"dataframe\">\n",
       "  <thead>\n",
       "    <tr style=\"text-align: right;\">\n",
       "      <th></th>\n",
       "      <th>mean</th>\n",
       "      <th>std</th>\n",
       "      <th>median</th>\n",
       "      <th>percentile_25</th>\n",
       "      <th>percentile_75</th>\n",
       "      <th>date</th>\n",
       "    </tr>\n",
       "  </thead>\n",
       "  <tbody>\n",
       "    <tr>\n",
       "      <th>0</th>\n",
       "      <td>0.791179</td>\n",
       "      <td>0.090554</td>\n",
       "      <td>0.797004</td>\n",
       "      <td>0.730815</td>\n",
       "      <td>0.857895</td>\n",
       "      <td>2017-01-12</td>\n",
       "    </tr>\n",
       "    <tr>\n",
       "      <th>1</th>\n",
       "      <td>0.814539</td>\n",
       "      <td>0.085967</td>\n",
       "      <td>0.821354</td>\n",
       "      <td>0.758583</td>\n",
       "      <td>0.878203</td>\n",
       "      <td>2017-01-24</td>\n",
       "    </tr>\n",
       "    <tr>\n",
       "      <th>2</th>\n",
       "      <td>0.792607</td>\n",
       "      <td>0.089493</td>\n",
       "      <td>0.798736</td>\n",
       "      <td>0.733104</td>\n",
       "      <td>0.858486</td>\n",
       "      <td>2017-02-05</td>\n",
       "    </tr>\n",
       "    <tr>\n",
       "      <th>3</th>\n",
       "      <td>0.780350</td>\n",
       "      <td>0.091958</td>\n",
       "      <td>0.785297</td>\n",
       "      <td>0.718433</td>\n",
       "      <td>0.848035</td>\n",
       "      <td>2017-02-17</td>\n",
       "    </tr>\n",
       "    <tr>\n",
       "      <th>4</th>\n",
       "      <td>0.821025</td>\n",
       "      <td>0.084769</td>\n",
       "      <td>0.828081</td>\n",
       "      <td>0.765898</td>\n",
       "      <td>0.884368</td>\n",
       "      <td>2017-03-01</td>\n",
       "    </tr>\n",
       "    <tr>\n",
       "      <th>...</th>\n",
       "      <td>...</td>\n",
       "      <td>...</td>\n",
       "      <td>...</td>\n",
       "      <td>...</td>\n",
       "      <td>...</td>\n",
       "      <td>...</td>\n",
       "    </tr>\n",
       "    <tr>\n",
       "      <th>131</th>\n",
       "      <td>0.753394</td>\n",
       "      <td>0.094315</td>\n",
       "      <td>0.756983</td>\n",
       "      <td>0.689456</td>\n",
       "      <td>0.821635</td>\n",
       "      <td>2021-10-30</td>\n",
       "    </tr>\n",
       "    <tr>\n",
       "      <th>132</th>\n",
       "      <td>0.803570</td>\n",
       "      <td>0.087911</td>\n",
       "      <td>0.810099</td>\n",
       "      <td>0.745872</td>\n",
       "      <td>0.868390</td>\n",
       "      <td>2021-11-11</td>\n",
       "    </tr>\n",
       "    <tr>\n",
       "      <th>133</th>\n",
       "      <td>0.793834</td>\n",
       "      <td>0.089536</td>\n",
       "      <td>0.799417</td>\n",
       "      <td>0.734468</td>\n",
       "      <td>0.859655</td>\n",
       "      <td>2021-11-23</td>\n",
       "    </tr>\n",
       "    <tr>\n",
       "      <th>134</th>\n",
       "      <td>0.777978</td>\n",
       "      <td>0.092017</td>\n",
       "      <td>0.782786</td>\n",
       "      <td>0.716417</td>\n",
       "      <td>0.845270</td>\n",
       "      <td>2021-12-05</td>\n",
       "    </tr>\n",
       "    <tr>\n",
       "      <th>135</th>\n",
       "      <td>0.777289</td>\n",
       "      <td>0.091823</td>\n",
       "      <td>0.782148</td>\n",
       "      <td>0.715151</td>\n",
       "      <td>0.844370</td>\n",
       "      <td>2021-12-29</td>\n",
       "    </tr>\n",
       "  </tbody>\n",
       "</table>\n",
       "<p>136 rows × 6 columns</p>\n",
       "</div>"
      ],
      "text/plain": [
       "         mean       std    median  percentile_25  percentile_75        date\n",
       "0    0.791179  0.090554  0.797004       0.730815       0.857895  2017-01-12\n",
       "1    0.814539  0.085967  0.821354       0.758583       0.878203  2017-01-24\n",
       "2    0.792607  0.089493  0.798736       0.733104       0.858486  2017-02-05\n",
       "3    0.780350  0.091958  0.785297       0.718433       0.848035  2017-02-17\n",
       "4    0.821025  0.084769  0.828081       0.765898       0.884368  2017-03-01\n",
       "..        ...       ...       ...            ...            ...         ...\n",
       "131  0.753394  0.094315  0.756983       0.689456       0.821635  2021-10-30\n",
       "132  0.803570  0.087911  0.810099       0.745872       0.868390  2021-11-11\n",
       "133  0.793834  0.089536  0.799417       0.734468       0.859655  2021-11-23\n",
       "134  0.777978  0.092017  0.782786       0.716417       0.845270  2021-12-05\n",
       "135  0.777289  0.091823  0.782148       0.715151       0.844370  2021-12-29\n",
       "\n",
       "[136 rows x 6 columns]"
      ]
     },
     "execution_count": 7,
     "metadata": {},
     "output_type": "execute_result"
    }
   ],
   "source": [
    "entropy_c"
   ]
  },
  {
   "cell_type": "code",
   "execution_count": 12,
   "metadata": {},
   "outputs": [
    {
     "data": {
      "text/plain": [
       "<matplotlib.legend.Legend at 0x1d24c2bdfa0>"
      ]
     },
     "execution_count": 12,
     "metadata": {},
     "output_type": "execute_result"
    },
    {
     "data": {
      "image/png": "[encoded data removed]",
      "text/plain": [
       "<Figure size 2160x720 with 6 Axes>"
      ]
     },
     "metadata": {
      "needs_background": "light"
     },
     "output_type": "display_data"
    }
   ],
   "source": [
    "label_size = 20\n",
    "\n",
    "fig, ax = plt.subplots(3, 2, figsize=(30, 10), gridspec_kw={'width_ratios': [25, 1]})\n",
    "\n",
    "ax[0,0].vlines(entropy_f.index[9], ymin=0, ymax=1.5, colors='k', linewidth=2)\n",
    "ax[0,0].vlines(entropy_f.index[21], ymin=0, ymax=1.5, colors='k', linewidth=2)\n",
    "ax[0,0].vlines(entropy_f.index[39], ymin=0, ymax=1.5, colors='k', linewidth=2)\n",
    "ax[0,0].vlines(entropy_f.index[50], ymin=0, ymax=1.5, colors='k', linewidth=2)\n",
    "ax[0,0].vlines(entropy_f.index[67], ymin=0, ymax=1.5, colors='k', linewidth=2)\n",
    "ax[0,0].vlines(entropy_f.index[80], ymin=0, ymax=1.5, colors='k', linewidth=2)\n",
    "ax[0,0].vlines(entropy_f.index[98], ymin=0, ymax=1.5, colors='k', linewidth=2)\n",
    "ax[0,0].vlines(entropy_f.index[111], ymin=0, ymax=1.5, colors='k', linewidth=2)\n",
    "ax[0,0].vlines(entropy_f.index[128], ymin=0, ymax=1.5, colors='k', linewidth=2)\n",
    "#ax[0,0].vlines(entropy_f.index[141], ymin=0, ymax=1.5, colors='k', linewidth=2)\n",
    "\n",
    "ax[0,0].vlines(entropy_f.index, ymin=entropy_f['percentile_25'], ymax=entropy_f['percentile_75'], colors='k', linewidth=2)\n",
    "ax[0,0].plot(entropy_f.index, entropy_f['median'], 'limegreen', marker='o', markersize=9, markeredgewidth=0.5, markeredgecolor='k', linewidth=3, label='median')\n",
    "ax[0,0].plot(entropy_f.index, entropy_f['percentile_25'], 'ok', marker='_')\n",
    "ax[0,0].plot(entropy_f.index, entropy_f['percentile_75'], 'ok', marker='_')\n",
    "\n",
    "ax[0,0].vlines(entropy_s.index, ymin=entropy_s['percentile_25'], ymax=entropy_s['percentile_75'], colors='k', linewidth=2)\n",
    "ax[0,0].plot(entropy_s.index, entropy_s['median'], 'dodgerblue', marker='o', markersize=9, markeredgewidth=0.5, markeredgecolor='k', linewidth=3, label='median')\n",
    "ax[0,0].plot(entropy_s.index, entropy_s['percentile_25'], 'ok', marker='_')\n",
    "ax[0,0].plot(entropy_s.index, entropy_s['percentile_75'], 'ok', marker='_')\n",
    "\n",
    "\n",
    "ax[0,0].tick_params(axis='x', which='both', bottom=True, top=False, labelbottom=False, length=8, width=2)\n",
    "ax[0,0].set_xticks(ticks=entropy_c.index)\n",
    "ax[0,0].tick_params(axis='y', length=5, width=1.5, labelsize=label_size)\n",
    "#ax[0,0].set_ylim([0.40, 0.68])\n",
    "#ax[0,0].set_xlim([-1, 149])\n",
    "ax[0,0].set_ylabel('GF', fontsize=25)\n",
    "ax[0,0].locator_params(axis='x', nbins=60)\n",
    "ax[0,0].locator_params(axis='y', nbins=8)\n",
    "ax[0,0].legend(fontsize=15, loc='upper left')"
   ]
  },
  {
   "cell_type": "code",
   "execution_count": null,
   "metadata": {},
   "outputs": [],
   "source": []
  }
 ],
 "metadata": {
  "kernelspec": {
   "display_name": "Python 3.8.10 ('GATEC_projects')",
   "language": "python",
   "name": "python3"
  },
  "language_info": {
   "codemirror_mode": {
    "name": "ipython",
    "version": 3
   },
   "file_extension": ".py",
   "mimetype": "text/x-python",
   "name": "python",
   "nbconvert_exporter": "python",
   "pygments_lexer": "ipython3",
   "version": "3.8.10"
  },
  "orig_nbformat": 4,
  "vscode": {
   "interpreter": {
    "hash": "8c9e68b39023ce23f906b1305c0d93055264345dee319f420ab5b4a6cff7736b"
   }
  }
 },
 "nbformat": 4,
 "nbformat_minor": 2
}
