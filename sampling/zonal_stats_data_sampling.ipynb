{
 "cells": [
  {
   "cell_type": "code",
   "execution_count": 1,
   "metadata": {},
   "outputs": [],
   "source": [
    "import matplotlib.pyplot as plt\n",
    "import pandas as pd"
   ]
  },
  {
   "cell_type": "code",
   "execution_count": 2,
   "metadata": {},
   "outputs": [],
   "source": [
    "dprvi_f = pd.read_csv('D:/thesis_data/VEG_INDICES/stats/base_/florestal_DpRVI.csv')\n",
    "dprvi_s = pd.read_csv('D:/thesis_data/VEG_INDICES/stats/base_/savanica_DpRVI.csv')\n",
    "dprvi_c = pd.read_csv('D:/thesis_data/VEG_INDICES/stats/base_/campestre_DpRVI.csv')\n",
    "\n",
    "prvi_f = pd.read_csv('D:/thesis_data/VEG_INDICES/stats/base_/florestal_PRVI.csv')\n",
    "prvi_s = pd.read_csv('D:/thesis_data/VEG_INDICES/stats/base_/savanica_PRVI.csv')\n",
    "prvi_c = pd.read_csv('D:/thesis_data/VEG_INDICES/stats/base_/campestre_PRVI.csv')\n",
    "\n",
    "dpsvi_f = pd.read_csv('D:/thesis_data/VEG_INDICES/stats/base_/florestal_DPSVI.csv')\n",
    "dpsvi_s = pd.read_csv('D:/thesis_data/VEG_INDICES/stats/base_/savanica_DPSVI.csv')\n",
    "dpsvi_c = pd.read_csv('D:/thesis_data/VEG_INDICES/stats/base_/campestre_DPSVI.csv')\n",
    "\n",
    "dpsvim_f = pd.read_csv('D:/thesis_data/VEG_INDICES/dpsvim_parameters/stats/florestal_DPSVIm.csv')\n",
    "dpsvim_s = pd.read_csv('D:/thesis_data/VEG_INDICES/dpsvim_parameters/stats/savanica_DPSVIm.csv')\n",
    "dpsvim_c = pd.read_csv('D:/thesis_data/VEG_INDICES/dpsvim_parameters/stats/campestre_DPSVIm.csv')\n",
    "\n",
    "rvi_f = pd.read_csv('D:/thesis_data/VEG_INDICES/stats/base_/florestal_RVI.csv')\n",
    "rvi_s = pd.read_csv('D:/thesis_data/VEG_INDICES/stats/base_/savanica_RVI.csv')\n",
    "rvi_c = pd.read_csv('D:/thesis_data/VEG_INDICES/stats/base_/campestre_RVI.csv')"
   ]
  },
  {
   "cell_type": "code",
   "execution_count": 3,
   "metadata": {},
   "outputs": [],
   "source": [
    "ff_rates = pd.read_csv('D:/thesis_data/VEG_INDICES/rates/FF_rates.csv')\n",
    "fs_rates = pd.read_csv('D:/thesis_data/VEG_INDICES/rates/FS_rates.csv')\n",
    "fc_rates = pd.read_csv('D:/thesis_data/VEG_INDICES/rates/FC_rates.csv')\n",
    "\n",
    "ff_fs_rates = pd.read_csv('D:/thesis_data/VEG_INDICES/rates/FF_FS_rates.csv')\n",
    "ff_fc_rates = pd.read_csv('D:/thesis_data/VEG_INDICES/rates/FF_FC_rates.csv')\n",
    "fs_fc_rates = pd.read_csv('D:/thesis_data/VEG_INDICES/rates/FS_FC_rates.csv')"
   ]
  },
  {
   "cell_type": "code",
   "execution_count": 5,
   "metadata": {},
   "outputs": [],
   "source": [
    "entropy_f = pd.read_csv('D:/thesis_data/POL_DECOMP/stats/florestal_entropy.csv')\n",
    "entropy_s = pd.read_csv('D:/thesis_data/POL_DECOMP/stats/savanica_entropy.csv')\n",
    "entropy_c = pd.read_csv('D:/thesis_data/POL_DECOMP/stats/campestre_entropy.csv')\n",
    "\n",
    "alpha_f = pd.read_csv('D:/thesis_data/POL_DECOMP/stats/florestal_alpha_angle.csv')\n",
    "alpha_s = pd.read_csv('D:/thesis_data/POL_DECOMP/stats/savanica_alpha_angle.csv')\n",
    "alpha_c = pd.read_csv('D:/thesis_data/POL_DECOMP/stats/campestre_alpha_angle.csv')"
   ]
  },
  {
   "cell_type": "code",
   "execution_count": 5,
   "metadata": {},
   "outputs": [],
   "source": [
    "idpdd_f = pd.read_csv('D:/thesis_data/VEG_INDICES/dpsvi_parameters/stats/florestal_IDPDD.csv')\n",
    "idpdd_s = pd.read_csv('D:/thesis_data/VEG_INDICES/dpsvi_parameters/stats/savanica_IDPDD.csv')\n",
    "idpdd_c = pd.read_csv('D:/thesis_data/VEG_INDICES/dpsvi_parameters/stats/campestre_IDPDD.csv')\n",
    "\n",
    "vddpi_f = pd.read_csv('D:/thesis_data/VEG_INDICES/dpsvi_parameters/stats/florestal_VDDPI.csv')\n",
    "vddpi_s = pd.read_csv('D:/thesis_data/VEG_INDICES/dpsvi_parameters/stats/savanica_VDDPI.csv')\n",
    "vddpi_c = pd.read_csv('D:/thesis_data/VEG_INDICES/dpsvi_parameters/stats/campestre_VDDPI.csv')"
   ]
  },
  {
   "cell_type": "code",
   "execution_count": 3,
   "metadata": {},
   "outputs": [],
   "source": [
    "dpdd_f = pd.read_csv('D:/thesis_data/VEG_INDICES/dpsvim_parameters/stats/florestal_DPDD.csv')\n",
    "dpdd_s = pd.read_csv('D:/thesis_data/VEG_INDICES/dpsvim_parameters/stats/savanica_DPDD.csv')\n",
    "dpdd_c = pd.read_csv('D:/thesis_data/VEG_INDICES/dpsvim_parameters/stats/campestre_DPDD.csv')"
   ]
  },
  {
   "cell_type": "code",
   "execution_count": 4,
   "metadata": {},
   "outputs": [],
   "source": [
    "cr_f = pd.read_csv('D:/thesis_data/VEG_INDICES/dpsvim_parameters/stats/florestal_CR.csv')\n",
    "cr_s = pd.read_csv('D:/thesis_data/VEG_INDICES/dpsvim_parameters/stats/savanica_CR.csv')\n",
    "cr_c = pd.read_csv('D:/thesis_data/VEG_INDICES/dpsvim_parameters/stats/campestre_CR.csv')"
   ]
  },
  {
   "cell_type": "code",
   "execution_count": 3,
   "metadata": {},
   "outputs": [],
   "source": [
    "dpsvi10_f = pd.read_csv('D:/thesis_data/VEG_INDICES/dpsvi_parameters/stats/florestal_DPSVI.csv')\n",
    "dpsvi10_s = pd.read_csv('D:/thesis_data/VEG_INDICES/dpsvi_parameters/stats/savanica_DPSVI.csv')\n",
    "dpsvi10_c = pd.read_csv('D:/thesis_data/VEG_INDICES/dpsvi_parameters/stats/campestre_DPSVI.csv')"
   ]
  },
  {
   "cell_type": "code",
   "execution_count": 4,
   "metadata": {},
   "outputs": [],
   "source": [
    "dpsvi15_f = pd.read_csv('D:/thesis_data/VEG_INDICES/dpsvi_parameters/stats/florestal_DPSVI.csv')\n",
    "dpsvi15_s = pd.read_csv('D:/thesis_data/VEG_INDICES/dpsvi_parameters/stats/savanica_DPSVI.csv')\n",
    "dpsvi15_c = pd.read_csv('D:/thesis_data/VEG_INDICES/dpsvi_parameters/stats/campestre_DPSVI.csv')"
   ]
  },
  {
   "cell_type": "code",
   "execution_count": 6,
   "metadata": {},
   "outputs": [],
   "source": [
    "idpdd_f = idpdd_f.reindex(index=idpdd_f.index[::-1])\n",
    "idpdd_f.reset_index(inplace=True, drop=True)\n",
    "idpdd_f.to_csv('D:/thesis_data/VEG_INDICES/dpsvi_parameters/stats/florestal_IDPDD_reindex.csv', index=False)\n",
    "\n",
    "idpdd_s = idpdd_s.reindex(index=idpdd_s.index[::-1])\n",
    "idpdd_s.reset_index(inplace=True, drop=True)\n",
    "idpdd_s.to_csv('D:/thesis_data/VEG_INDICES/dpsvi_parameters/stats/savanica_IDPDD_reindex.csv', index=False)\n",
    "\n",
    "idpdd_c = idpdd_c.reindex(index=idpdd_c.index[::-1])\n",
    "idpdd_c.reset_index(inplace=True, drop=True)\n",
    "idpdd_c.to_csv('D:/thesis_data/VEG_INDICES/dpsvi_parameters/stats/campestre_IDPDD_reindex.csv', index=False)"
   ]
  },
  {
   "cell_type": "code",
   "execution_count": 5,
   "metadata": {},
   "outputs": [],
   "source": [
    "dpdd_f = dpdd_f.reindex(index=dpdd_f.index[::-1])\n",
    "dpdd_f.reset_index(inplace=True, drop=True)\n",
    "dpdd_f.to_csv('D:/thesis_data/VEG_INDICES/dpsvim_parameters/stats/florestal_IDPDD_reindex.csv', index=False)\n",
    "\n",
    "dpdd_s = dpdd_s.reindex(index=dpdd_s.index[::-1])\n",
    "dpdd_s.reset_index(inplace=True, drop=True)\n",
    "dpdd_s.to_csv('D:/thesis_data/VEG_INDICES/dpsvim_parameters/stats/savanica_IDPDD_reindex.csv', index=False)\n",
    "\n",
    "dpdd_c = dpdd_c.reindex(index=dpdd_c.index[::-1])\n",
    "dpdd_c.reset_index(inplace=True, drop=True)\n",
    "dpdd_c.to_csv('D:/thesis_data/VEG_INDICES/dpsvim_parameters/stats/campestre_IDPDD_reindex.csv', index=False)"
   ]
  },
  {
   "cell_type": "code",
   "execution_count": 6,
   "metadata": {},
   "outputs": [],
   "source": [
    "cr_f = cr_f.reindex(index=cr_f.index[::-1])\n",
    "cr_f.reset_index(inplace=True, drop=True)\n",
    "cr_f.to_csv('D:/thesis_data/VEG_INDICES/dpsvim_parameters/stats/florestal_CR_reindex.csv', index=False)\n",
    "\n",
    "cr_s = cr_s.reindex(index=cr_s.index[::-1])\n",
    "cr_s.reset_index(inplace=True, drop=True)\n",
    "cr_s.to_csv('D:/thesis_data/VEG_INDICES/dpsvim_parameters/stats/savanica_CR_reindex.csv', index=False)\n",
    "\n",
    "cr_c = cr_c.reindex(index=cr_c.index[::-1])\n",
    "cr_c.reset_index(inplace=True, drop=True)\n",
    "cr_c.to_csv('D:/thesis_data/VEG_INDICES/dpsvim_parameters/stats/campestre_CR_reindex.csv', index=False)"
   ]
  },
  {
   "cell_type": "code",
   "execution_count": 7,
   "metadata": {},
   "outputs": [],
   "source": [
    "vddpi_f = vddpi_f.reindex(index=vddpi_f.index[::-1])\n",
    "vddpi_f.reset_index(inplace=True, drop=True)\n",
    "vddpi_f.to_csv('D:/thesis_data/VEG_INDICES/dpsvi_parameters/stats/florestal_VDDPI_reindex.csv', index=False)\n",
    "\n",
    "vddpi_s = vddpi_s.reindex(index=vddpi_s.index[::-1])\n",
    "vddpi_s.reset_index(inplace=True, drop=True)\n",
    "vddpi_s.to_csv('D:/thesis_data/VEG_INDICES/dpsvi_parameters/stats/savanica_VDDPI_reindex.csv', index=False)\n",
    "\n",
    "vddpi_c = vddpi_c.reindex(index=vddpi_c.index[::-1])\n",
    "vddpi_c.reset_index(inplace=True, drop=True)\n",
    "vddpi_c.to_csv('D:/thesis_data/VEG_INDICES/dpsvi_parameters/stats/campestre_VDDPI_reindex.csv', index=False)"
   ]
  },
  {
   "cell_type": "code",
   "execution_count": 8,
   "metadata": {},
   "outputs": [],
   "source": [
    "dpsvi15_f = dpsvi15_f.reindex(index=dpsvi15_f.index[::-1])\n",
    "dpsvi15_f.reset_index(inplace=True, drop=True)\n",
    "dpsvi15_f.to_csv('D:/thesis_data/VEG_INDICES/dpsvi_parameters/stats/florestal_DPSVI_reindex.csv', index=False)\n",
    "\n",
    "dpsvi15_s = dpsvi15_s.reindex(index=dpsvi15_s.index[::-1])\n",
    "dpsvi15_s.reset_index(inplace=True, drop=True)\n",
    "dpsvi15_s.to_csv('D:/thesis_data/VEG_INDICES/dpsvi_parameters/stats/savanica_DPSVI_reindex.csv', index=False)\n",
    "\n",
    "dpsvi15_c = dpsvi15_c.reindex(index=dpsvi15_c.index[::-1])\n",
    "dpsvi15_c.reset_index(inplace=True, drop=True)\n",
    "dpsvi15_c.to_csv('D:/thesis_data/VEG_INDICES/dpsvi_parameters/stats/campestre_DPSVI_reindex.csv', index=False)"
   ]
  },
  {
   "cell_type": "code",
   "execution_count": 12,
   "metadata": {},
   "outputs": [],
   "source": [
    "vh_f = pd.read_csv('D:/thesis_data/SAR/stats/florestal_VH.csv')\n",
    "vv_f = pd.read_csv('D:/thesis_data/SAR/stats/florestal_VV.csv')\n",
    "\n",
    "vh_s = pd.read_csv('D:/thesis_data/SAR/stats/savanica_VH.csv')\n",
    "vv_s = pd.read_csv('D:/thesis_data/SAR/stats/savanica_VV.csv')\n",
    "\n",
    "vh_c = pd.read_csv('D:/thesis_data/SAR/stats/campestre_VH.csv')\n",
    "vv_c = pd.read_csv('D:/thesis_data/SAR/stats/campestre_VV.csv')"
   ]
  },
  {
   "cell_type": "code",
   "execution_count": 13,
   "metadata": {},
   "outputs": [],
   "source": [
    "vh_f = vh_f.reindex(index=vh_f.index[::-1])\n",
    "vh_f.reset_index(inplace=True, drop=True)\n",
    "vh_f.to_csv('D:/thesis_data/SAR/stats/florestal_VH_reindex.csv', index=False)\n",
    "\n",
    "vv_f = vv_f.reindex(index=vv_f.index[::-1])\n",
    "vv_f.reset_index(inplace=True, drop=True)\n",
    "vv_f.to_csv('D:/thesis_data/SAR/stats/florestal_VV_reindex.csv', index=False)\n",
    "\n",
    "\n",
    "vh_s = vh_s.reindex(index=vh_s.index[::-1])\n",
    "vh_s.reset_index(inplace=True, drop=True)\n",
    "vh_s.to_csv('D:/thesis_data/SAR/stats/savanica_VH_reindex.csv', index=False)\n",
    "\n",
    "vv_s = vv_s.reindex(index=vv_s.index[::-1])\n",
    "vv_s.reset_index(inplace=True, drop=True)\n",
    "vv_s.to_csv('D:/thesis_data/SAR/stats/savanica_VV_reindex.csv', index=False)\n",
    "\n",
    "\n",
    "vh_c = vh_c.reindex(index=vh_c.index[::-1])\n",
    "vh_c.reset_index(inplace=True, drop=True)\n",
    "vh_c.to_csv('D:/thesis_data/SAR/stats/campestre_VH_reindex.csv', index=False)\n",
    "\n",
    "vv_c = vv_c.reindex(index=vv_c.index[::-1])\n",
    "vv_c.reset_index(inplace=True, drop=True)\n",
    "vv_c.to_csv('D:/thesis_data/SAR/stats/campestre_VV_reindex.csv', index=False)"
   ]
  },
  {
   "cell_type": "code",
   "execution_count": 8,
   "metadata": {},
   "outputs": [],
   "source": []
  },
  {
   "cell_type": "code",
   "execution_count": null,
   "metadata": {},
   "outputs": [],
   "source": [
    "vh_f = vh_f.reindex(index=vh_f.index[::-1])\n",
    "vh_f.reset_index(inplace=True, drop=True)\n",
    "vh_f.to_csv('D:/thesis_data/POL_DECOMP/stats/florestal_VH_reindex.csv', index=False)\n",
    "\n",
    "vv_f = vv_f.reindex(index=vv_f.index[::-1])\n",
    "vv_f.reset_index(inplace=True, drop=True)\n",
    "vv_f.to_csv('D:/thesis_data/POL_DECOMP/stats/florestal_VV_reindex.csv', index=False)"
   ]
  },
  {
   "cell_type": "code",
   "execution_count": 6,
   "metadata": {},
   "outputs": [],
   "source": [
    "entropy_f = entropy_f.reindex(index=entropy_f.index[::-1])\n",
    "entropy_f.reset_index(inplace=True, drop=True)\n",
    "entropy_f.to_csv('D:/thesis_data/POL_DECOMP/stats/florestal_entropy_reindex.csv', index=False)"
   ]
  },
  {
   "cell_type": "code",
   "execution_count": 6,
   "metadata": {},
   "outputs": [],
   "source": [
    "entropy_s = entropy_s.reindex(index=entropy_s.index[::-1])\n",
    "entropy_s.reset_index(inplace=True, drop=True)\n",
    "entropy_s.to_csv('D:/thesis_data/POL_DECOMP/stats/savanica_entropy_reindex.csv', index=False)"
   ]
  },
  {
   "cell_type": "code",
   "execution_count": 7,
   "metadata": {},
   "outputs": [],
   "source": [
    "entropy_c = entropy_c.reindex(index=entropy_c.index[::-1])\n",
    "entropy_c.reset_index(inplace=True, drop=True)\n",
    "entropy_c.to_csv('D:/thesis_data/POL_DECOMP/stats/campestre_entropy_reindex.csv', index=False)"
   ]
  },
  {
   "cell_type": "code",
   "execution_count": 8,
   "metadata": {},
   "outputs": [],
   "source": [
    "alpha_f = alpha_f.reindex(index=alpha_f.index[::-1])\n",
    "alpha_f.reset_index(inplace=True, drop=True)\n",
    "alpha_f.to_csv('D:/thesis_data/POL_DECOMP/stats/florestal_alpha_angle_reindex.csv', index=False)"
   ]
  },
  {
   "cell_type": "code",
   "execution_count": 9,
   "metadata": {},
   "outputs": [],
   "source": [
    "alpha_s = alpha_s.reindex(index=alpha_s.index[::-1])\n",
    "alpha_s.reset_index(inplace=True, drop=True)\n",
    "alpha_s.to_csv('D:/thesis_data/POL_DECOMP/stats/savanica_alpha_angle_reindex.csv', index=False)"
   ]
  },
  {
   "cell_type": "code",
   "execution_count": 10,
   "metadata": {},
   "outputs": [],
   "source": [
    "alpha_c = alpha_c.reindex(index=alpha_c.index[::-1])\n",
    "alpha_c.reset_index(inplace=True, drop=True)\n",
    "alpha_c.to_csv('D:/thesis_data/POL_DECOMP/stats/campestre_alpha_angle_reindex.csv', index=False)"
   ]
  },
  {
   "cell_type": "code",
   "execution_count": 5,
   "metadata": {},
   "outputs": [],
   "source": [
    "dprvi_f = dprvi_f.reindex(index=dprvi_f.index[::-1])\n",
    "dprvi_f.reset_index(inplace=True, drop=True)\n",
    "dprvi_f.to_csv('D:/thesis_data/VEG_INDICES/stats/florestal_DpRVI_reindex.csv', index=False)"
   ]
  },
  {
   "cell_type": "code",
   "execution_count": 4,
   "metadata": {},
   "outputs": [],
   "source": [
    "dprvi_s = dprvi_s.reindex(index=dprvi_s.index[::-1])\n",
    "dprvi_s.reset_index(inplace=True, drop=True)\n",
    "dprvi_s.to_csv('D:/thesis_data/VEG_INDICES/stats/savanica_DpRVI_reindex.csv', index=False)"
   ]
  },
  {
   "cell_type": "code",
   "execution_count": 6,
   "metadata": {},
   "outputs": [],
   "source": [
    "dprvi_c = dprvi_c.reindex(index=dprvi_c.index[::-1])\n",
    "dprvi_c.reset_index(inplace=True, drop=True)\n",
    "dprvi_c.to_csv('D:/thesis_data/VEG_INDICES/stats/campestre_DpRVI_reindex.csv', index=False)"
   ]
  },
  {
   "cell_type": "code",
   "execution_count": 7,
   "metadata": {},
   "outputs": [],
   "source": [
    "prvi_f = prvi_f.reindex(index=prvi_f.index[::-1])\n",
    "prvi_f.reset_index(inplace=True, drop=True)\n",
    "prvi_f.to_csv('D:/thesis_data/VEG_INDICES/stats/florestal_PRVI_reindex.csv', index=False)"
   ]
  },
  {
   "cell_type": "code",
   "execution_count": 8,
   "metadata": {},
   "outputs": [],
   "source": [
    "prvi_c = prvi_c.reindex(index=prvi_c.index[::-1])\n",
    "prvi_c.reset_index(inplace=True, drop=True)\n",
    "prvi_c.to_csv('D:/thesis_data/VEG_INDICES/stats/campestre_PRVI_reindex.csv', index=False)"
   ]
  },
  {
   "cell_type": "code",
   "execution_count": 9,
   "metadata": {},
   "outputs": [],
   "source": [
    "prvi_s = prvi_s.reindex(index=prvi_s.index[::-1])\n",
    "prvi_s.reset_index(inplace=True, drop=True)\n",
    "prvi_s.to_csv('D:/thesis_data/VEG_INDICES/stats/savanica_PRVI_reindex.csv', index=False)"
   ]
  },
  {
   "cell_type": "code",
   "execution_count": 10,
   "metadata": {},
   "outputs": [],
   "source": [
    "dpsvi_f = dpsvi_f.reindex(index=dpsvi_f.index[::-1])\n",
    "dpsvi_f.reset_index(inplace=True, drop=True)\n",
    "dpsvi_f.to_csv('D:/thesis_data/VEG_INDICES/stats/florestal_DPSVI_reindex.csv', index=False)"
   ]
  },
  {
   "cell_type": "code",
   "execution_count": 11,
   "metadata": {},
   "outputs": [],
   "source": [
    "dpsvi_c = dpsvi_c.reindex(index=dpsvi_c.index[::-1])\n",
    "dpsvi_c.reset_index(inplace=True, drop=True)\n",
    "dpsvi_c.to_csv('D:/thesis_data/VEG_INDICES/stats/campestre_DPSVI_reindex.csv', index=False)"
   ]
  },
  {
   "cell_type": "code",
   "execution_count": 12,
   "metadata": {},
   "outputs": [],
   "source": [
    "dpsvi_s = dpsvi_s.reindex(index=dpsvi_s.index[::-1])\n",
    "dpsvi_s.reset_index(inplace=True, drop=True)\n",
    "dpsvi_s.to_csv('D:/thesis_data/VEG_INDICES/stats/savanica_DPSVI_reindex.csv', index=False)"
   ]
  },
  {
   "cell_type": "code",
   "execution_count": 7,
   "metadata": {},
   "outputs": [],
   "source": [
    "dpsvim_f = dpsvim_f.reindex(index=dpsvim_f.index[::-1])\n",
    "dpsvim_f.reset_index(inplace=True, drop=True)\n",
    "dpsvim_f.to_csv('D:/thesis_data/VEG_INDICES/dpsvim_parameters/stats/florestal_DPSVIm_reindex.csv', index=False)"
   ]
  },
  {
   "cell_type": "code",
   "execution_count": 8,
   "metadata": {},
   "outputs": [],
   "source": [
    "dpsvim_c = dpsvim_c.reindex(index=dpsvim_c.index[::-1])\n",
    "dpsvim_c.reset_index(inplace=True, drop=True)\n",
    "dpsvim_c.to_csv('D:/thesis_data/VEG_INDICES/dpsvim_parameters/stats/campestre_DPSVIm_reindex.csv', index=False)"
   ]
  },
  {
   "cell_type": "code",
   "execution_count": 9,
   "metadata": {},
   "outputs": [],
   "source": [
    "dpsvim_s = dpsvim_s.reindex(index=dpsvim_s.index[::-1])\n",
    "dpsvim_s.reset_index(inplace=True, drop=True)\n",
    "dpsvim_s.to_csv('D:/thesis_data/VEG_INDICES/dpsvim_parameters/stats/savanica_DPSVIm_reindex.csv', index=False)"
   ]
  },
  {
   "cell_type": "code",
   "execution_count": 16,
   "metadata": {},
   "outputs": [],
   "source": [
    "rvi_f = rvi_f.reindex(index=rvi_f.index[::-1])\n",
    "rvi_f.reset_index(inplace=True, drop=True)\n",
    "rvi_f.to_csv('D:/thesis_data/VEG_INDICES/stats/florestal_RVI_reindex.csv', index=False)"
   ]
  },
  {
   "cell_type": "code",
   "execution_count": 17,
   "metadata": {},
   "outputs": [],
   "source": [
    "rvi_c = rvi_c.reindex(index=rvi_c.index[::-1])\n",
    "rvi_c.reset_index(inplace=True, drop=True)\n",
    "rvi_c.to_csv('D:/thesis_data/VEG_INDICES/stats/campestre_RVI_reindex.csv', index=False)"
   ]
  },
  {
   "cell_type": "code",
   "execution_count": 18,
   "metadata": {},
   "outputs": [],
   "source": [
    "rvi_s = rvi_s.reindex(index=rvi_s.index[::-1])\n",
    "rvi_s.reset_index(inplace=True, drop=True)\n",
    "rvi_s.to_csv('D:/thesis_data/VEG_INDICES/stats/savanica_RVI_reindex.csv', index=False)"
   ]
  },
  {
   "cell_type": "code",
   "execution_count": null,
   "metadata": {},
   "outputs": [],
   "source": []
  },
  {
   "cell_type": "code",
   "execution_count": null,
   "metadata": {},
   "outputs": [],
   "source": [
    "fig, ax = plt.subplots(figsize=(30,3))\n",
    "ax.plot(prvi_f.index, dpsvi_f['median'], 'g', marker='.')\n",
    "ax.plot(prvi_s.index, dpsvi_s['median'], 'b', marker='.')\n",
    "ax.plot(prvi_c.index, dpsvi_c['median'], 'r', marker='.')\n",
    "\n",
    "plt.xticks(rotation=45)\n",
    "ax.set_xlabel('Index')\n",
    "ax.set_ylabel('Populational Median - Spatial')"
   ]
  },
  {
   "cell_type": "code",
   "execution_count": null,
   "metadata": {},
   "outputs": [],
   "source": [
    "import scipy.stats as sp\n",
    "\n",
    "ff_dprvi_linreg = sp.stats.linregress(dprvi_f['median'], ff_rates['dprvi'])\n",
    "ff_dprvi_linreg_predict_y = ff_dprvi_linreg.intercept + ff_dprvi_linreg.slope * dprvi_f['median']\n",
    "\n",
    "fs_dprvi_linreg = sp.stats.linregress(dprvi_s['median'], fs_rates['dprvi'])\n",
    "fs_dprvi_linreg_predict_y = fs_dprvi_linreg.intercept + fs_dprvi_linreg.slope * dprvi_s['median']\n",
    "\n",
    "fc_dprvi_linreg = sp.stats.linregress(dprvi_c['median'], fc_rates['dprvi'])\n",
    "fc_dprvi_linreg_predict_y = fc_dprvi_linreg.intercept + fc_dprvi_linreg.slope * dprvi_c['median']\n",
    "\n",
    "\n",
    "ff_prvi_linreg = sp.stats.linregress(prvi_f['median'], ff_rates['prvi'])\n",
    "ff_prvi_linreg_predict_y = ff_prvi_linreg.intercept + ff_prvi_linreg.slope * prvi_f['median']\n",
    "\n",
    "fs_prvi_linreg = sp.stats.linregress(prvi_s['median'], fs_rates['prvi'])\n",
    "fs_prvi_linreg_predict_y = fs_prvi_linreg.intercept + fs_prvi_linreg.slope * prvi_s['median']\n",
    "\n",
    "fc_prvi_linreg = sp.stats.linregress(prvi_c['median'], fc_rates['prvi'])\n",
    "fc_prvi_linreg_predict_y = fc_prvi_linreg.intercept + fc_prvi_linreg.slope * prvi_c['median']\n",
    "\n",
    "\n",
    "ff_dpsvi_linreg = sp.stats.linregress(dpsvi_f['median'], ff_rates['dpsvi'])\n",
    "ff_dpsvi_linreg_predict_y = ff_dpsvi_linreg.intercept + ff_dpsvi_linreg.slope * dpsvi_f['median']\n",
    "\n",
    "fs_dpsvi_linreg = sp.stats.linregress(dpsvi_s['median'], fs_rates['dpsvi'])\n",
    "fs_dpsvi_linreg_predict_y = fs_dpsvi_linreg.intercept + fs_dpsvi_linreg.slope * dpsvi_s['median']\n",
    "\n",
    "fc_dpsvi_linreg = sp.stats.linregress(dpsvi_c['median'], fc_rates['dpsvi'])\n",
    "fc_dpsvi_linreg_predict_y = fc_dpsvi_linreg.intercept + fc_dpsvi_linreg.slope * dpsvi_c['median']\n",
    "\n",
    "\n",
    "ff_dpsvim_linreg = sp.stats.linregress(dpsvim_f['median'], ff_rates['dpsvim'])\n",
    "ff_dpsvim_linreg_predict_y = ff_dpsvim_linreg.intercept + ff_dpsvim_linreg.slope * dpsvim_f['median']\n",
    "\n",
    "fs_dpsvim_linreg = sp.stats.linregress(dpsvim_s['median'], fs_rates['dpsvim'])\n",
    "fs_dpsvim_linreg_predict_y = fs_dpsvim_linreg.intercept + fs_dpsvim_linreg.slope * dpsvim_s['median']\n",
    "\n",
    "fc_dpsvim_linreg = sp.stats.linregress(dpsvim_c['median'], fc_rates['dpsvim'])\n",
    "fc_dpsvim_linreg_predict_y = fc_dpsvim_linreg.intercept + fc_dpsvim_linreg.slope * dpsvim_c['median']\n",
    "\n",
    "ff_rvi_linreg = sp.stats.linregress(rvi_f['median'], ff_rates['rvi'])\n",
    "ff_rvi_linreg_predict_y = ff_rvi_linreg.intercept + ff_rvi_linreg.slope * rvi_f['median']\n",
    "\n",
    "fs_rvi_linreg = sp.stats.linregress(rvi_s['median'], fs_rates['rvi'])\n",
    "fs_rvi_linreg_predict_y = fs_rvi_linreg.intercept + fs_rvi_linreg.slope * rvi_s['median']\n",
    "\n",
    "fc_rvi_linreg = sp.stats.linregress(rvi_c['median'], fc_rates['rvi'])\n",
    "fc_rvi_linreg_predict_y = fc_rvi_linreg.intercept + fc_rvi_linreg.slope * rvi_c['median']"
   ]
  },
  {
   "cell_type": "code",
   "execution_count": null,
   "metadata": {},
   "outputs": [],
   "source": [
    "fig, ax = plt.subplots(3,5, figsize=(30, 10))\n",
    "\n",
    "ax[0,0].set_title('DpRVI', fontsize=25)\n",
    "ax[0,0].scatter(dprvi_f['median'], ff_rates['dprvi'], color='dodgerblue')\n",
    "ax[0,0].plot(dprvi_f['median'], ff_dprvi_linreg_predict_y, 'r-')\n",
    "#ax[0,0].text(0.54, 0.99, f'r-squared = {round(ff_dprvi_linreg.rvalue, 2)}')\n",
    "ax[0,0].set_ylabel('H0 rej rate - F', fontsize=15)\n",
    "ax[0,0].locator_params(axis='x', nbins=8)\n",
    "\n",
    "ax[1,0].scatter(dprvi_s['median'], fs_rates['dprvi'], color='dodgerblue')\n",
    "ax[1,0].plot(dprvi_s['median'], fs_dprvi_linreg_predict_y, 'r-')\n",
    "#ax[1,0].text(0.54, 0.99, f'r-squared = {round(ff_dprvi_linreg.rvalue, 2)}')\n",
    "ax[1,0].set_ylabel('H0 rej rate - S', fontsize=15)\n",
    "ax[1,0].locator_params(axis='x', nbins=8)\n",
    "\n",
    "ax[2,0].scatter(dprvi_c['median'], fc_rates['dprvi'], color='dodgerblue')\n",
    "ax[2,0].plot(dprvi_c['median'], fc_dprvi_linreg_predict_y, 'r-')\n",
    "#ax[2,0].text(0.54, 0.99, f'r-squared = {round(ff_dprvi_linreg.rvalue, 2)}')\n",
    "ax[2,0].set_ylabel('H0 rej rate - S', fontsize=15)\n",
    "ax[2,0].locator_params(axis='x', nbins=8)\n",
    "\n",
    "ax[0,1].set_title('PRVI', fontsize=25)\n",
    "ax[0,1].scatter(prvi_f['median'], ff_rates['prvi'], color='limegreen')\n",
    "ax[0,1].plot(prvi_f['median'], ff_prvi_linreg_predict_y, 'r-')\n",
    "#ax[0,1].text(0.54, 0.99, f'r-squared = {round(ff_dprvi_linreg.rvalue, 2)}')\n",
    "ax[0,1].locator_params(axis='x', nbins=8)\n",
    "\n",
    "ax[1,1].scatter(prvi_s['median'], fs_rates['prvi'], color='limegreen')\n",
    "ax[1,1].plot(prvi_s['median'], fs_prvi_linreg_predict_y, 'r-')\n",
    "#ax[0,1].text(0.54, 0.99, f'r-squared = {round(ff_dprvi_linreg.rvalue, 2)}')\n",
    "ax[1,1].locator_params(axis='x', nbins=8)\n",
    "\n",
    "ax[2,1].scatter(prvi_c['median'], fc_rates['prvi'], color='limegreen')\n",
    "ax[2,1].plot(prvi_c['median'], fc_prvi_linreg_predict_y, 'r-')\n",
    "#ax[0,1].text(0.54, 0.99, f'r-squared = {round(ff_dprvi_linreg.rvalue, 2)}')\n",
    "ax[2,1].locator_params(axis='x', nbins=8)\n",
    "\n",
    "ax[0,2].set_title('DPSVI', fontsize=25)\n",
    "ax[0,2].scatter(dpsvi_f['median'], ff_rates['dpsvi'], color='gold')\n",
    "ax[0,2].plot(dpsvi_f['median'], ff_dpsvi_linreg_predict_y, 'r-')\n",
    "#ax[0,1].text(0.54, 0.99, f'r-squared = {round(ff_dprvi_linreg.rvalue, 2)}')\n",
    "ax[0,2].locator_params(axis='x', nbins=8)\n",
    "\n",
    "ax[1,2].scatter(dpsvi_s['median'], fs_rates['dpsvi'], color='gold')\n",
    "ax[1,2].plot(dpsvi_s['median'], fs_dpsvi_linreg_predict_y, 'r-')\n",
    "#ax[0,1].text(0.54, 0.99, f'r-squared = {round(ff_dprvi_linreg.rvalue, 2)}')\n",
    "ax[1,2].locator_params(axis='x', nbins=8)\n",
    "\n",
    "ax[2,2].scatter(dpsvi_c['median'], fc_rates['dpsvi'], color='gold')\n",
    "ax[2,2].plot(dpsvi_c['median'], fc_dpsvi_linreg_predict_y, 'r-')\n",
    "#ax[0,1].text(0.54, 0.99, f'r-squared = {round(ff_dprvi_linreg.rvalue, 2)}')\n",
    "ax[2,2].locator_params(axis='x', nbins=8)\n",
    "\n",
    "ax[0,3].set_title('DPSVIm', fontsize=25)\n",
    "ax[0,3].scatter(dpsvim_f['median'], ff_rates['dpsvim'], color='orange')\n",
    "ax[0,3].plot(dpsvim_f['median'], ff_dpsvim_linreg_predict_y, 'r-')\n",
    "#ax[0,1].text(0.54, 0.99, f'r-squared = {round(ff_dprvi_linreg.rvalue, 2)}')\n",
    "ax[0,3].locator_params(axis='x', nbins=8)\n",
    "\n",
    "ax[1,3].scatter(dpsvim_s['median'], fs_rates['dpsvim'], color='orange')\n",
    "ax[1,3].plot(dpsvim_s['median'], fs_dpsvim_linreg_predict_y, 'r-')\n",
    "#ax[0,1].text(0.54, 0.99, f'r-squared = {round(ff_dprvi_linreg.rvalue, 2)}')\n",
    "ax[1,3].locator_params(axis='x', nbins=8)\n",
    "\n",
    "ax[2,3].scatter(dpsvim_c['median'], fc_rates['dpsvim'], color='orange')\n",
    "ax[2,3].plot(dpsvim_c['median'], fc_dpsvim_linreg_predict_y, 'r-')\n",
    "#ax[0,1].text(0.54, 0.99, f'r-squared = {round(ff_dprvi_linreg.rvalue, 2)}')\n",
    "ax[2,3].locator_params(axis='x', nbins=8)\n",
    "\n",
    "ax[0,4].set_title('RVI', fontsize=25)\n",
    "ax[0,4].scatter(rvi_f['median'], ff_rates['rvi'], color='coral')\n",
    "ax[0,4].plot(rvi_f['median'], ff_rvi_linreg_predict_y, 'r-')\n",
    "#ax[0,1].text(0.54, 0.99, f'r-squared = {round(ff_dprvi_linreg.rvalue, 2)}')\n",
    "ax[0,4].locator_params(axis='x', nbins=8)\n",
    "\n",
    "ax[1,4].scatter(rvi_s['median'], fs_rates['rvi'], color='coral')\n",
    "ax[1,4].plot(rvi_s['median'], fs_rvi_linreg_predict_y, 'r-')\n",
    "#ax[0,1].text(0.54, 0.99, f'r-squared = {round(ff_dprvi_linreg.rvalue, 2)}')\n",
    "ax[1,4].locator_params(axis='x', nbins=8)\n",
    "\n",
    "ax[2,4].scatter(rvi_c['median'], fc_rates['rvi'], color='coral')\n",
    "ax[2,4].plot(rvi_c['median'], fc_rvi_linreg_predict_y, 'r-')\n",
    "#ax[0,1].text(0.54, 0.99, f'r-squared = {round(ff_dprvi_linreg.rvalue, 2)}')\n",
    "ax[2,4].locator_params(axis='x', nbins=8)\n"
   ]
  },
  {
   "cell_type": "code",
   "execution_count": null,
   "metadata": {},
   "outputs": [],
   "source": []
  }
 ],
 "metadata": {
  "interpreter": {
   "hash": "8c9e68b39023ce23f906b1305c0d93055264345dee319f420ab5b4a6cff7736b"
  },
  "kernelspec": {
   "display_name": "Python 3.8.10 ('GATEC_projects')",
   "language": "python",
   "name": "python3"
  },
  "language_info": {
   "codemirror_mode": {
    "name": "ipython",
    "version": 3
   },
   "file_extension": ".py",
   "mimetype": "text/x-python",
   "name": "python",
   "nbconvert_exporter": "python",
   "pygments_lexer": "ipython3",
   "version": "3.8.16"
  },
  "orig_nbformat": 4
 },
 "nbformat": 4,
 "nbformat_minor": 2
}
