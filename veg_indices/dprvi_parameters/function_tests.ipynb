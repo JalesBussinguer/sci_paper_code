{
 "cells": [
  {
   "cell_type": "markdown",
   "id": "offshore-laundry",
   "metadata": {},
   "source": [
    "### Importação das bibliotecas"
   ]
  },
  {
   "cell_type": "code",
   "execution_count": 1,
   "id": "typical-basic",
   "metadata": {},
   "outputs": [],
   "source": [
    "import numpy as np\n",
    "import matplotlib.pyplot as plt\n",
    "import pandas as pd\n",
    "import geopandas as gpd\n",
    "\n",
    "import rasterio as rst\n",
    "from rasterio.mask import mask"
   ]
  },
  {
   "cell_type": "code",
   "execution_count": 8,
   "id": "7a9b9a6a",
   "metadata": {},
   "outputs": [],
   "source": [
    "florestal = gpd.read_file('D:/thesis_data/ROI/classes/form_florestal_30m_32723.geojson')\n",
    "savanica = gpd.read_file('D:/thesis_data/ROI/classes/form_savanica_30m_32723.geojson')\n",
    "campestre = gpd.read_file('D:/thesis_data/ROI/classes/form_campestre_30m_32723.geojson')\n",
    "agua = gpd.read_file('D:/thesis_data/ROI/classes/form_florestal_10m_32723.GEOJSON')"
   ]
  },
  {
   "cell_type": "code",
   "execution_count": 11,
   "id": "1a87eb1b",
   "metadata": {},
   "outputs": [],
   "source": [
    "geometries = [geom for geom in campestre.geometry]\n",
    "\n",
    "with rst.open('D:/thesis_data/VEG_INDICES/dprvi_parameters/dprvi_parameters_20170112T084450.tif') as raster:\n",
    "    out_image, out_trasnform = mask(raster, geometries, crop=True, nodata=np.nan)\n",
    "\n",
    "    dprvi = out_image[0]\n",
    "    dop = out_image[1]\n",
    "    lambda1 = out_image[2]\n",
    "    lambda2 = out_image[3]\n",
    "    beta = out_image[4]"
   ]
  },
  {
   "cell_type": "code",
   "execution_count": 12,
   "id": "25244c51",
   "metadata": {},
   "outputs": [],
   "source": [
    "theta = np.arccos(beta)\n",
    "r = dop\n",
    "\n",
    "colors = theta\n",
    "\n",
    "fig = plt.figure(figsize=(8,5))\n",
    "ax = fig.add_subplot(111, polar=True)\n",
    "\n",
    "ax.scatter(theta, r, c=colors, cmap='hsv', alpha=0.75)\n",
    "\n",
    "ax.set_thetamin(0)\n",
    "ax.set_thetamax(60)\n",
    "\n",
    "ax.set_rmax(1.0)\n",
    "ax.set_theta_zero_location('NE', offset=15)"
   ]
  },
  {
   "cell_type": "code",
   "execution_count": null,
   "id": "c0d8690d",
   "metadata": {},
   "outputs": [],
   "source": []
  }
 ],
 "metadata": {
  "kernelspec": {
   "display_name": "Python 3.8.10 ('GATEC_projects')",
   "language": "python",
   "name": "python3"
  },
  "language_info": {
   "codemirror_mode": {
    "name": "ipython",
    "version": 3
   },
   "file_extension": ".py",
   "mimetype": "text/x-python",
   "name": "python",
   "nbconvert_exporter": "python",
   "pygments_lexer": "ipython3",
   "version": "3.8.10"
  },
  "vscode": {
   "interpreter": {
    "hash": "8c9e68b39023ce23f906b1305c0d93055264345dee319f420ab5b4a6cff7736b"
   }
  }
 },
 "nbformat": 4,
 "nbformat_minor": 5
}
